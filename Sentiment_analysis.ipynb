{
 "cells": [
  {
   "cell_type": "code",
   "execution_count": 17,
   "id": "4590706a",
   "metadata": {},
   "outputs": [
    {
     "name": "stdout",
     "output_type": "stream",
     "text": [
      "========== Loading data ==========\n",
      "Number of examples in the training dataset: 16000\n",
      "Number of examples in the validation dataset: 800\n",
      "Number of examples in the testing dataset: 800\n",
      "========== Vectorizing data ==========\n",
      "Training started for epoch 1\n"
     ]
    },
    {
     "name": "stderr",
     "output_type": "stream",
     "text": [
      "100%|███████████████████████████████████████| 1000/1000 [01:15<00:00, 13.23it/s]\n"
     ]
    },
    {
     "name": "stdout",
     "output_type": "stream",
     "text": [
      "tensor(1.6426)\n",
      "Training completed for epoch 1\n",
      "Training accuracy for epoch 1: 0.2285\n",
      "Validation started for epoch 1\n"
     ]
    },
    {
     "name": "stderr",
     "output_type": "stream",
     "text": [
      "100%|████████████████████████████████████████| 800/800 [00:01<00:00, 456.63it/s]\n"
     ]
    },
    {
     "name": "stdout",
     "output_type": "stream",
     "text": [
      "Validation completed for epoch 1\n",
      "Validation accuracy for epoch 1: 0.2\n",
      "Training started for epoch 2\n"
     ]
    },
    {
     "name": "stderr",
     "output_type": "stream",
     "text": [
      "100%|███████████████████████████████████████| 1000/1000 [01:11<00:00, 14.03it/s]\n"
     ]
    },
    {
     "name": "stdout",
     "output_type": "stream",
     "text": [
      "tensor(1.6334)\n",
      "Training completed for epoch 2\n",
      "Training accuracy for epoch 2: 0.23725\n",
      "Validation started for epoch 2\n"
     ]
    },
    {
     "name": "stderr",
     "output_type": "stream",
     "text": [
      "100%|████████████████████████████████████████| 800/800 [00:01<00:00, 475.14it/s]\n"
     ]
    },
    {
     "name": "stdout",
     "output_type": "stream",
     "text": [
      "Validation completed for epoch 2\n",
      "Validation accuracy for epoch 2: 0.3\n",
      "Training started for epoch 3\n"
     ]
    },
    {
     "name": "stderr",
     "output_type": "stream",
     "text": [
      "100%|███████████████████████████████████████| 1000/1000 [01:13<00:00, 13.62it/s]\n"
     ]
    },
    {
     "name": "stdout",
     "output_type": "stream",
     "text": [
      "tensor(1.6350)\n",
      "Training completed for epoch 3\n",
      "Training accuracy for epoch 3: 0.2295\n",
      "Validation started for epoch 3\n"
     ]
    },
    {
     "name": "stderr",
     "output_type": "stream",
     "text": [
      "100%|████████████████████████████████████████| 800/800 [00:02<00:00, 381.15it/s]\n"
     ]
    },
    {
     "name": "stdout",
     "output_type": "stream",
     "text": [
      "Validation completed for epoch 3\n",
      "Validation accuracy for epoch 3: 0.26625\n",
      "Training started for epoch 4\n"
     ]
    },
    {
     "name": "stderr",
     "output_type": "stream",
     "text": [
      "100%|███████████████████████████████████████| 1000/1000 [01:12<00:00, 13.74it/s]\n"
     ]
    },
    {
     "name": "stdout",
     "output_type": "stream",
     "text": [
      "tensor(1.6364)\n",
      "Training completed for epoch 4\n",
      "Training accuracy for epoch 4: 0.2276875\n",
      "Validation started for epoch 4\n"
     ]
    },
    {
     "name": "stderr",
     "output_type": "stream",
     "text": [
      "100%|████████████████████████████████████████| 800/800 [00:01<00:00, 450.09it/s]\n"
     ]
    },
    {
     "name": "stdout",
     "output_type": "stream",
     "text": [
      "Validation completed for epoch 4\n",
      "Validation accuracy for epoch 4: 0.06375\n",
      "Training started for epoch 5\n"
     ]
    },
    {
     "name": "stderr",
     "output_type": "stream",
     "text": [
      "100%|███████████████████████████████████████| 1000/1000 [01:10<00:00, 14.20it/s]\n"
     ]
    },
    {
     "name": "stdout",
     "output_type": "stream",
     "text": [
      "tensor(1.6422)\n",
      "Training completed for epoch 5\n",
      "Training accuracy for epoch 5: 0.2300625\n",
      "Validation started for epoch 5\n"
     ]
    },
    {
     "name": "stderr",
     "output_type": "stream",
     "text": [
      "100%|████████████████████████████████████████| 800/800 [00:01<00:00, 460.51it/s]"
     ]
    },
    {
     "name": "stdout",
     "output_type": "stream",
     "text": [
      "Validation completed for epoch 5\n",
      "Validation accuracy for epoch 5: 0.1375\n"
     ]
    },
    {
     "name": "stderr",
     "output_type": "stream",
     "text": [
      "\n"
     ]
    }
   ],
   "source": [
    "import numpy as np\n",
    "import torch\n",
    "import torch.nn as nn\n",
    "import torch.optim as optim\n",
    "import string\n",
    "import json\n",
    "import pickle\n",
    "\n",
    "unk = '<UNK>'\n",
    "\n",
    "class RNN(nn.Module):\n",
    "    def __init__(self, input_dim, h):\n",
    "        super(RNN, self).__init__()\n",
    "        self.h = h\n",
    "        self.numOfLayer = 1\n",
    "        self.rnn = nn.RNN(input_dim, h, self.numOfLayer, nonlinearity='tanh')\n",
    "        self.W = nn.Linear(h, 5)\n",
    "        self.softmax = nn.LogSoftmax(dim=1)\n",
    "        self.loss = nn.NLLLoss()\n",
    "\n",
    "    def compute_Loss(self, predicted_vector, gold_label):\n",
    "        return self.loss(predicted_vector, gold_label)\n",
    "\n",
    "    def forward(self, inputs):\n",
    "        hidden = torch.zeros(self.numOfLayer, 1, self.h)\n",
    "        _, hidden = self.rnn(inputs, hidden)\n",
    "        output_layer = self.W(hidden)[:, -1, :]\n",
    "        predicted_vector = self.softmax(output_layer)\n",
    "        return predicted_vector\n",
    "\n",
    "def load_data(train_data, val_data, test_data):\n",
    "    with open(train_data) as training_f:\n",
    "        training = json.load(training_f)\n",
    "    with open(val_data) as valid_f:\n",
    "        validation = json.load(valid_f)\n",
    "    with open(test_data) as test_f:\n",
    "        testing = json.load(test_f)\n",
    "\n",
    "    tra = []\n",
    "    val = []\n",
    "    test = []\n",
    "\n",
    "    for elt in training:\n",
    "        tra.append((elt[\"text\"].split(), int(elt[\"stars\"] - 1)))\n",
    "    for elt in validation:\n",
    "        val.append((elt[\"text\"].split(), int(elt[\"stars\"] - 1)))\n",
    "    for elt in testing:\n",
    "        test.append((elt[\"text\"].split(), int(elt[\"stars\"] - 1)))\n",
    "\n",
    "    return tra, val, test\n",
    "\n",
    "if __name__ == \"__main__\":\n",
    "    print(\"========== Loading data ==========\")\n",
    "    train_data, valid_data, test_data = load_data(\"training.json\", \"validation.json\", \"test.json\")\n",
    "\n",
    "    num_train_examples = len(train_data)\n",
    "    print(\"Number of examples in the training dataset:\", num_train_examples)\n",
    "\n",
    "    num_val_examples = len(valid_data)\n",
    "    print(\"Number of examples in the validation dataset:\", num_val_examples)\n",
    "\n",
    "    num_test_examples = len(test_data)\n",
    "    print(\"Number of examples in the testing dataset:\", num_test_examples)\n",
    "   \n",
    "\n",
    "    # Think about the type of function that an RNN describes. To apply it, you will need to convert the text data into vector representations.\n",
    "    # Further, think about where the vectors will come from. There are 3 reasonable choices:\n",
    "    # 1) Randomly assign the input to vectors and learn better embeddings during training; see the PyTorch documentation for guidance\n",
    "    # 2) Assign the input to vectors using pretrained word embeddings. We recommend any of {Word2Vec, GloVe, FastText}. Then, you do not train/update these embeddings.\n",
    "    # 3) You do the same as 2) but you train (this is called fine-tuning) the pretrained embeddings further.\n",
    "    # Option 3 will be the most time consuming, so we do not recommend starting with this\n",
    "\n",
    "    print(\"========== Vectorizing data ==========\")\n",
    "    model = RNN(50, h=50)  # Fill in parameters\n",
    "    # optimizer = optim.SGD(model.parameters(), lr=0.01, momentum=0.9)\n",
    "    optimizer = optim.Adam(model.parameters(), lr=0.01)\n",
    "    word_embedding = pickle.load(open('./word_embedding.pkl', 'rb'))\n",
    "\n",
    "    stopping_condition = False\n",
    "    epoch = 0\n",
    "\n",
    "    last_train_accuracy = 0\n",
    "    last_validation_accuracy = 0\n",
    "    \n",
    "    epoch_number = 0\n",
    "    accuracy_val = []\n",
    "    training_losses = []\n",
    "\n",
    "    while not stopping_condition and epoch_number  < 5:\n",
    "        epoch_number = epoch_number + 1\n",
    "        random.shuffle(train_data)\n",
    "        model.train()\n",
    "        # You will need further code to operationalize training, ffnn.py may be helpful\n",
    "        print(\"Training started for epoch {}\".format(epoch + 1))\n",
    "        train_data = train_data\n",
    "        correct = 0\n",
    "        total = 0\n",
    "        minibatch_size = 16\n",
    "        N = len(train_data)\n",
    "\n",
    "        loss_total = 0\n",
    "        loss_count = 0\n",
    "        for minibatch_index in tqdm(range(N // minibatch_size)):\n",
    "            optimizer.zero_grad()\n",
    "            loss = None\n",
    "            for example_index in range(minibatch_size):\n",
    "                input_words, gold_label = train_data[minibatch_index * minibatch_size + example_index]\n",
    "                input_words = \" \".join(input_words)\n",
    "\n",
    "                # Remove punctuation\n",
    "                input_words = input_words.translate(input_words.maketrans(\"\", \"\", string.punctuation)).split()\n",
    "\n",
    "                # Look up word embedding dictionary\n",
    "                vectors = [word_embedding[i.lower()] if i.lower() in word_embedding.keys() else word_embedding['unk'] for i in input_words ]\n",
    "\n",
    "                # Transform the input into required shape\n",
    "                vectors = torch.tensor(vectors).view(len(vectors), 1, -1)\n",
    "                output = model(vectors)\n",
    "\n",
    "                # Get loss\n",
    "                example_loss = model.compute_Loss(output.view(1,-1), torch.tensor([gold_label]))\n",
    "\n",
    "                # Get predicted label\n",
    "                predicted_label = torch.argmax(output)\n",
    "\n",
    "                correct += int(predicted_label == gold_label)\n",
    "                # print(predicted_label, gold_label)\n",
    "                total += 1\n",
    "                if loss is None:\n",
    "                    loss = example_loss\n",
    "                else:\n",
    "                    loss += example_loss\n",
    "\n",
    "            loss = loss / minibatch_size\n",
    "            loss_total += loss.data\n",
    "            loss_count += 1\n",
    "            loss.backward()\n",
    "            optimizer.step()\n",
    "        print(loss_total/loss_count)\n",
    "\n",
    "        training_losses.append(1 - (correct/total))\n",
    "        print(\"Training completed for epoch {}\".format(epoch + 1))\n",
    "        print(\"Training accuracy for epoch {}: {}\".format(epoch + 1, correct / total))\n",
    "        trainning_accuracy = correct/total\n",
    "\n",
    "\n",
    "        model.eval()\n",
    "        correct = 0\n",
    "        total = 0\n",
    "        random.shuffle(valid_data)\n",
    "        print(\"Validation started for epoch {}\".format(epoch + 1))\n",
    "        valid_data = valid_data\n",
    "\n",
    "        for input_words, gold_label in tqdm(valid_data):\n",
    "            input_words = \" \".join(input_words)\n",
    "            input_words = input_words.translate(input_words.maketrans(\"\", \"\", string.punctuation)).split()\n",
    "            vectors = [word_embedding[i.lower()] if i.lower() in word_embedding.keys() else word_embedding['unk'] for i\n",
    "                       in input_words]\n",
    "\n",
    "            vectors = torch.tensor(vectors).view(len(vectors), 1, -1)\n",
    "            output = model(vectors)\n",
    "            predicted_label = torch.argmax(output)\n",
    "            correct += int(predicted_label == gold_label)\n",
    "            total += 1\n",
    "            # print(predicted_label, gold_label)\n",
    "\n",
    "        accuracy_val.append((correct/total))\n",
    "        print(\"Validation completed for epoch {}\".format(epoch + 1))\n",
    "        print(\"Validation accuracy for epoch {}: {}\".format(epoch + 1, correct / total))\n",
    "        validation_accuracy = correct/total\n",
    "\n",
    "        if validation_accuracy < last_validation_accuracy and trainning_accuracy > last_train_accuracy:\n",
    "            stopping_condition=True\n",
    "            print(\"Training done to avoid overfitting!\")\n",
    "            print(\"Best validation accuracy is:\", last_validation_accuracy)\n",
    "        else:\n",
    "            last_validation_accuracy = validation_accuracy\n",
    "            last_train_accuracy = trainning_accuracy\n",
    "\n",
    "        epoch += 1\n",
    "\n",
    "\n",
    "\n",
    "    # You may find it beneficial to keep track of training accuracy or training loss;\n",
    "\n",
    "    # Think about how to update the model and what this entails. Consider ffnn.py and the PyTorch documentation for guidance\n"
   ]
  },
  {
   "cell_type": "code",
   "execution_count": 15,
   "id": "cb2e9725",
   "metadata": {},
   "outputs": [
    {
     "data": {
      "image/png": "[encoded data removed]",
      "text/plain": [
       "<Figure size 640x480 with 1 Axes>"
      ]
     },
     "metadata": {},
     "output_type": "display_data"
    }
   ],
   "source": [
    "epoch_num = [i for i in range(len(accuracy_val))]\n",
    "from matplotlib import pyplot as plt\n",
    "plt.plot(epoch_num, accuracy_val)\n",
    "plt.xlabel(\"Epoch number\")\n",
    "plt.ylabel(\"Validation accuracy\")\n",
    "plt.show()"
   ]
  },
  {
   "cell_type": "code",
   "execution_count": 16,
   "id": "e2bf790f",
   "metadata": {},
   "outputs": [
    {
     "data": {
      "image/png": "[encoded data removed]",
      "text/plain": [
       "<Figure size 640x480 with 1 Axes>"
      ]
     },
     "metadata": {},
     "output_type": "display_data"
    }
   ],
   "source": [
    "poch_num = [i for i in range(len(training_losses))]\n",
    "from matplotlib import pyplot as plt\n",
    "plt.plot(epoch_num, training_losses)\n",
    "plt.xlabel(\"Epoch number\")\n",
    "plt.ylabel(\"Training loss\")\n",
    "plt.show()"
   ]
  },
  {
   "cell_type": "code",
   "execution_count": 11,
   "id": "7467af5c",
   "metadata": {},
   "outputs": [
    {
     "name": "stdout",
     "output_type": "stream",
     "text": [
      "========== Loading data ==========\n",
      "========== Vectorizing data ==========\n",
      "========== Training for 5 epochs ==========\n",
      "Training started for epoch 1\n"
     ]
    },
    {
     "name": "stderr",
     "output_type": "stream",
     "text": [
      "  0%|                                                  | 0/1000 [00:00<?, ?it/s]/opt/homebrew/Caskroom/miniforge/base/envs/mlp/lib/python3.8/site-packages/torch/nn/modules/module.py:1518: UserWarning: Implicit dimension choice for log_softmax has been deprecated. Change the call to include dim=X as an argument.\n",
      "  return self._call_impl(*args, **kwargs)\n",
      "100%|███████████████████████████████████████| 1000/1000 [00:11<00:00, 85.28it/s]\n"
     ]
    },
    {
     "name": "stdout",
     "output_type": "stream",
     "text": [
      "Training completed for epoch 1\n",
      "Training accuracy for epoch 1: 0.332125\n",
      "Training time for this epoch: 11.747113943099976\n",
      "Validation started for epoch 1\n"
     ]
    },
    {
     "name": "stderr",
     "output_type": "stream",
     "text": [
      "100%|██████████████████████████████████████████| 50/50 [00:00<00:00, 185.90it/s]\n"
     ]
    },
    {
     "name": "stdout",
     "output_type": "stream",
     "text": [
      "Validation completed for epoch 1\n",
      "Validation accuracy for epoch 1: 0.33625\n",
      "Validation time for this epoch: 0.27137017250061035\n",
      "Training started for epoch 2\n"
     ]
    },
    {
     "name": "stderr",
     "output_type": "stream",
     "text": [
      "100%|███████████████████████████████████████| 1000/1000 [00:10<00:00, 91.49it/s]\n"
     ]
    },
    {
     "name": "stdout",
     "output_type": "stream",
     "text": [
      "Training completed for epoch 2\n",
      "Training accuracy for epoch 2: 0.44925\n",
      "Training time for this epoch: 10.982587099075317\n",
      "Validation started for epoch 2\n"
     ]
    },
    {
     "name": "stderr",
     "output_type": "stream",
     "text": [
      "100%|██████████████████████████████████████████| 50/50 [00:00<00:00, 191.21it/s]\n"
     ]
    },
    {
     "name": "stdout",
     "output_type": "stream",
     "text": [
      "Validation completed for epoch 2\n",
      "Validation accuracy for epoch 2: 0.30875\n",
      "Validation time for this epoch: 0.2630348205566406\n",
      "Training started for epoch 3\n"
     ]
    },
    {
     "name": "stderr",
     "output_type": "stream",
     "text": [
      "100%|███████████████████████████████████████| 1000/1000 [00:11<00:00, 87.35it/s]\n"
     ]
    },
    {
     "name": "stdout",
     "output_type": "stream",
     "text": [
      "Training completed for epoch 3\n",
      "Training accuracy for epoch 3: 0.5221875\n",
      "Training time for this epoch: 11.498985052108765\n",
      "Validation started for epoch 3\n"
     ]
    },
    {
     "name": "stderr",
     "output_type": "stream",
     "text": [
      "100%|██████████████████████████████████████████| 50/50 [00:00<00:00, 213.55it/s]\n"
     ]
    },
    {
     "name": "stdout",
     "output_type": "stream",
     "text": [
      "Validation completed for epoch 3\n",
      "Validation accuracy for epoch 3: 0.51\n",
      "Validation time for this epoch: 0.23591089248657227\n",
      "Training started for epoch 4\n"
     ]
    },
    {
     "name": "stderr",
     "output_type": "stream",
     "text": [
      "100%|███████████████████████████████████████| 1000/1000 [00:10<00:00, 99.86it/s]\n"
     ]
    },
    {
     "name": "stdout",
     "output_type": "stream",
     "text": [
      "Training completed for epoch 4\n",
      "Training accuracy for epoch 4: 0.5538125\n",
      "Training time for this epoch: 10.075731039047241\n",
      "Validation started for epoch 4\n"
     ]
    },
    {
     "name": "stderr",
     "output_type": "stream",
     "text": [
      "100%|██████████████████████████████████████████| 50/50 [00:00<00:00, 204.53it/s]\n"
     ]
    },
    {
     "name": "stdout",
     "output_type": "stream",
     "text": [
      "Validation completed for epoch 4\n",
      "Validation accuracy for epoch 4: 0.4925\n",
      "Validation time for this epoch: 0.2460339069366455\n",
      "Training started for epoch 5\n"
     ]
    },
    {
     "name": "stderr",
     "output_type": "stream",
     "text": [
      "100%|███████████████████████████████████████| 1000/1000 [00:10<00:00, 95.41it/s]\n"
     ]
    },
    {
     "name": "stdout",
     "output_type": "stream",
     "text": [
      "Training completed for epoch 5\n",
      "Training accuracy for epoch 5: 0.5816875\n",
      "Training time for this epoch: 10.530571937561035\n",
      "Validation started for epoch 5\n"
     ]
    },
    {
     "name": "stderr",
     "output_type": "stream",
     "text": [
      "100%|██████████████████████████████████████████| 50/50 [00:00<00:00, 214.81it/s]\n"
     ]
    },
    {
     "name": "stdout",
     "output_type": "stream",
     "text": [
      "Validation completed for epoch 5\n",
      "Validation accuracy for epoch 5: 0.56\n",
      "Validation time for this epoch: 0.23421216011047363\n"
     ]
    },
    {
     "name": "stderr",
     "output_type": "stream",
     "text": [
      "100%|██████████████████████████████████████████| 50/50 [00:00<00:00, 377.14it/s]"
     ]
    },
    {
     "name": "stdout",
     "output_type": "stream",
     "text": [
      "\n",
      "Test completed\n",
      "Test accuracy: 0.56\n",
      "Test time: 0.13387107849121094\n"
     ]
    },
    {
     "name": "stderr",
     "output_type": "stream",
     "text": [
      "\n"
     ]
    }
   ],
   "source": [
    "import numpy as np\n",
    "import torch\n",
    "import torch.nn as nn\n",
    "from torch.nn import init\n",
    "import torch.optim as optim\n",
    "import math\n",
    "import random\n",
    "import os\n",
    "import time\n",
    "from tqdm import tqdm\n",
    "import json\n",
    "from argparse import ArgumentParser\n",
    "\n",
    "\n",
    "unk = '<UNK>'\n",
    "# Consult the PyTorch documentation for information on the functions used below:\n",
    "# https://pytorch.org/docs/stable/torch.html\n",
    "class FFNN(nn.Module):\n",
    "    def __init__(self, input_dim, h):\n",
    "        super(FFNN, self).__init__()\n",
    "        self.h = h\n",
    "        self.W1 = nn.Linear(input_dim, h)\n",
    "        self.activation = nn.ReLU() # The rectified linear unit; one valid choice of activation function\n",
    "        self.output_dim = 5\n",
    "        self.W2 = nn.Linear(h, self.output_dim)\n",
    "\n",
    "        self.softmax = nn.LogSoftmax() # The softmax function that converts vectors into probability distributions; computes log probabilities for computational benefits\n",
    "        self.loss = nn.NLLLoss() # The cross-entropy/negative log likelihood loss taught in class\n",
    "\n",
    "    def compute_Loss(self, predicted_vector, gold_label):\n",
    "        return self.loss(predicted_vector, gold_label)\n",
    "\n",
    "    def forward(self, input_vector):\n",
    "        # [to fill] obtain first hidden layer representation\n",
    "        hidden_layer1 = self.W1(input_vector)\n",
    "        hidden_layer1 = self.activation(hidden_layer1)\n",
    "\n",
    "        # [to fill] obtain output layer representation\n",
    "        hidden_layer2 = self.W2(hidden_layer1)\n",
    "        hidden_layer2 = self.activation(hidden_layer2)\n",
    "\n",
    "        # [to fill] obtain probability dist.\n",
    "        predicted_vector = self.softmax(hidden_layer2)\n",
    "        return predicted_vector\n",
    "\n",
    "\n",
    "# Returns: \n",
    "# vocab = A set of strings corresponding to the vocabulary\n",
    "def make_vocab(data):\n",
    "    vocab = set()\n",
    "    for document, _ in data:\n",
    "        for word in document:\n",
    "            vocab.add(word)\n",
    "    return vocab \n",
    "\n",
    "\n",
    "# Returns:\n",
    "# vocab = A set of strings corresponding to the vocabulary including <UNK>\n",
    "# word2index = A dictionary mapping word/token to its index (a number in 0, ..., V - 1)\n",
    "# index2word = A dictionary inverting the mapping of word2index\n",
    "def make_indices(vocab):\n",
    "    vocab_list = sorted(vocab)\n",
    "    vocab_list.append(unk)\n",
    "    word2index = {}\n",
    "    index2word = {}\n",
    "    for index, word in enumerate(vocab_list):\n",
    "        word2index[word] = index \n",
    "        index2word[index] = word \n",
    "    vocab.add(unk)\n",
    "    return vocab, word2index, index2word \n",
    "\n",
    "\n",
    "# Returns:\n",
    "# vectorized_data = A list of pairs (vector representation of input, y)\n",
    "def convert_to_vector_representation(data, word2index):\n",
    "    vectorized_data = []\n",
    "    for document, y in data:\n",
    "        vector = torch.zeros(len(word2index)) \n",
    "        for word in document:\n",
    "            index = word2index.get(word, word2index[unk])\n",
    "            vector[index] += 1\n",
    "        vectorized_data.append((vector, y))\n",
    "    return vectorized_data\n",
    "\n",
    "\n",
    "\n",
    "def load_data(train_data, val_data):\n",
    "    with open(train_data) as training_f:\n",
    "        training = json.load(training_f)\n",
    "    with open(val_data) as valid_f:\n",
    "        validation = json.load(valid_f)\n",
    "\n",
    "    tra = []\n",
    "    val = []\n",
    "    for elt in training:\n",
    "        tra.append((elt[\"text\"].split(),int(elt[\"stars\"]-1)))\n",
    "    for elt in validation:\n",
    "        val.append((elt[\"text\"].split(),int(elt[\"stars\"]-1)))\n",
    "\n",
    "    return tra, val\n",
    "\n",
    "\n",
    "if __name__ == \"__main__\":\n",
    "#     parser = ArgumentParser()\n",
    "#     parser.add_argument(\"-hd\", \"--hidden_dim\", type=int, required = True, help = \"hidden_dim\")\n",
    "#     parser.add_argument(\"-e\", \"--epochs\", type=int, required = True, help = \"num of epochs to train\")\n",
    "#     parser.add_argument(\"--train_data\", required = True, help = \"path to training data\")\n",
    "#     parser.add_argument(\"--val_data\", required = True, help = \"path to validation data\")\n",
    "#     parser.add_argument(\"--test_data\", default = \"to fill\", help = \"path to test data\")\n",
    "#     parser.add_argument('--do_train', action='store_true')\n",
    "#     args = parser.parse_args()\n",
    "\n",
    "    # fix random seeds\n",
    "    random.seed(42)\n",
    "    torch.manual_seed(42)\n",
    "\n",
    "    # load data\n",
    "    print(\"========== Loading data ==========\")\n",
    "    train_data, valid_data = load_data(\"training.json\", \"validation.json\") # X_data is a list of pairs (document, y); y in {0,1,2,3,4}\n",
    "    train_data, test_data = load_data(\"training.json\",\"test.json\")\n",
    "    vocab = make_vocab(train_data)\n",
    "    vocab, word2index, index2word = make_indices(vocab)\n",
    "\n",
    "    print(\"========== Vectorizing data ==========\")\n",
    "    train_data = convert_to_vector_representation(train_data, word2index)\n",
    "    valid_data = convert_to_vector_representation(valid_data, word2index)\n",
    "    \n",
    "\n",
    "    model = FFNN(input_dim = len(vocab), h = 10)\n",
    "    optimizer = optim.SGD(model.parameters(),lr=0.01, momentum=0.9)\n",
    "    print(\"========== Training for {} epochs ==========\".format(5))\n",
    "    for epoch in range(5):\n",
    "        model.train()\n",
    "        optimizer.zero_grad()\n",
    "        loss = None\n",
    "        correct = 0\n",
    "        total = 0\n",
    "        start_time = time.time()\n",
    "        print(\"Training started for epoch {}\".format(epoch + 1))\n",
    "        random.shuffle(train_data) # Good practice to shuffle order of training data\n",
    "        minibatch_size = 16 \n",
    "        N = len(train_data) \n",
    "        for minibatch_index in tqdm(range(N // minibatch_size)):\n",
    "            optimizer.zero_grad()\n",
    "            loss = None\n",
    "            for example_index in range(minibatch_size):\n",
    "                input_vector, gold_label = train_data[minibatch_index * minibatch_size + example_index]\n",
    "                predicted_vector = model(input_vector)\n",
    "                predicted_label = torch.argmax(predicted_vector)\n",
    "                correct += int(predicted_label == gold_label)\n",
    "                total += 1\n",
    "                example_loss = model.compute_Loss(predicted_vector.view(1,-1), torch.tensor([gold_label]))\n",
    "                if loss is None:\n",
    "                    loss = example_loss\n",
    "                else:\n",
    "                    loss += example_loss\n",
    "            loss = loss / minibatch_size\n",
    "            loss.backward()\n",
    "            optimizer.step()\n",
    "        print(\"Training completed for epoch {}\".format(epoch + 1))\n",
    "        print(\"Training accuracy for epoch {}: {}\".format(epoch + 1, correct / total))\n",
    "        print(\"Training time for this epoch: {}\".format(time.time() - start_time))\n",
    "\n",
    "\n",
    "        loss = None\n",
    "        correct = 0\n",
    "        total = 0\n",
    "        start_time = time.time()\n",
    "        print(\"Validation started for epoch {}\".format(epoch + 1))\n",
    "        minibatch_size = 16 \n",
    "        N = len(valid_data) \n",
    "        for minibatch_index in tqdm(range(N // minibatch_size)):\n",
    "            optimizer.zero_grad()\n",
    "            loss = None\n",
    "            for example_index in range(minibatch_size):\n",
    "                input_vector, gold_label = valid_data[minibatch_index * minibatch_size + example_index]\n",
    "                predicted_vector = model(input_vector)\n",
    "                predicted_label = torch.argmax(predicted_vector)\n",
    "                correct += int(predicted_label == gold_label)\n",
    "                total += 1\n",
    "                example_loss = model.compute_Loss(predicted_vector.view(1,-1), torch.tensor([gold_label]))\n",
    "                if loss is None:\n",
    "                    loss = example_loss\n",
    "                else:\n",
    "                    loss += example_loss\n",
    "            loss = loss / minibatch_size\n",
    "        print(\"Validation completed for epoch {}\".format(epoch + 1))\n",
    "        print(\"Validation accuracy for epoch {}: {}\".format(epoch + 1, correct / total))\n",
    "        print(\"Validation time for this epoch: {}\".format(time.time() - start_time))\n",
    "\n",
    "        \n",
    "    # testing\n",
    "    loss = None\n",
    "    correct = 0\n",
    "    total = 0\n",
    "    start_time = time.time()\n",
    "    minibatch_size = 16 \n",
    "    N = len(test_data) \n",
    "    for minibatch_index in tqdm(range(N // minibatch_size)):\n",
    "        optimizer.zero_grad()\n",
    "        loss = None\n",
    "        for example_index in range(minibatch_size):\n",
    "            input_vector, gold_label = valid_data[minibatch_index * minibatch_size + example_index]\n",
    "            predicted_vector = model(input_vector)\n",
    "            predicted_label = torch.argmax(predicted_vector)\n",
    "            correct += int(predicted_label == gold_label)\n",
    "            total += 1\n",
    "            example_loss = model.compute_Loss(predicted_vector.view(1,-1), torch.tensor([gold_label]))\n",
    "            if loss is None:\n",
    "                loss = example_loss\n",
    "            else:\n",
    "                loss += example_loss\n",
    "        loss = loss / minibatch_size\n",
    "    print(\"\\nTest completed\")\n",
    "    print(\"Test accuracy: {}\".format(correct / total))\n",
    "    print(\"Test time: {}\".format(time.time() - start_time))\n",
    "\n",
    "\n",
    "    # write out to results/test.out\n",
    "    "
   ]
  },
  {
   "cell_type": "code",
   "execution_count": 18,
   "id": "5aef3467",
   "metadata": {},
   "outputs": [
    {
     "data": {
      "image/png": "[encoded data removed]",
      "text/plain": [
       "<Figure size 640x480 with 1 Axes>"
      ]
     },
     "metadata": {},
     "output_type": "display_data"
    }
   ],
   "source": [
    "epoch_num = [i for i in range(len(accuracy_val))]\n",
    "from matplotlib import pyplot as plt\n",
    "plt.plot(epoch_num, accuracy_val)\n",
    "plt.xlabel(\"Epoch number\")\n",
    "plt.ylabel(\"Validation accuracy\")\n",
    "plt.show()"
   ]
  },
  {
   "cell_type": "code",
   "execution_count": 19,
   "id": "a57589c3",
   "metadata": {},
   "outputs": [
    {
     "data": {
      "image/png": "[encoded data removed]",
      "text/plain": [
       "<Figure size 640x480 with 1 Axes>"
      ]
     },
     "metadata": {},
     "output_type": "display_data"
    }
   ],
   "source": [
    "poch_num = [i for i in range(len(training_losses))]\n",
    "from matplotlib import pyplot as plt\n",
    "plt.plot(epoch_num, training_losses)\n",
    "plt.xlabel(\"Epoch number\")\n",
    "plt.ylabel(\"Training loss\")\n",
    "plt.show()"
   ]
  },
  {
   "cell_type": "code",
   "execution_count": 2,
   "id": "95a655a9",
   "metadata": {},
   "outputs": [
    {
     "name": "stderr",
     "output_type": "stream",
     "text": [
      "[I 2023-11-08 00:13:17,710] A new study created in memory with name: no-name-3b6ccd8d-6668-4971-a065-ca14ed0ff9a1\n",
      "/var/folders/wg/z02q97mn2tlf1q3bg_scj4280000gn/T/ipykernel_12612/3372619450.py:95: FutureWarning: suggest_loguniform has been deprecated in v3.0.0. This feature will be removed in v6.0.0. See https://github.com/optuna/optuna/releases/tag/v3.0.0. Use suggest_float(..., log=True) instead.\n",
      "  learning_rate = trial.suggest_loguniform('learning_rate', 1e-5, 1e-1)\n",
      "  0%|                                                  | 0/1000 [00:00<?, ?it/s]/opt/homebrew/Caskroom/miniforge/base/envs/mlp/lib/python3.8/site-packages/torch/nn/modules/module.py:1518: UserWarning: Implicit dimension choice for log_softmax has been deprecated. Change the call to include dim=X as an argument.\n",
      "  return self._call_impl(*args, **kwargs)\n",
      "100%|███████████████████████████████████████| 1000/1000 [00:36<00:00, 27.58it/s]\n"
     ]
    },
    {
     "name": "stdout",
     "output_type": "stream",
     "text": [
      "Training completed for epoch 1\n",
      "Training accuracy for epoch 1: 0.277375\n",
      "Training time for this epoch: 36.27450394630432\n"
     ]
    },
    {
     "name": "stderr",
     "output_type": "stream",
     "text": [
      "100%|██████████████████████████████████████████| 50/50 [00:00<00:00, 156.39it/s]\n"
     ]
    },
    {
     "name": "stdout",
     "output_type": "stream",
     "text": [
      "Validation completed for epoch 1\n",
      "Validation accuracy for epoch 1: 0.48125\n",
      "Validation time for this epoch: 0.3207728862762451\n"
     ]
    },
    {
     "name": "stderr",
     "output_type": "stream",
     "text": [
      "100%|███████████████████████████████████████| 1000/1000 [00:36<00:00, 27.07it/s]\n"
     ]
    },
    {
     "name": "stdout",
     "output_type": "stream",
     "text": [
      "Training completed for epoch 2\n",
      "Training accuracy for epoch 2: 0.489375\n",
      "Training time for this epoch: 36.9472279548645\n"
     ]
    },
    {
     "name": "stderr",
     "output_type": "stream",
     "text": [
      "100%|██████████████████████████████████████████| 50/50 [00:00<00:00, 155.93it/s]\n"
     ]
    },
    {
     "name": "stdout",
     "output_type": "stream",
     "text": [
      "Validation completed for epoch 2\n",
      "Validation accuracy for epoch 2: 0.54625\n",
      "Validation time for this epoch: 0.3217639923095703\n"
     ]
    },
    {
     "name": "stderr",
     "output_type": "stream",
     "text": [
      "100%|███████████████████████████████████████| 1000/1000 [00:36<00:00, 27.59it/s]\n"
     ]
    },
    {
     "name": "stdout",
     "output_type": "stream",
     "text": [
      "Training completed for epoch 3\n",
      "Training accuracy for epoch 3: 0.5370625\n",
      "Training time for this epoch: 36.260249853134155\n"
     ]
    },
    {
     "name": "stderr",
     "output_type": "stream",
     "text": [
      "100%|██████████████████████████████████████████| 50/50 [00:00<00:00, 168.59it/s]\n"
     ]
    },
    {
     "name": "stdout",
     "output_type": "stream",
     "text": [
      "Validation completed for epoch 3\n",
      "Validation accuracy for epoch 3: 0.58875\n",
      "Validation time for this epoch: 0.29755592346191406\n"
     ]
    },
    {
     "name": "stderr",
     "output_type": "stream",
     "text": [
      "100%|███████████████████████████████████████| 1000/1000 [00:35<00:00, 28.07it/s]\n"
     ]
    },
    {
     "name": "stdout",
     "output_type": "stream",
     "text": [
      "Training completed for epoch 4\n",
      "Training accuracy for epoch 4: 0.5709375\n",
      "Training time for this epoch: 35.63276386260986\n"
     ]
    },
    {
     "name": "stderr",
     "output_type": "stream",
     "text": [
      "100%|██████████████████████████████████████████| 50/50 [00:00<00:00, 162.70it/s]\n"
     ]
    },
    {
     "name": "stdout",
     "output_type": "stream",
     "text": [
      "Validation completed for epoch 4\n",
      "Validation accuracy for epoch 4: 0.455\n",
      "Validation time for this epoch: 0.30829811096191406\n"
     ]
    },
    {
     "name": "stderr",
     "output_type": "stream",
     "text": [
      "100%|███████████████████████████████████████| 1000/1000 [00:36<00:00, 27.26it/s]\n"
     ]
    },
    {
     "name": "stdout",
     "output_type": "stream",
     "text": [
      "Training completed for epoch 5\n",
      "Training accuracy for epoch 5: 0.60675\n",
      "Training time for this epoch: 36.688658237457275\n"
     ]
    },
    {
     "name": "stderr",
     "output_type": "stream",
     "text": [
      "100%|██████████████████████████████████████████| 50/50 [00:00<00:00, 148.60it/s]\n",
      "[I 2023-11-08 00:16:21,499] Trial 0 finished with value: -0.52625 and parameters: {'h': 40, 'learning_rate': 0.006239385399383071}. Best is trial 0 with value: -0.52625.\n",
      "/var/folders/wg/z02q97mn2tlf1q3bg_scj4280000gn/T/ipykernel_12612/3372619450.py:95: FutureWarning: suggest_loguniform has been deprecated in v3.0.0. This feature will be removed in v6.0.0. See https://github.com/optuna/optuna/releases/tag/v3.0.0. Use suggest_float(..., log=True) instead.\n",
      "  learning_rate = trial.suggest_loguniform('learning_rate', 1e-5, 1e-1)\n"
     ]
    },
    {
     "name": "stdout",
     "output_type": "stream",
     "text": [
      "Validation completed for epoch 5\n",
      "Validation accuracy for epoch 5: 0.52625\n",
      "Validation time for this epoch: 0.33761000633239746\n"
     ]
    },
    {
     "name": "stderr",
     "output_type": "stream",
     "text": [
      "100%|██████████████████████████████████████| 1000/1000 [00:06<00:00, 148.75it/s]\n"
     ]
    },
    {
     "name": "stdout",
     "output_type": "stream",
     "text": [
      "Training completed for epoch 1\n",
      "Training accuracy for epoch 1: 0.2395625\n",
      "Training time for this epoch: 6.73345422744751\n"
     ]
    },
    {
     "name": "stderr",
     "output_type": "stream",
     "text": [
      "100%|██████████████████████████████████████████| 50/50 [00:00<00:00, 338.10it/s]\n"
     ]
    },
    {
     "name": "stdout",
     "output_type": "stream",
     "text": [
      "Validation completed for epoch 1\n",
      "Validation accuracy for epoch 1: 0.18875\n",
      "Validation time for this epoch: 0.14896583557128906\n"
     ]
    },
    {
     "name": "stderr",
     "output_type": "stream",
     "text": [
      "100%|██████████████████████████████████████| 1000/1000 [00:06<00:00, 145.86it/s]\n"
     ]
    },
    {
     "name": "stdout",
     "output_type": "stream",
     "text": [
      "Training completed for epoch 2\n",
      "Training accuracy for epoch 2: 0.3118125\n",
      "Training time for this epoch: 6.861873149871826\n"
     ]
    },
    {
     "name": "stderr",
     "output_type": "stream",
     "text": [
      "100%|██████████████████████████████████████████| 50/50 [00:00<00:00, 315.31it/s]\n"
     ]
    },
    {
     "name": "stdout",
     "output_type": "stream",
     "text": [
      "Validation completed for epoch 2\n",
      "Validation accuracy for epoch 2: 0.245\n",
      "Validation time for this epoch: 0.15959715843200684\n"
     ]
    },
    {
     "name": "stderr",
     "output_type": "stream",
     "text": [
      "100%|██████████████████████████████████████| 1000/1000 [00:06<00:00, 147.30it/s]\n"
     ]
    },
    {
     "name": "stdout",
     "output_type": "stream",
     "text": [
      "Training completed for epoch 3\n",
      "Training accuracy for epoch 3: 0.3623125\n",
      "Training time for this epoch: 6.794590950012207\n"
     ]
    },
    {
     "name": "stderr",
     "output_type": "stream",
     "text": [
      "100%|██████████████████████████████████████████| 50/50 [00:00<00:00, 316.77it/s]\n"
     ]
    },
    {
     "name": "stdout",
     "output_type": "stream",
     "text": [
      "Validation completed for epoch 3\n",
      "Validation accuracy for epoch 3: 0.2875\n",
      "Validation time for this epoch: 0.15893197059631348\n"
     ]
    },
    {
     "name": "stderr",
     "output_type": "stream",
     "text": [
      "100%|██████████████████████████████████████| 1000/1000 [00:06<00:00, 145.03it/s]\n"
     ]
    },
    {
     "name": "stdout",
     "output_type": "stream",
     "text": [
      "Training completed for epoch 4\n",
      "Training accuracy for epoch 4: 0.3878125\n",
      "Training time for this epoch: 6.900513648986816\n"
     ]
    },
    {
     "name": "stderr",
     "output_type": "stream",
     "text": [
      "100%|██████████████████████████████████████████| 50/50 [00:00<00:00, 309.76it/s]\n"
     ]
    },
    {
     "name": "stdout",
     "output_type": "stream",
     "text": [
      "Validation completed for epoch 4\n",
      "Validation accuracy for epoch 4: 0.3075\n",
      "Validation time for this epoch: 0.1625990867614746\n"
     ]
    },
    {
     "name": "stderr",
     "output_type": "stream",
     "text": [
      "100%|██████████████████████████████████████| 1000/1000 [00:07<00:00, 138.08it/s]\n"
     ]
    },
    {
     "name": "stdout",
     "output_type": "stream",
     "text": [
      "Training completed for epoch 5\n",
      "Training accuracy for epoch 5: 0.406125\n",
      "Training time for this epoch: 7.250053882598877\n"
     ]
    },
    {
     "name": "stderr",
     "output_type": "stream",
     "text": [
      "100%|██████████████████████████████████████████| 50/50 [00:00<00:00, 228.49it/s]\n",
      "[I 2023-11-08 00:16:56,936] Trial 1 finished with value: -0.33875 and parameters: {'h': 8, 'learning_rate': 8.027104014094393e-05}. Best is trial 0 with value: -0.52625.\n"
     ]
    },
    {
     "name": "stdout",
     "output_type": "stream",
     "text": [
      "Validation completed for epoch 5\n",
      "Validation accuracy for epoch 5: 0.33875\n",
      "Validation time for this epoch: 0.22121119499206543\n"
     ]
    },
    {
     "name": "stderr",
     "output_type": "stream",
     "text": [
      "100%|███████████████████████████████████████| 1000/1000 [00:38<00:00, 25.86it/s]\n"
     ]
    },
    {
     "name": "stdout",
     "output_type": "stream",
     "text": [
      "Training completed for epoch 1\n",
      "Training accuracy for epoch 1: 0.286125\n",
      "Training time for this epoch: 38.670629262924194\n"
     ]
    },
    {
     "name": "stderr",
     "output_type": "stream",
     "text": [
      "100%|██████████████████████████████████████████| 50/50 [00:00<00:00, 146.49it/s]\n"
     ]
    },
    {
     "name": "stdout",
     "output_type": "stream",
     "text": [
      "Validation completed for epoch 1\n",
      "Validation accuracy for epoch 1: 0.39\n",
      "Validation time for this epoch: 0.342379093170166\n"
     ]
    },
    {
     "name": "stderr",
     "output_type": "stream",
     "text": [
      "100%|███████████████████████████████████████| 1000/1000 [00:39<00:00, 25.39it/s]\n"
     ]
    },
    {
     "name": "stdout",
     "output_type": "stream",
     "text": [
      "Training completed for epoch 2\n",
      "Training accuracy for epoch 2: 0.354625\n",
      "Training time for this epoch: 39.38872408866882\n"
     ]
    },
    {
     "name": "stderr",
     "output_type": "stream",
     "text": [
      "100%|██████████████████████████████████████████| 50/50 [00:00<00:00, 150.28it/s]\n"
     ]
    },
    {
     "name": "stdout",
     "output_type": "stream",
     "text": [
      "Validation completed for epoch 2\n",
      "Validation accuracy for epoch 2: 0.37\n",
      "Validation time for this epoch: 0.3337411880493164\n"
     ]
    },
    {
     "name": "stderr",
     "output_type": "stream",
     "text": [
      "100%|███████████████████████████████████████| 1000/1000 [00:38<00:00, 25.71it/s]\n"
     ]
    },
    {
     "name": "stdout",
     "output_type": "stream",
     "text": [
      "Training completed for epoch 3\n",
      "Training accuracy for epoch 3: 0.397375\n",
      "Training time for this epoch: 38.90782809257507\n"
     ]
    },
    {
     "name": "stderr",
     "output_type": "stream",
     "text": [
      "100%|██████████████████████████████████████████| 50/50 [00:00<00:00, 149.36it/s]\n"
     ]
    },
    {
     "name": "stdout",
     "output_type": "stream",
     "text": [
      "Validation completed for epoch 3\n",
      "Validation accuracy for epoch 3: 0.405\n",
      "Validation time for this epoch: 0.3358311653137207\n"
     ]
    },
    {
     "name": "stderr",
     "output_type": "stream",
     "text": [
      "100%|███████████████████████████████████████| 1000/1000 [00:39<00:00, 25.40it/s]\n"
     ]
    },
    {
     "name": "stdout",
     "output_type": "stream",
     "text": [
      "Training completed for epoch 4\n",
      "Training accuracy for epoch 4: 0.415125\n",
      "Training time for this epoch: 39.370898962020874\n"
     ]
    },
    {
     "name": "stderr",
     "output_type": "stream",
     "text": [
      "100%|██████████████████████████████████████████| 50/50 [00:00<00:00, 150.84it/s]\n"
     ]
    },
    {
     "name": "stdout",
     "output_type": "stream",
     "text": [
      "Validation completed for epoch 4\n",
      "Validation accuracy for epoch 4: 0.41375\n",
      "Validation time for this epoch: 0.33264923095703125\n"
     ]
    },
    {
     "name": "stderr",
     "output_type": "stream",
     "text": [
      "100%|███████████████████████████████████████| 1000/1000 [00:39<00:00, 25.32it/s]\n"
     ]
    },
    {
     "name": "stdout",
     "output_type": "stream",
     "text": [
      "Training completed for epoch 5\n",
      "Training accuracy for epoch 5: 0.4289375\n",
      "Training time for this epoch: 39.50763702392578\n"
     ]
    },
    {
     "name": "stderr",
     "output_type": "stream",
     "text": [
      "100%|██████████████████████████████████████████| 50/50 [00:00<00:00, 149.95it/s]\n",
      "[I 2023-11-08 00:20:14,479] Trial 2 finished with value: -0.435 and parameters: {'h': 44, 'learning_rate': 0.00010971350514334845}. Best is trial 0 with value: -0.52625.\n"
     ]
    },
    {
     "name": "stdout",
     "output_type": "stream",
     "text": [
      "Validation completed for epoch 5\n",
      "Validation accuracy for epoch 5: 0.435\n",
      "Validation time for this epoch: 0.3345150947570801\n"
     ]
    },
    {
     "name": "stderr",
     "output_type": "stream",
     "text": [
      "100%|██████████████████████████████████████| 1000/1000 [00:07<00:00, 138.65it/s]\n"
     ]
    },
    {
     "name": "stdout",
     "output_type": "stream",
     "text": [
      "Training completed for epoch 1\n",
      "Training accuracy for epoch 1: 0.3155\n",
      "Training time for this epoch: 7.217831134796143\n"
     ]
    },
    {
     "name": "stderr",
     "output_type": "stream",
     "text": [
      "100%|██████████████████████████████████████████| 50/50 [00:00<00:00, 311.61it/s]\n"
     ]
    },
    {
     "name": "stdout",
     "output_type": "stream",
     "text": [
      "Validation completed for epoch 1\n",
      "Validation accuracy for epoch 1: 0.3375\n",
      "Validation time for this epoch: 0.16153788566589355\n"
     ]
    },
    {
     "name": "stderr",
     "output_type": "stream",
     "text": [
      "100%|██████████████████████████████████████| 1000/1000 [00:07<00:00, 138.15it/s]\n"
     ]
    },
    {
     "name": "stdout",
     "output_type": "stream",
     "text": [
      "Training completed for epoch 2\n",
      "Training accuracy for epoch 2: 0.4331875\n",
      "Training time for this epoch: 7.244760036468506\n"
     ]
    },
    {
     "name": "stderr",
     "output_type": "stream",
     "text": [
      "100%|██████████████████████████████████████████| 50/50 [00:00<00:00, 325.96it/s]\n"
     ]
    },
    {
     "name": "stdout",
     "output_type": "stream",
     "text": [
      "Validation completed for epoch 2\n",
      "Validation accuracy for epoch 2: 0.38625\n",
      "Validation time for this epoch: 0.15447402000427246\n"
     ]
    },
    {
     "name": "stderr",
     "output_type": "stream",
     "text": [
      "100%|██████████████████████████████████████| 1000/1000 [00:07<00:00, 138.28it/s]\n"
     ]
    },
    {
     "name": "stdout",
     "output_type": "stream",
     "text": [
      "Training completed for epoch 3\n",
      "Training accuracy for epoch 3: 0.473375\n",
      "Training time for this epoch: 7.236922025680542\n"
     ]
    },
    {
     "name": "stderr",
     "output_type": "stream",
     "text": [
      "100%|██████████████████████████████████████████| 50/50 [00:00<00:00, 289.16it/s]\n"
     ]
    },
    {
     "name": "stdout",
     "output_type": "stream",
     "text": [
      "Validation completed for epoch 3\n",
      "Validation accuracy for epoch 3: 0.51375\n",
      "Validation time for this epoch: 0.17394304275512695\n"
     ]
    },
    {
     "name": "stderr",
     "output_type": "stream",
     "text": [
      "100%|██████████████████████████████████████| 1000/1000 [00:07<00:00, 139.25it/s]\n"
     ]
    },
    {
     "name": "stdout",
     "output_type": "stream",
     "text": [
      "Training completed for epoch 4\n",
      "Training accuracy for epoch 4: 0.497875\n",
      "Training time for this epoch: 7.187495231628418\n"
     ]
    },
    {
     "name": "stderr",
     "output_type": "stream",
     "text": [
      "100%|██████████████████████████████████████████| 50/50 [00:00<00:00, 309.27it/s]\n"
     ]
    },
    {
     "name": "stdout",
     "output_type": "stream",
     "text": [
      "Validation completed for epoch 4\n",
      "Validation accuracy for epoch 4: 0.43125\n",
      "Validation time for this epoch: 0.16275811195373535\n"
     ]
    },
    {
     "name": "stderr",
     "output_type": "stream",
     "text": [
      "100%|██████████████████████████████████████| 1000/1000 [00:07<00:00, 137.49it/s]\n"
     ]
    },
    {
     "name": "stdout",
     "output_type": "stream",
     "text": [
      "Training completed for epoch 5\n",
      "Training accuracy for epoch 5: 0.522875\n",
      "Training time for this epoch: 7.27873420715332\n"
     ]
    },
    {
     "name": "stderr",
     "output_type": "stream",
     "text": [
      "100%|██████████████████████████████████████████| 50/50 [00:00<00:00, 308.93it/s]\n",
      "[I 2023-11-08 00:20:51,468] Trial 3 finished with value: -0.4575 and parameters: {'h': 9, 'learning_rate': 0.0003967542832464048}. Best is trial 0 with value: -0.52625.\n"
     ]
    },
    {
     "name": "stdout",
     "output_type": "stream",
     "text": [
      "Validation completed for epoch 5\n",
      "Validation accuracy for epoch 5: 0.4575\n",
      "Validation time for this epoch: 0.16291093826293945\n"
     ]
    },
    {
     "name": "stderr",
     "output_type": "stream",
     "text": [
      "100%|███████████████████████████████████████| 1000/1000 [00:28<00:00, 35.36it/s]\n"
     ]
    },
    {
     "name": "stdout",
     "output_type": "stream",
     "text": [
      "Training completed for epoch 1\n",
      "Training accuracy for epoch 1: 0.224\n",
      "Training time for this epoch: 28.289268970489502\n"
     ]
    },
    {
     "name": "stderr",
     "output_type": "stream",
     "text": [
      "100%|██████████████████████████████████████████| 50/50 [00:00<00:00, 181.95it/s]\n"
     ]
    },
    {
     "name": "stdout",
     "output_type": "stream",
     "text": [
      "Validation completed for epoch 1\n",
      "Validation accuracy for epoch 1: 0.17875\n",
      "Validation time for this epoch: 0.2758290767669678\n"
     ]
    },
    {
     "name": "stderr",
     "output_type": "stream",
     "text": [
      "100%|███████████████████████████████████████| 1000/1000 [00:28<00:00, 35.56it/s]\n"
     ]
    },
    {
     "name": "stdout",
     "output_type": "stream",
     "text": [
      "Training completed for epoch 2\n",
      "Training accuracy for epoch 2: 0.2924375\n",
      "Training time for this epoch: 28.126395225524902\n"
     ]
    },
    {
     "name": "stderr",
     "output_type": "stream",
     "text": [
      "100%|██████████████████████████████████████████| 50/50 [00:00<00:00, 175.76it/s]\n"
     ]
    },
    {
     "name": "stdout",
     "output_type": "stream",
     "text": [
      "Validation completed for epoch 2\n",
      "Validation accuracy for epoch 2: 0.16625\n",
      "Validation time for this epoch: 0.2868521213531494\n"
     ]
    },
    {
     "name": "stderr",
     "output_type": "stream",
     "text": [
      "100%|███████████████████████████████████████| 1000/1000 [00:29<00:00, 34.40it/s]\n"
     ]
    },
    {
     "name": "stdout",
     "output_type": "stream",
     "text": [
      "Training completed for epoch 3\n",
      "Training accuracy for epoch 3: 0.3091875\n",
      "Training time for this epoch: 29.07908320426941\n"
     ]
    },
    {
     "name": "stderr",
     "output_type": "stream",
     "text": [
      "100%|██████████████████████████████████████████| 50/50 [00:00<00:00, 185.27it/s]\n"
     ]
    },
    {
     "name": "stdout",
     "output_type": "stream",
     "text": [
      "Validation completed for epoch 3\n",
      "Validation accuracy for epoch 3: 0.16625\n",
      "Validation time for this epoch: 0.27136993408203125\n"
     ]
    },
    {
     "name": "stderr",
     "output_type": "stream",
     "text": [
      "100%|███████████████████████████████████████| 1000/1000 [00:28<00:00, 34.57it/s]\n"
     ]
    },
    {
     "name": "stdout",
     "output_type": "stream",
     "text": [
      "Training completed for epoch 4\n",
      "Training accuracy for epoch 4: 0.3196875\n",
      "Training time for this epoch: 28.932389736175537\n"
     ]
    },
    {
     "name": "stderr",
     "output_type": "stream",
     "text": [
      "100%|██████████████████████████████████████████| 50/50 [00:00<00:00, 174.22it/s]\n"
     ]
    },
    {
     "name": "stdout",
     "output_type": "stream",
     "text": [
      "Validation completed for epoch 4\n",
      "Validation accuracy for epoch 4: 0.17875\n",
      "Validation time for this epoch: 0.288067102432251\n"
     ]
    },
    {
     "name": "stderr",
     "output_type": "stream",
     "text": [
      "100%|███████████████████████████████████████| 1000/1000 [00:28<00:00, 34.95it/s]\n"
     ]
    },
    {
     "name": "stdout",
     "output_type": "stream",
     "text": [
      "Training completed for epoch 5\n",
      "Training accuracy for epoch 5: 0.327625\n",
      "Training time for this epoch: 28.621325969696045\n"
     ]
    },
    {
     "name": "stderr",
     "output_type": "stream",
     "text": [
      "100%|██████████████████████████████████████████| 50/50 [00:00<00:00, 189.37it/s]\n",
      "[I 2023-11-08 00:23:15,918] Trial 4 finished with value: -0.1825 and parameters: {'h': 32, 'learning_rate': 7.790285090335068e-05}. Best is trial 0 with value: -0.52625.\n"
     ]
    },
    {
     "name": "stdout",
     "output_type": "stream",
     "text": [
      "Validation completed for epoch 5\n",
      "Validation accuracy for epoch 5: 0.1825\n",
      "Validation time for this epoch: 0.26504993438720703\n"
     ]
    },
    {
     "name": "stderr",
     "output_type": "stream",
     "text": [
      "100%|███████████████████████████████████████| 1000/1000 [00:31<00:00, 31.76it/s]\n"
     ]
    },
    {
     "name": "stdout",
     "output_type": "stream",
     "text": [
      "Training completed for epoch 1\n",
      "Training accuracy for epoch 1: 0.3185\n",
      "Training time for this epoch: 31.486871004104614\n"
     ]
    },
    {
     "name": "stderr",
     "output_type": "stream",
     "text": [
      "100%|██████████████████████████████████████████| 50/50 [00:00<00:00, 169.23it/s]\n"
     ]
    },
    {
     "name": "stdout",
     "output_type": "stream",
     "text": [
      "Validation completed for epoch 1\n",
      "Validation accuracy for epoch 1: 0.4375\n",
      "Validation time for this epoch: 0.29654598236083984\n"
     ]
    },
    {
     "name": "stderr",
     "output_type": "stream",
     "text": [
      "100%|███████████████████████████████████████| 1000/1000 [00:31<00:00, 31.40it/s]\n"
     ]
    },
    {
     "name": "stdout",
     "output_type": "stream",
     "text": [
      "Training completed for epoch 2\n",
      "Training accuracy for epoch 2: 0.396875\n",
      "Training time for this epoch: 31.864407777786255\n"
     ]
    },
    {
     "name": "stderr",
     "output_type": "stream",
     "text": [
      "100%|██████████████████████████████████████████| 50/50 [00:00<00:00, 178.36it/s]\n"
     ]
    },
    {
     "name": "stdout",
     "output_type": "stream",
     "text": [
      "Validation completed for epoch 2\n",
      "Validation accuracy for epoch 2: 0.465\n",
      "Validation time for this epoch: 0.28139591217041016\n"
     ]
    },
    {
     "name": "stderr",
     "output_type": "stream",
     "text": [
      "100%|███████████████████████████████████████| 1000/1000 [00:31<00:00, 31.80it/s]\n"
     ]
    },
    {
     "name": "stdout",
     "output_type": "stream",
     "text": [
      "Training completed for epoch 3\n",
      "Training accuracy for epoch 3: 0.429375\n",
      "Training time for this epoch: 31.463928937911987\n"
     ]
    },
    {
     "name": "stderr",
     "output_type": "stream",
     "text": [
      "100%|██████████████████████████████████████████| 50/50 [00:00<00:00, 162.12it/s]\n"
     ]
    },
    {
     "name": "stdout",
     "output_type": "stream",
     "text": [
      "Validation completed for epoch 3\n",
      "Validation accuracy for epoch 3: 0.49875\n",
      "Validation time for this epoch: 0.3094007968902588\n"
     ]
    },
    {
     "name": "stderr",
     "output_type": "stream",
     "text": [
      "100%|███████████████████████████████████████| 1000/1000 [00:31<00:00, 31.44it/s]\n"
     ]
    },
    {
     "name": "stdout",
     "output_type": "stream",
     "text": [
      "Training completed for epoch 4\n",
      "Training accuracy for epoch 4: 0.44925\n",
      "Training time for this epoch: 31.816148281097412\n"
     ]
    },
    {
     "name": "stderr",
     "output_type": "stream",
     "text": [
      "100%|██████████████████████████████████████████| 50/50 [00:00<00:00, 156.37it/s]\n"
     ]
    },
    {
     "name": "stdout",
     "output_type": "stream",
     "text": [
      "Validation completed for epoch 4\n",
      "Validation accuracy for epoch 4: 0.51625\n",
      "Validation time for this epoch: 0.3208589553833008\n"
     ]
    },
    {
     "name": "stderr",
     "output_type": "stream",
     "text": [
      "100%|███████████████████████████████████████| 1000/1000 [00:31<00:00, 31.75it/s]\n"
     ]
    },
    {
     "name": "stdout",
     "output_type": "stream",
     "text": [
      "Training completed for epoch 5\n",
      "Training accuracy for epoch 5: 0.4671875\n",
      "Training time for this epoch: 31.510315895080566\n"
     ]
    },
    {
     "name": "stderr",
     "output_type": "stream",
     "text": [
      "100%|██████████████████████████████████████████| 50/50 [00:00<00:00, 171.36it/s]\n",
      "[I 2023-11-08 00:25:55,580] Trial 5 finished with value: -0.52125 and parameters: {'h': 36, 'learning_rate': 0.0006886196263349935}. Best is trial 0 with value: -0.52625.\n"
     ]
    },
    {
     "name": "stdout",
     "output_type": "stream",
     "text": [
      "Validation completed for epoch 5\n",
      "Validation accuracy for epoch 5: 0.52125\n",
      "Validation time for this epoch: 0.2928156852722168\n"
     ]
    },
    {
     "name": "stderr",
     "output_type": "stream",
     "text": [
      "100%|███████████████████████████████████████| 1000/1000 [00:35<00:00, 27.95it/s]\n"
     ]
    },
    {
     "name": "stdout",
     "output_type": "stream",
     "text": [
      "Training completed for epoch 1\n",
      "Training accuracy for epoch 1: 0.3955625\n",
      "Training time for this epoch: 35.789408922195435\n"
     ]
    },
    {
     "name": "stderr",
     "output_type": "stream",
     "text": [
      "100%|██████████████████████████████████████████| 50/50 [00:00<00:00, 119.69it/s]\n"
     ]
    },
    {
     "name": "stdout",
     "output_type": "stream",
     "text": [
      "Validation completed for epoch 1\n",
      "Validation accuracy for epoch 1: 0.45375\n",
      "Validation time for this epoch: 0.41881275177001953\n"
     ]
    },
    {
     "name": "stderr",
     "output_type": "stream",
     "text": [
      "100%|███████████████████████████████████████| 1000/1000 [00:37<00:00, 26.95it/s]\n"
     ]
    },
    {
     "name": "stdout",
     "output_type": "stream",
     "text": [
      "Training completed for epoch 2\n",
      "Training accuracy for epoch 2: 0.51875\n",
      "Training time for this epoch: 37.12836980819702\n"
     ]
    },
    {
     "name": "stderr",
     "output_type": "stream",
     "text": [
      "100%|██████████████████████████████████████████| 50/50 [00:00<00:00, 161.58it/s]\n"
     ]
    },
    {
     "name": "stdout",
     "output_type": "stream",
     "text": [
      "Validation completed for epoch 2\n",
      "Validation accuracy for epoch 2: 0.5375\n",
      "Validation time for this epoch: 0.3104407787322998\n"
     ]
    },
    {
     "name": "stderr",
     "output_type": "stream",
     "text": [
      "100%|███████████████████████████████████████| 1000/1000 [00:36<00:00, 27.52it/s]\n"
     ]
    },
    {
     "name": "stdout",
     "output_type": "stream",
     "text": [
      "Training completed for epoch 3\n",
      "Training accuracy for epoch 3: 0.562875\n",
      "Training time for this epoch: 36.33873987197876\n"
     ]
    },
    {
     "name": "stderr",
     "output_type": "stream",
     "text": [
      "100%|██████████████████████████████████████████| 50/50 [00:00<00:00, 149.38it/s]\n"
     ]
    },
    {
     "name": "stdout",
     "output_type": "stream",
     "text": [
      "Validation completed for epoch 3\n",
      "Validation accuracy for epoch 3: 0.45625\n",
      "Validation time for this epoch: 0.3357417583465576\n"
     ]
    },
    {
     "name": "stderr",
     "output_type": "stream",
     "text": [
      "100%|███████████████████████████████████████| 1000/1000 [00:37<00:00, 26.89it/s]\n"
     ]
    },
    {
     "name": "stdout",
     "output_type": "stream",
     "text": [
      "Training completed for epoch 4\n",
      "Training accuracy for epoch 4: 0.593375\n",
      "Training time for this epoch: 37.19772291183472\n"
     ]
    },
    {
     "name": "stderr",
     "output_type": "stream",
     "text": [
      "100%|██████████████████████████████████████████| 50/50 [00:00<00:00, 153.85it/s]\n"
     ]
    },
    {
     "name": "stdout",
     "output_type": "stream",
     "text": [
      "Validation completed for epoch 4\n",
      "Validation accuracy for epoch 4: 0.5325\n",
      "Validation time for this epoch: 0.3260190486907959\n"
     ]
    },
    {
     "name": "stderr",
     "output_type": "stream",
     "text": [
      "100%|███████████████████████████████████████| 1000/1000 [00:36<00:00, 27.21it/s]\n"
     ]
    },
    {
     "name": "stdout",
     "output_type": "stream",
     "text": [
      "Training completed for epoch 5\n",
      "Training accuracy for epoch 5: 0.621125\n",
      "Training time for this epoch: 36.75146794319153\n"
     ]
    },
    {
     "name": "stderr",
     "output_type": "stream",
     "text": [
      "100%|██████████████████████████████████████████| 50/50 [00:00<00:00, 150.27it/s]\n",
      "[I 2023-11-08 00:29:00,526] Trial 6 finished with value: -0.53375 and parameters: {'h': 40, 'learning_rate': 0.004003467140634636}. Best is trial 6 with value: -0.53375.\n"
     ]
    },
    {
     "name": "stdout",
     "output_type": "stream",
     "text": [
      "Validation completed for epoch 5\n",
      "Validation accuracy for epoch 5: 0.53375\n",
      "Validation time for this epoch: 0.334061861038208\n"
     ]
    },
    {
     "name": "stderr",
     "output_type": "stream",
     "text": [
      "100%|███████████████████████████████████████| 1000/1000 [00:28<00:00, 34.81it/s]\n"
     ]
    },
    {
     "name": "stdout",
     "output_type": "stream",
     "text": [
      "Training completed for epoch 1\n",
      "Training accuracy for epoch 1: 0.2455625\n",
      "Training time for this epoch: 28.733136892318726\n"
     ]
    },
    {
     "name": "stderr",
     "output_type": "stream",
     "text": [
      "100%|██████████████████████████████████████████| 50/50 [00:00<00:00, 178.08it/s]\n"
     ]
    },
    {
     "name": "stdout",
     "output_type": "stream",
     "text": [
      "Validation completed for epoch 1\n",
      "Validation accuracy for epoch 1: 0.4525\n",
      "Validation time for this epoch: 0.2816929817199707\n"
     ]
    },
    {
     "name": "stderr",
     "output_type": "stream",
     "text": [
      "100%|███████████████████████████████████████| 1000/1000 [00:28<00:00, 34.70it/s]\n"
     ]
    },
    {
     "name": "stdout",
     "output_type": "stream",
     "text": [
      "Training completed for epoch 2\n",
      "Training accuracy for epoch 2: 0.322625\n",
      "Training time for this epoch: 28.827733039855957\n"
     ]
    },
    {
     "name": "stderr",
     "output_type": "stream",
     "text": [
      "100%|██████████████████████████████████████████| 50/50 [00:00<00:00, 161.66it/s]\n"
     ]
    },
    {
     "name": "stdout",
     "output_type": "stream",
     "text": [
      "Validation completed for epoch 2\n",
      "Validation accuracy for epoch 2: 0.4425\n",
      "Validation time for this epoch: 0.3102738857269287\n"
     ]
    },
    {
     "name": "stderr",
     "output_type": "stream",
     "text": [
      "100%|███████████████████████████████████████| 1000/1000 [00:28<00:00, 35.39it/s]\n"
     ]
    },
    {
     "name": "stdout",
     "output_type": "stream",
     "text": [
      "Training completed for epoch 3\n",
      "Training accuracy for epoch 3: 0.3624375\n",
      "Training time for this epoch: 28.260725021362305\n"
     ]
    },
    {
     "name": "stderr",
     "output_type": "stream",
     "text": [
      "100%|██████████████████████████████████████████| 50/50 [00:00<00:00, 184.64it/s]\n"
     ]
    },
    {
     "name": "stdout",
     "output_type": "stream",
     "text": [
      "Validation completed for epoch 3\n",
      "Validation accuracy for epoch 3: 0.44\n",
      "Validation time for this epoch: 0.27181291580200195\n"
     ]
    },
    {
     "name": "stderr",
     "output_type": "stream",
     "text": [
      "100%|███████████████████████████████████████| 1000/1000 [00:28<00:00, 35.30it/s]\n"
     ]
    },
    {
     "name": "stdout",
     "output_type": "stream",
     "text": [
      "Training completed for epoch 4\n",
      "Training accuracy for epoch 4: 0.3769375\n",
      "Training time for this epoch: 28.3381769657135\n"
     ]
    },
    {
     "name": "stderr",
     "output_type": "stream",
     "text": [
      "100%|██████████████████████████████████████████| 50/50 [00:00<00:00, 181.96it/s]\n"
     ]
    },
    {
     "name": "stdout",
     "output_type": "stream",
     "text": [
      "Validation completed for epoch 4\n",
      "Validation accuracy for epoch 4: 0.43625\n",
      "Validation time for this epoch: 0.2759590148925781\n"
     ]
    },
    {
     "name": "stderr",
     "output_type": "stream",
     "text": [
      "100%|███████████████████████████████████████| 1000/1000 [00:28<00:00, 34.76it/s]\n"
     ]
    },
    {
     "name": "stdout",
     "output_type": "stream",
     "text": [
      "Training completed for epoch 5\n",
      "Training accuracy for epoch 5: 0.3884375\n",
      "Training time for this epoch: 28.77695894241333\n"
     ]
    },
    {
     "name": "stderr",
     "output_type": "stream",
     "text": [
      "100%|██████████████████████████████████████████| 50/50 [00:00<00:00, 181.73it/s]\n",
      "[I 2023-11-08 00:31:24,893] Trial 7 finished with value: -0.4275 and parameters: {'h': 32, 'learning_rate': 5.624353734787035e-05}. Best is trial 6 with value: -0.53375.\n"
     ]
    },
    {
     "name": "stdout",
     "output_type": "stream",
     "text": [
      "Validation completed for epoch 5\n",
      "Validation accuracy for epoch 5: 0.4275\n",
      "Validation time for this epoch: 0.27616119384765625\n"
     ]
    },
    {
     "name": "stderr",
     "output_type": "stream",
     "text": [
      "100%|███████████████████████████████████████| 1000/1000 [00:11<00:00, 88.96it/s]\n"
     ]
    },
    {
     "name": "stdout",
     "output_type": "stream",
     "text": [
      "Training completed for epoch 1\n",
      "Training accuracy for epoch 1: 0.20625\n",
      "Training time for this epoch: 11.249281883239746\n"
     ]
    },
    {
     "name": "stderr",
     "output_type": "stream",
     "text": [
      "100%|██████████████████████████████████████████| 50/50 [00:00<00:00, 245.07it/s]\n"
     ]
    },
    {
     "name": "stdout",
     "output_type": "stream",
     "text": [
      "Validation completed for epoch 1\n",
      "Validation accuracy for epoch 1: 0.4\n",
      "Validation time for this epoch: 0.2050318717956543\n"
     ]
    },
    {
     "name": "stderr",
     "output_type": "stream",
     "text": [
      "100%|███████████████████████████████████████| 1000/1000 [00:11<00:00, 90.14it/s]\n"
     ]
    },
    {
     "name": "stdout",
     "output_type": "stream",
     "text": [
      "Training completed for epoch 2\n",
      "Training accuracy for epoch 2: 0.2001875\n",
      "Training time for this epoch: 11.11031198501587\n"
     ]
    },
    {
     "name": "stderr",
     "output_type": "stream",
     "text": [
      "100%|██████████████████████████████████████████| 50/50 [00:00<00:00, 248.98it/s]\n"
     ]
    },
    {
     "name": "stdout",
     "output_type": "stream",
     "text": [
      "Validation completed for epoch 2\n",
      "Validation accuracy for epoch 2: 0.4\n",
      "Validation time for this epoch: 0.2018129825592041\n"
     ]
    },
    {
     "name": "stderr",
     "output_type": "stream",
     "text": [
      "100%|███████████████████████████████████████| 1000/1000 [00:12<00:00, 82.55it/s]\n"
     ]
    },
    {
     "name": "stdout",
     "output_type": "stream",
     "text": [
      "Training completed for epoch 3\n",
      "Training accuracy for epoch 3: 0.206125\n",
      "Training time for this epoch: 12.12000298500061\n"
     ]
    },
    {
     "name": "stderr",
     "output_type": "stream",
     "text": [
      "100%|██████████████████████████████████████████| 50/50 [00:00<00:00, 233.31it/s]\n"
     ]
    },
    {
     "name": "stdout",
     "output_type": "stream",
     "text": [
      "Validation completed for epoch 3\n",
      "Validation accuracy for epoch 3: 0.4\n",
      "Validation time for this epoch: 0.2168409824371338\n"
     ]
    },
    {
     "name": "stderr",
     "output_type": "stream",
     "text": [
      "100%|███████████████████████████████████████| 1000/1000 [00:11<00:00, 89.67it/s]\n"
     ]
    },
    {
     "name": "stdout",
     "output_type": "stream",
     "text": [
      "Training completed for epoch 4\n",
      "Training accuracy for epoch 4: 0.2\n",
      "Training time for this epoch: 11.164527893066406\n"
     ]
    },
    {
     "name": "stderr",
     "output_type": "stream",
     "text": [
      "100%|██████████████████████████████████████████| 50/50 [00:00<00:00, 242.12it/s]\n"
     ]
    },
    {
     "name": "stdout",
     "output_type": "stream",
     "text": [
      "Validation completed for epoch 4\n",
      "Validation accuracy for epoch 4: 0.4\n",
      "Validation time for this epoch: 0.2075047492980957\n"
     ]
    },
    {
     "name": "stderr",
     "output_type": "stream",
     "text": [
      "100%|███████████████████████████████████████| 1000/1000 [00:11<00:00, 89.21it/s]\n"
     ]
    },
    {
     "name": "stdout",
     "output_type": "stream",
     "text": [
      "Training completed for epoch 5\n",
      "Training accuracy for epoch 5: 0.2\n",
      "Training time for this epoch: 11.215682029724121\n"
     ]
    },
    {
     "name": "stderr",
     "output_type": "stream",
     "text": [
      "100%|██████████████████████████████████████████| 50/50 [00:00<00:00, 232.19it/s]\n",
      "[I 2023-11-08 00:32:22,811] Trial 8 finished with value: -0.4 and parameters: {'h': 16, 'learning_rate': 0.05696696809540946}. Best is trial 6 with value: -0.53375.\n"
     ]
    },
    {
     "name": "stdout",
     "output_type": "stream",
     "text": [
      "Validation completed for epoch 5\n",
      "Validation accuracy for epoch 5: 0.4\n",
      "Validation time for this epoch: 0.21630406379699707\n"
     ]
    },
    {
     "name": "stderr",
     "output_type": "stream",
     "text": [
      "100%|███████████████████████████████████████| 1000/1000 [00:32<00:00, 30.68it/s]\n"
     ]
    },
    {
     "name": "stdout",
     "output_type": "stream",
     "text": [
      "Training completed for epoch 1\n",
      "Training accuracy for epoch 1: 0.2203125\n",
      "Training time for this epoch: 32.59576392173767\n"
     ]
    },
    {
     "name": "stderr",
     "output_type": "stream",
     "text": [
      "100%|██████████████████████████████████████████| 50/50 [00:00<00:00, 151.57it/s]\n"
     ]
    },
    {
     "name": "stdout",
     "output_type": "stream",
     "text": [
      "Validation completed for epoch 1\n",
      "Validation accuracy for epoch 1: 0.40125\n",
      "Validation time for this epoch: 0.33094310760498047\n"
     ]
    },
    {
     "name": "stderr",
     "output_type": "stream",
     "text": [
      "100%|███████████████████████████████████████| 1000/1000 [00:32<00:00, 30.41it/s]\n"
     ]
    },
    {
     "name": "stdout",
     "output_type": "stream",
     "text": [
      "Training completed for epoch 2\n",
      "Training accuracy for epoch 2: 0.327375\n",
      "Training time for this epoch: 32.89395499229431\n"
     ]
    },
    {
     "name": "stderr",
     "output_type": "stream",
     "text": [
      "100%|██████████████████████████████████████████| 50/50 [00:00<00:00, 166.66it/s]\n"
     ]
    },
    {
     "name": "stdout",
     "output_type": "stream",
     "text": [
      "Validation completed for epoch 2\n",
      "Validation accuracy for epoch 2: 0.51375\n",
      "Validation time for this epoch: 0.30103302001953125\n"
     ]
    },
    {
     "name": "stderr",
     "output_type": "stream",
     "text": [
      "100%|███████████████████████████████████████| 1000/1000 [00:32<00:00, 30.69it/s]\n"
     ]
    },
    {
     "name": "stdout",
     "output_type": "stream",
     "text": [
      "Training completed for epoch 3\n",
      "Training accuracy for epoch 3: 0.407875\n",
      "Training time for this epoch: 32.58483815193176\n"
     ]
    },
    {
     "name": "stderr",
     "output_type": "stream",
     "text": [
      "100%|██████████████████████████████████████████| 50/50 [00:00<00:00, 171.91it/s]\n"
     ]
    },
    {
     "name": "stdout",
     "output_type": "stream",
     "text": [
      "Validation completed for epoch 3\n",
      "Validation accuracy for epoch 3: 0.58125\n",
      "Validation time for this epoch: 0.29181504249572754\n"
     ]
    },
    {
     "name": "stderr",
     "output_type": "stream",
     "text": [
      "100%|███████████████████████████████████████| 1000/1000 [00:32<00:00, 31.10it/s]\n"
     ]
    },
    {
     "name": "stdout",
     "output_type": "stream",
     "text": [
      "Training completed for epoch 4\n",
      "Training accuracy for epoch 4: 0.4303125\n",
      "Training time for this epoch: 32.16577100753784\n"
     ]
    },
    {
     "name": "stderr",
     "output_type": "stream",
     "text": [
      "100%|██████████████████████████████████████████| 50/50 [00:00<00:00, 168.32it/s]\n"
     ]
    },
    {
     "name": "stdout",
     "output_type": "stream",
     "text": [
      "Validation completed for epoch 4\n",
      "Validation accuracy for epoch 4: 0.57625\n",
      "Validation time for this epoch: 0.29799413681030273\n"
     ]
    },
    {
     "name": "stderr",
     "output_type": "stream",
     "text": [
      "100%|███████████████████████████████████████| 1000/1000 [00:32<00:00, 30.67it/s]\n"
     ]
    },
    {
     "name": "stdout",
     "output_type": "stream",
     "text": [
      "Training completed for epoch 5\n",
      "Training accuracy for epoch 5: 0.444625\n",
      "Training time for this epoch: 32.61015582084656\n"
     ]
    },
    {
     "name": "stderr",
     "output_type": "stream",
     "text": [
      "100%|██████████████████████████████████████████| 50/50 [00:00<00:00, 170.78it/s]\n",
      "[I 2023-11-08 00:35:07,194] Trial 9 finished with value: -0.55 and parameters: {'h': 36, 'learning_rate': 0.015790296308639575}. Best is trial 9 with value: -0.55.\n"
     ]
    },
    {
     "name": "stdout",
     "output_type": "stream",
     "text": [
      "Validation completed for epoch 5\n",
      "Validation accuracy for epoch 5: 0.55\n",
      "Validation time for this epoch: 0.2937469482421875\n"
     ]
    },
    {
     "name": "stderr",
     "output_type": "stream",
     "text": [
      "100%|███████████████████████████████████████| 1000/1000 [00:46<00:00, 21.68it/s]\n"
     ]
    },
    {
     "name": "stdout",
     "output_type": "stream",
     "text": [
      "Training completed for epoch 1\n",
      "Training accuracy for epoch 1: 0.1994375\n",
      "Training time for this epoch: 46.13443994522095\n"
     ]
    },
    {
     "name": "stderr",
     "output_type": "stream",
     "text": [
      "100%|██████████████████████████████████████████| 50/50 [00:00<00:00, 126.30it/s]\n"
     ]
    },
    {
     "name": "stdout",
     "output_type": "stream",
     "text": [
      "Validation completed for epoch 1\n",
      "Validation accuracy for epoch 1: 0.4\n",
      "Validation time for this epoch: 0.3969259262084961\n"
     ]
    },
    {
     "name": "stderr",
     "output_type": "stream",
     "text": [
      "100%|███████████████████████████████████████| 1000/1000 [00:46<00:00, 21.39it/s]\n"
     ]
    },
    {
     "name": "stdout",
     "output_type": "stream",
     "text": [
      "Training completed for epoch 2\n",
      "Training accuracy for epoch 2: 0.2\n",
      "Training time for this epoch: 46.755529165267944\n"
     ]
    },
    {
     "name": "stderr",
     "output_type": "stream",
     "text": [
      "100%|██████████████████████████████████████████| 50/50 [00:00<00:00, 129.18it/s]\n"
     ]
    },
    {
     "name": "stdout",
     "output_type": "stream",
     "text": [
      "Validation completed for epoch 2\n",
      "Validation accuracy for epoch 2: 0.4\n",
      "Validation time for this epoch: 0.3880472183227539\n"
     ]
    },
    {
     "name": "stderr",
     "output_type": "stream",
     "text": [
      "100%|███████████████████████████████████████| 1000/1000 [00:47<00:00, 21.27it/s]\n"
     ]
    },
    {
     "name": "stdout",
     "output_type": "stream",
     "text": [
      "Training completed for epoch 3\n",
      "Training accuracy for epoch 3: 0.2\n",
      "Training time for this epoch: 47.01720905303955\n"
     ]
    },
    {
     "name": "stderr",
     "output_type": "stream",
     "text": [
      "100%|██████████████████████████████████████████| 50/50 [00:00<00:00, 138.18it/s]\n"
     ]
    },
    {
     "name": "stdout",
     "output_type": "stream",
     "text": [
      "Validation completed for epoch 3\n",
      "Validation accuracy for epoch 3: 0.4\n",
      "Validation time for this epoch: 0.3628730773925781\n"
     ]
    },
    {
     "name": "stderr",
     "output_type": "stream",
     "text": [
      "100%|███████████████████████████████████████| 1000/1000 [00:46<00:00, 21.52it/s]\n"
     ]
    },
    {
     "name": "stdout",
     "output_type": "stream",
     "text": [
      "Training completed for epoch 4\n",
      "Training accuracy for epoch 4: 0.2\n",
      "Training time for this epoch: 46.47489404678345\n"
     ]
    },
    {
     "name": "stderr",
     "output_type": "stream",
     "text": [
      "100%|██████████████████████████████████████████| 50/50 [00:00<00:00, 139.88it/s]\n"
     ]
    },
    {
     "name": "stdout",
     "output_type": "stream",
     "text": [
      "Validation completed for epoch 4\n",
      "Validation accuracy for epoch 4: 0.4\n",
      "Validation time for this epoch: 0.358565092086792\n"
     ]
    },
    {
     "name": "stderr",
     "output_type": "stream",
     "text": [
      "100%|███████████████████████████████████████| 1000/1000 [00:45<00:00, 21.88it/s]\n"
     ]
    },
    {
     "name": "stdout",
     "output_type": "stream",
     "text": [
      "Training completed for epoch 5\n",
      "Training accuracy for epoch 5: 0.2\n",
      "Training time for this epoch: 45.71187090873718\n"
     ]
    },
    {
     "name": "stderr",
     "output_type": "stream",
     "text": [
      "100%|██████████████████████████████████████████| 50/50 [00:00<00:00, 136.07it/s]\n",
      "[I 2023-11-08 00:39:01,232] Trial 10 finished with value: -0.4 and parameters: {'h': 50, 'learning_rate': 0.061346293030362084}. Best is trial 9 with value: -0.55.\n"
     ]
    },
    {
     "name": "stdout",
     "output_type": "stream",
     "text": [
      "Validation completed for epoch 5\n",
      "Validation accuracy for epoch 5: 0.4\n",
      "Validation time for this epoch: 0.368488073348999\n"
     ]
    },
    {
     "name": "stderr",
     "output_type": "stream",
     "text": [
      "100%|███████████████████████████████████████| 1000/1000 [00:20<00:00, 48.03it/s]\n"
     ]
    },
    {
     "name": "stdout",
     "output_type": "stream",
     "text": [
      "Training completed for epoch 1\n",
      "Training accuracy for epoch 1: 0.2923125\n",
      "Training time for this epoch: 20.824774742126465\n"
     ]
    },
    {
     "name": "stderr",
     "output_type": "stream",
     "text": [
      "100%|██████████████████████████████████████████| 50/50 [00:00<00:00, 228.07it/s]\n"
     ]
    },
    {
     "name": "stdout",
     "output_type": "stream",
     "text": [
      "Validation completed for epoch 1\n",
      "Validation accuracy for epoch 1: 0.435\n",
      "Validation time for this epoch: 0.22020602226257324\n"
     ]
    },
    {
     "name": "stderr",
     "output_type": "stream",
     "text": [
      "100%|███████████████████████████████████████| 1000/1000 [00:20<00:00, 48.85it/s]\n"
     ]
    },
    {
     "name": "stdout",
     "output_type": "stream",
     "text": [
      "Training completed for epoch 2\n",
      "Training accuracy for epoch 2: 0.3710625\n",
      "Training time for this epoch: 20.477910041809082\n"
     ]
    },
    {
     "name": "stderr",
     "output_type": "stream",
     "text": [
      "100%|██████████████████████████████████████████| 50/50 [00:00<00:00, 211.24it/s]\n"
     ]
    },
    {
     "name": "stdout",
     "output_type": "stream",
     "text": [
      "Validation completed for epoch 2\n",
      "Validation accuracy for epoch 2: 0.43\n",
      "Validation time for this epoch: 0.23761272430419922\n"
     ]
    },
    {
     "name": "stderr",
     "output_type": "stream",
     "text": [
      "100%|███████████████████████████████████████| 1000/1000 [00:20<00:00, 47.76it/s]\n"
     ]
    },
    {
     "name": "stdout",
     "output_type": "stream",
     "text": [
      "Training completed for epoch 3\n",
      "Training accuracy for epoch 3: 0.4201875\n",
      "Training time for this epoch: 20.94304633140564\n"
     ]
    },
    {
     "name": "stderr",
     "output_type": "stream",
     "text": [
      "100%|██████████████████████████████████████████| 50/50 [00:00<00:00, 220.62it/s]\n"
     ]
    },
    {
     "name": "stdout",
     "output_type": "stream",
     "text": [
      "Validation completed for epoch 3\n",
      "Validation accuracy for epoch 3: 0.5275\n",
      "Validation time for this epoch: 0.22768688201904297\n"
     ]
    },
    {
     "name": "stderr",
     "output_type": "stream",
     "text": [
      "100%|███████████████████████████████████████| 1000/1000 [00:20<00:00, 47.88it/s]\n"
     ]
    },
    {
     "name": "stdout",
     "output_type": "stream",
     "text": [
      "Training completed for epoch 4\n",
      "Training accuracy for epoch 4: 0.4563125\n",
      "Training time for this epoch: 20.8933207988739\n"
     ]
    },
    {
     "name": "stderr",
     "output_type": "stream",
     "text": [
      "100%|██████████████████████████████████████████| 50/50 [00:00<00:00, 222.64it/s]\n"
     ]
    },
    {
     "name": "stdout",
     "output_type": "stream",
     "text": [
      "Validation completed for epoch 4\n",
      "Validation accuracy for epoch 4: 0.595\n",
      "Validation time for this epoch: 0.22560596466064453\n"
     ]
    },
    {
     "name": "stderr",
     "output_type": "stream",
     "text": [
      "100%|███████████████████████████████████████| 1000/1000 [00:20<00:00, 48.13it/s]\n"
     ]
    },
    {
     "name": "stdout",
     "output_type": "stream",
     "text": [
      "Training completed for epoch 5\n",
      "Training accuracy for epoch 5: 0.4725625\n",
      "Training time for this epoch: 20.780906677246094\n"
     ]
    },
    {
     "name": "stderr",
     "output_type": "stream",
     "text": [
      "100%|██████████████████████████████████████████| 50/50 [00:00<00:00, 219.78it/s]\n",
      "[I 2023-11-08 00:40:46,322] Trial 11 finished with value: -0.56375 and parameters: {'h': 24, 'learning_rate': 0.00724996284919709}. Best is trial 11 with value: -0.56375.\n"
     ]
    },
    {
     "name": "stdout",
     "output_type": "stream",
     "text": [
      "Validation completed for epoch 5\n",
      "Validation accuracy for epoch 5: 0.56375\n",
      "Validation time for this epoch: 0.2285318374633789\n"
     ]
    },
    {
     "name": "stderr",
     "output_type": "stream",
     "text": [
      "100%|███████████████████████████████████████| 1000/1000 [00:17<00:00, 56.12it/s]\n"
     ]
    },
    {
     "name": "stdout",
     "output_type": "stream",
     "text": [
      "Training completed for epoch 1\n",
      "Training accuracy for epoch 1: 0.2425\n",
      "Training time for this epoch: 17.824121952056885\n"
     ]
    },
    {
     "name": "stderr",
     "output_type": "stream",
     "text": [
      "100%|██████████████████████████████████████████| 50/50 [00:00<00:00, 229.84it/s]\n"
     ]
    },
    {
     "name": "stdout",
     "output_type": "stream",
     "text": [
      "Validation completed for epoch 1\n",
      "Validation accuracy for epoch 1: 0.34625\n",
      "Validation time for this epoch: 0.21850132942199707\n"
     ]
    },
    {
     "name": "stderr",
     "output_type": "stream",
     "text": [
      "100%|███████████████████████████████████████| 1000/1000 [00:17<00:00, 56.79it/s]\n"
     ]
    },
    {
     "name": "stdout",
     "output_type": "stream",
     "text": [
      "Training completed for epoch 2\n",
      "Training accuracy for epoch 2: 0.257625\n",
      "Training time for this epoch: 17.614715099334717\n"
     ]
    },
    {
     "name": "stderr",
     "output_type": "stream",
     "text": [
      "100%|██████████████████████████████████████████| 50/50 [00:00<00:00, 228.06it/s]\n"
     ]
    },
    {
     "name": "stdout",
     "output_type": "stream",
     "text": [
      "Validation completed for epoch 2\n",
      "Validation accuracy for epoch 2: 0.36625\n",
      "Validation time for this epoch: 0.2202739715576172\n"
     ]
    },
    {
     "name": "stderr",
     "output_type": "stream",
     "text": [
      "100%|███████████████████████████████████████| 1000/1000 [00:17<00:00, 55.96it/s]\n"
     ]
    },
    {
     "name": "stdout",
     "output_type": "stream",
     "text": [
      "Training completed for epoch 3\n",
      "Training accuracy for epoch 3: 0.2846875\n",
      "Training time for this epoch: 17.87783908843994\n"
     ]
    },
    {
     "name": "stderr",
     "output_type": "stream",
     "text": [
      "100%|██████████████████████████████████████████| 50/50 [00:00<00:00, 231.25it/s]\n"
     ]
    },
    {
     "name": "stdout",
     "output_type": "stream",
     "text": [
      "Validation completed for epoch 3\n",
      "Validation accuracy for epoch 3: 0.36625\n",
      "Validation time for this epoch: 0.2171781063079834\n"
     ]
    },
    {
     "name": "stderr",
     "output_type": "stream",
     "text": [
      "100%|███████████████████████████████████████| 1000/1000 [00:18<00:00, 55.48it/s]\n"
     ]
    },
    {
     "name": "stdout",
     "output_type": "stream",
     "text": [
      "Training completed for epoch 4\n",
      "Training accuracy for epoch 4: 0.29975\n",
      "Training time for this epoch: 18.02861213684082\n"
     ]
    },
    {
     "name": "stderr",
     "output_type": "stream",
     "text": [
      "100%|██████████████████████████████████████████| 50/50 [00:00<00:00, 214.55it/s]\n"
     ]
    },
    {
     "name": "stdout",
     "output_type": "stream",
     "text": [
      "Validation completed for epoch 4\n",
      "Validation accuracy for epoch 4: 0.37125\n",
      "Validation time for this epoch: 0.2340841293334961\n"
     ]
    },
    {
     "name": "stderr",
     "output_type": "stream",
     "text": [
      "100%|███████████████████████████████████████| 1000/1000 [00:17<00:00, 56.69it/s]\n"
     ]
    },
    {
     "name": "stdout",
     "output_type": "stream",
     "text": [
      "Training completed for epoch 5\n",
      "Training accuracy for epoch 5: 0.3201875\n",
      "Training time for this epoch: 17.645405769348145\n"
     ]
    },
    {
     "name": "stderr",
     "output_type": "stream",
     "text": [
      "100%|██████████████████████████████████████████| 50/50 [00:00<00:00, 246.92it/s]\n",
      "[I 2023-11-08 00:42:16,422] Trial 12 finished with value: -0.38125 and parameters: {'h': 21, 'learning_rate': 1.0339306344000748e-05}. Best is trial 11 with value: -0.56375.\n"
     ]
    },
    {
     "name": "stdout",
     "output_type": "stream",
     "text": [
      "Validation completed for epoch 5\n",
      "Validation accuracy for epoch 5: 0.38125\n",
      "Validation time for this epoch: 0.20349788665771484\n"
     ]
    },
    {
     "name": "stderr",
     "output_type": "stream",
     "text": [
      "100%|███████████████████████████████████████| 1000/1000 [00:20<00:00, 47.98it/s]\n"
     ]
    },
    {
     "name": "stdout",
     "output_type": "stream",
     "text": [
      "Training completed for epoch 1\n",
      "Training accuracy for epoch 1: 0.378375\n",
      "Training time for this epoch: 20.84554624557495\n"
     ]
    },
    {
     "name": "stderr",
     "output_type": "stream",
     "text": [
      "100%|██████████████████████████████████████████| 50/50 [00:00<00:00, 221.19it/s]\n"
     ]
    },
    {
     "name": "stdout",
     "output_type": "stream",
     "text": [
      "Validation completed for epoch 1\n",
      "Validation accuracy for epoch 1: 0.5275\n",
      "Validation time for this epoch: 0.22705483436584473\n"
     ]
    },
    {
     "name": "stderr",
     "output_type": "stream",
     "text": [
      "100%|███████████████████████████████████████| 1000/1000 [00:21<00:00, 46.97it/s]\n"
     ]
    },
    {
     "name": "stdout",
     "output_type": "stream",
     "text": [
      "Training completed for epoch 2\n",
      "Training accuracy for epoch 2: 0.4945625\n",
      "Training time for this epoch: 21.302849054336548\n"
     ]
    },
    {
     "name": "stderr",
     "output_type": "stream",
     "text": [
      "100%|██████████████████████████████████████████| 50/50 [00:00<00:00, 211.33it/s]\n"
     ]
    },
    {
     "name": "stdout",
     "output_type": "stream",
     "text": [
      "Validation completed for epoch 2\n",
      "Validation accuracy for epoch 2: 0.4825\n",
      "Validation time for this epoch: 0.23763298988342285\n"
     ]
    },
    {
     "name": "stderr",
     "output_type": "stream",
     "text": [
      "100%|███████████████████████████████████████| 1000/1000 [00:21<00:00, 47.54it/s]\n"
     ]
    },
    {
     "name": "stdout",
     "output_type": "stream",
     "text": [
      "Training completed for epoch 3\n",
      "Training accuracy for epoch 3: 0.5378125\n",
      "Training time for this epoch: 21.040269136428833\n"
     ]
    },
    {
     "name": "stderr",
     "output_type": "stream",
     "text": [
      "100%|██████████████████████████████████████████| 50/50 [00:00<00:00, 227.92it/s]\n"
     ]
    },
    {
     "name": "stdout",
     "output_type": "stream",
     "text": [
      "Validation completed for epoch 3\n",
      "Validation accuracy for epoch 3: 0.48875\n",
      "Validation time for this epoch: 0.22040867805480957\n"
     ]
    },
    {
     "name": "stderr",
     "output_type": "stream",
     "text": [
      "100%|███████████████████████████████████████| 1000/1000 [00:20<00:00, 47.72it/s]\n"
     ]
    },
    {
     "name": "stdout",
     "output_type": "stream",
     "text": [
      "Training completed for epoch 4\n",
      "Training accuracy for epoch 4: 0.569125\n",
      "Training time for this epoch: 20.96737575531006\n"
     ]
    },
    {
     "name": "stderr",
     "output_type": "stream",
     "text": [
      "100%|██████████████████████████████████████████| 50/50 [00:00<00:00, 204.03it/s]\n"
     ]
    },
    {
     "name": "stdout",
     "output_type": "stream",
     "text": [
      "Validation completed for epoch 4\n",
      "Validation accuracy for epoch 4: 0.52875\n",
      "Validation time for this epoch: 0.24613404273986816\n"
     ]
    },
    {
     "name": "stderr",
     "output_type": "stream",
     "text": [
      "100%|███████████████████████████████████████| 1000/1000 [00:21<00:00, 47.32it/s]\n"
     ]
    },
    {
     "name": "stdout",
     "output_type": "stream",
     "text": [
      "Training completed for epoch 5\n",
      "Training accuracy for epoch 5: 0.6028125\n",
      "Training time for this epoch: 21.14017367362976\n"
     ]
    },
    {
     "name": "stderr",
     "output_type": "stream",
     "text": [
      "100%|██████████████████████████████████████████| 50/50 [00:00<00:00, 218.58it/s]\n",
      "[I 2023-11-08 00:44:02,895] Trial 13 finished with value: -0.5375 and parameters: {'h': 24, 'learning_rate': 0.01031049542162627}. Best is trial 11 with value: -0.56375.\n"
     ]
    },
    {
     "name": "stdout",
     "output_type": "stream",
     "text": [
      "Validation completed for epoch 5\n",
      "Validation accuracy for epoch 5: 0.5375\n",
      "Validation time for this epoch: 0.22979187965393066\n"
     ]
    },
    {
     "name": "stderr",
     "output_type": "stream",
     "text": [
      "100%|███████████████████████████████████████| 1000/1000 [00:23<00:00, 42.22it/s]\n"
     ]
    },
    {
     "name": "stdout",
     "output_type": "stream",
     "text": [
      "Training completed for epoch 1\n",
      "Training accuracy for epoch 1: 0.371125\n",
      "Training time for this epoch: 23.691346883773804\n"
     ]
    },
    {
     "name": "stderr",
     "output_type": "stream",
     "text": [
      "100%|██████████████████████████████████████████| 50/50 [00:00<00:00, 191.27it/s]\n"
     ]
    },
    {
     "name": "stdout",
     "output_type": "stream",
     "text": [
      "Validation completed for epoch 1\n",
      "Validation accuracy for epoch 1: 0.42375\n",
      "Validation time for this epoch: 0.2624938488006592\n"
     ]
    },
    {
     "name": "stderr",
     "output_type": "stream",
     "text": [
      "100%|███████████████████████████████████████| 1000/1000 [00:23<00:00, 42.21it/s]\n"
     ]
    },
    {
     "name": "stdout",
     "output_type": "stream",
     "text": [
      "Training completed for epoch 2\n",
      "Training accuracy for epoch 2: 0.4525\n",
      "Training time for this epoch: 23.696056127548218\n"
     ]
    },
    {
     "name": "stderr",
     "output_type": "stream",
     "text": [
      "100%|██████████████████████████████████████████| 50/50 [00:00<00:00, 206.09it/s]\n"
     ]
    },
    {
     "name": "stdout",
     "output_type": "stream",
     "text": [
      "Validation completed for epoch 2\n",
      "Validation accuracy for epoch 2: 0.5425\n",
      "Validation time for this epoch: 0.2436530590057373\n"
     ]
    },
    {
     "name": "stderr",
     "output_type": "stream",
     "text": [
      "100%|███████████████████████████████████████| 1000/1000 [00:23<00:00, 41.70it/s]\n"
     ]
    },
    {
     "name": "stdout",
     "output_type": "stream",
     "text": [
      "Training completed for epoch 3\n",
      "Training accuracy for epoch 3: 0.4791875\n",
      "Training time for this epoch: 23.98924708366394\n"
     ]
    },
    {
     "name": "stderr",
     "output_type": "stream",
     "text": [
      "100%|██████████████████████████████████████████| 50/50 [00:00<00:00, 209.27it/s]\n"
     ]
    },
    {
     "name": "stdout",
     "output_type": "stream",
     "text": [
      "Validation completed for epoch 3\n",
      "Validation accuracy for epoch 3: 0.53125\n",
      "Validation time for this epoch: 0.23997712135314941\n"
     ]
    },
    {
     "name": "stderr",
     "output_type": "stream",
     "text": [
      "100%|███████████████████████████████████████| 1000/1000 [00:23<00:00, 42.23it/s]\n"
     ]
    },
    {
     "name": "stdout",
     "output_type": "stream",
     "text": [
      "Training completed for epoch 4\n",
      "Training accuracy for epoch 4: 0.5116875\n",
      "Training time for this epoch: 23.685458183288574\n"
     ]
    },
    {
     "name": "stderr",
     "output_type": "stream",
     "text": [
      "100%|██████████████████████████████████████████| 50/50 [00:00<00:00, 213.13it/s]\n"
     ]
    },
    {
     "name": "stdout",
     "output_type": "stream",
     "text": [
      "Validation completed for epoch 4\n",
      "Validation accuracy for epoch 4: 0.48375\n",
      "Validation time for this epoch: 0.23573994636535645\n"
     ]
    },
    {
     "name": "stderr",
     "output_type": "stream",
     "text": [
      "100%|███████████████████████████████████████| 1000/1000 [00:23<00:00, 41.77it/s]\n"
     ]
    },
    {
     "name": "stdout",
     "output_type": "stream",
     "text": [
      "Training completed for epoch 5\n",
      "Training accuracy for epoch 5: 0.5533125\n",
      "Training time for this epoch: 23.954663276672363\n"
     ]
    },
    {
     "name": "stderr",
     "output_type": "stream",
     "text": [
      "100%|██████████████████████████████████████████| 50/50 [00:00<00:00, 205.11it/s]\n",
      "[I 2023-11-08 00:46:03,156] Trial 14 finished with value: -0.2225 and parameters: {'h': 27, 'learning_rate': 0.020693638455969852}. Best is trial 11 with value: -0.56375.\n"
     ]
    },
    {
     "name": "stdout",
     "output_type": "stream",
     "text": [
      "Validation completed for epoch 5\n",
      "Validation accuracy for epoch 5: 0.2225\n",
      "Validation time for this epoch: 0.24483275413513184\n"
     ]
    },
    {
     "name": "stderr",
     "output_type": "stream",
     "text": [
      "100%|███████████████████████████████████████| 1000/1000 [00:14<00:00, 69.19it/s]\n"
     ]
    },
    {
     "name": "stdout",
     "output_type": "stream",
     "text": [
      "Training completed for epoch 1\n",
      "Training accuracy for epoch 1: 0.2125625\n",
      "Training time for this epoch: 14.458691120147705\n"
     ]
    },
    {
     "name": "stderr",
     "output_type": "stream",
     "text": [
      "100%|██████████████████████████████████████████| 50/50 [00:00<00:00, 182.41it/s]\n"
     ]
    },
    {
     "name": "stdout",
     "output_type": "stream",
     "text": [
      "Validation completed for epoch 1\n",
      "Validation accuracy for epoch 1: 0.42875\n",
      "Validation time for this epoch: 0.2930788993835449\n"
     ]
    },
    {
     "name": "stderr",
     "output_type": "stream",
     "text": [
      "100%|███████████████████████████████████████| 1000/1000 [00:14<00:00, 67.94it/s]\n"
     ]
    },
    {
     "name": "stdout",
     "output_type": "stream",
     "text": [
      "Training completed for epoch 2\n",
      "Training accuracy for epoch 2: 0.243375\n",
      "Training time for this epoch: 14.72907304763794\n"
     ]
    },
    {
     "name": "stderr",
     "output_type": "stream",
     "text": [
      "100%|██████████████████████████████████████████| 50/50 [00:00<00:00, 244.28it/s]\n"
     ]
    },
    {
     "name": "stdout",
     "output_type": "stream",
     "text": [
      "Validation completed for epoch 2\n",
      "Validation accuracy for epoch 2: 0.54\n",
      "Validation time for this epoch: 0.20566010475158691\n"
     ]
    },
    {
     "name": "stderr",
     "output_type": "stream",
     "text": [
      "100%|███████████████████████████████████████| 1000/1000 [00:14<00:00, 69.67it/s]\n"
     ]
    },
    {
     "name": "stdout",
     "output_type": "stream",
     "text": [
      "Training completed for epoch 3\n",
      "Training accuracy for epoch 3: 0.40475\n",
      "Training time for this epoch: 14.359973669052124\n"
     ]
    },
    {
     "name": "stderr",
     "output_type": "stream",
     "text": [
      "100%|██████████████████████████████████████████| 50/50 [00:00<00:00, 243.68it/s]\n"
     ]
    },
    {
     "name": "stdout",
     "output_type": "stream",
     "text": [
      "Validation completed for epoch 3\n",
      "Validation accuracy for epoch 3: 0.40875\n",
      "Validation time for this epoch: 0.20646905899047852\n"
     ]
    },
    {
     "name": "stderr",
     "output_type": "stream",
     "text": [
      "100%|███████████████████████████████████████| 1000/1000 [00:15<00:00, 65.13it/s]\n"
     ]
    },
    {
     "name": "stdout",
     "output_type": "stream",
     "text": [
      "Training completed for epoch 4\n",
      "Training accuracy for epoch 4: 0.522375\n",
      "Training time for this epoch: 15.360781192779541\n"
     ]
    },
    {
     "name": "stderr",
     "output_type": "stream",
     "text": [
      "100%|██████████████████████████████████████████| 50/50 [00:00<00:00, 246.82it/s]\n"
     ]
    },
    {
     "name": "stdout",
     "output_type": "stream",
     "text": [
      "Validation completed for epoch 4\n",
      "Validation accuracy for epoch 4: 0.61\n",
      "Validation time for this epoch: 0.20468997955322266\n"
     ]
    },
    {
     "name": "stderr",
     "output_type": "stream",
     "text": [
      "100%|███████████████████████████████████████| 1000/1000 [00:14<00:00, 69.78it/s]\n"
     ]
    },
    {
     "name": "stdout",
     "output_type": "stream",
     "text": [
      "Training completed for epoch 5\n",
      "Training accuracy for epoch 5: 0.568625\n",
      "Training time for this epoch: 14.337039947509766\n"
     ]
    },
    {
     "name": "stderr",
     "output_type": "stream",
     "text": [
      "100%|██████████████████████████████████████████| 50/50 [00:00<00:00, 250.60it/s]\n",
      "[I 2023-11-08 00:47:17,539] Trial 15 finished with value: -0.51125 and parameters: {'h': 17, 'learning_rate': 0.004169339940869266}. Best is trial 11 with value: -0.56375.\n"
     ]
    },
    {
     "name": "stdout",
     "output_type": "stream",
     "text": [
      "Validation completed for epoch 5\n",
      "Validation accuracy for epoch 5: 0.51125\n",
      "Validation time for this epoch: 0.20080184936523438\n"
     ]
    },
    {
     "name": "stderr",
     "output_type": "stream",
     "text": [
      "100%|███████████████████████████████████████| 1000/1000 [00:27<00:00, 35.91it/s]\n"
     ]
    },
    {
     "name": "stdout",
     "output_type": "stream",
     "text": [
      "Training completed for epoch 1\n",
      "Training accuracy for epoch 1: 0.3776875\n",
      "Training time for this epoch: 27.85319209098816\n"
     ]
    },
    {
     "name": "stderr",
     "output_type": "stream",
     "text": [
      "100%|██████████████████████████████████████████| 50/50 [00:00<00:00, 177.62it/s]\n"
     ]
    },
    {
     "name": "stdout",
     "output_type": "stream",
     "text": [
      "Validation completed for epoch 1\n",
      "Validation accuracy for epoch 1: 0.51375\n",
      "Validation time for this epoch: 0.2825138568878174\n"
     ]
    },
    {
     "name": "stderr",
     "output_type": "stream",
     "text": [
      "100%|███████████████████████████████████████| 1000/1000 [00:29<00:00, 34.30it/s]\n"
     ]
    },
    {
     "name": "stdout",
     "output_type": "stream",
     "text": [
      "Training completed for epoch 2\n",
      "Training accuracy for epoch 2: 0.5064375\n",
      "Training time for this epoch: 29.156803846359253\n"
     ]
    },
    {
     "name": "stderr",
     "output_type": "stream",
     "text": [
      "100%|██████████████████████████████████████████| 50/50 [00:00<00:00, 146.70it/s]\n"
     ]
    },
    {
     "name": "stdout",
     "output_type": "stream",
     "text": [
      "Validation completed for epoch 2\n",
      "Validation accuracy for epoch 2: 0.5375\n",
      "Validation time for this epoch: 0.34363794326782227\n"
     ]
    },
    {
     "name": "stderr",
     "output_type": "stream",
     "text": [
      "100%|███████████████████████████████████████| 1000/1000 [00:27<00:00, 36.34it/s]\n"
     ]
    },
    {
     "name": "stdout",
     "output_type": "stream",
     "text": [
      "Training completed for epoch 3\n",
      "Training accuracy for epoch 3: 0.5505\n",
      "Training time for this epoch: 27.52103614807129\n"
     ]
    },
    {
     "name": "stderr",
     "output_type": "stream",
     "text": [
      "100%|██████████████████████████████████████████| 50/50 [00:00<00:00, 178.44it/s]\n"
     ]
    },
    {
     "name": "stdout",
     "output_type": "stream",
     "text": [
      "Validation completed for epoch 3\n",
      "Validation accuracy for epoch 3: 0.4275\n",
      "Validation time for this epoch: 0.2812011241912842\n"
     ]
    },
    {
     "name": "stderr",
     "output_type": "stream",
     "text": [
      "100%|███████████████████████████████████████| 1000/1000 [00:27<00:00, 35.76it/s]\n"
     ]
    },
    {
     "name": "stdout",
     "output_type": "stream",
     "text": [
      "Training completed for epoch 4\n",
      "Training accuracy for epoch 4: 0.5871875\n",
      "Training time for this epoch: 27.968968868255615\n"
     ]
    },
    {
     "name": "stderr",
     "output_type": "stream",
     "text": [
      "100%|██████████████████████████████████████████| 50/50 [00:00<00:00, 194.46it/s]\n"
     ]
    },
    {
     "name": "stdout",
     "output_type": "stream",
     "text": [
      "Validation completed for epoch 4\n",
      "Validation accuracy for epoch 4: 0.5075\n",
      "Validation time for this epoch: 0.25817227363586426\n"
     ]
    },
    {
     "name": "stderr",
     "output_type": "stream",
     "text": [
      "100%|███████████████████████████████████████| 1000/1000 [00:28<00:00, 35.68it/s]\n"
     ]
    },
    {
     "name": "stdout",
     "output_type": "stream",
     "text": [
      "Training completed for epoch 5\n",
      "Training accuracy for epoch 5: 0.6158125\n",
      "Training time for this epoch: 28.03184199333191\n"
     ]
    },
    {
     "name": "stderr",
     "output_type": "stream",
     "text": [
      "100%|██████████████████████████████████████████| 50/50 [00:00<00:00, 183.84it/s]\n",
      "[I 2023-11-08 00:49:39,532] Trial 16 finished with value: -0.4725 and parameters: {'h': 32, 'learning_rate': 0.002662116278804577}. Best is trial 11 with value: -0.56375.\n"
     ]
    },
    {
     "name": "stdout",
     "output_type": "stream",
     "text": [
      "Validation completed for epoch 5\n",
      "Validation accuracy for epoch 5: 0.4725\n",
      "Validation time for this epoch: 0.2729940414428711\n"
     ]
    },
    {
     "name": "stderr",
     "output_type": "stream",
     "text": [
      "100%|███████████████████████████████████████| 1000/1000 [00:13<00:00, 72.31it/s]\n"
     ]
    },
    {
     "name": "stdout",
     "output_type": "stream",
     "text": [
      "Training completed for epoch 1\n",
      "Training accuracy for epoch 1: 0.2321875\n",
      "Training time for this epoch: 13.847811937332153\n"
     ]
    },
    {
     "name": "stderr",
     "output_type": "stream",
     "text": [
      "100%|██████████████████████████████████████████| 50/50 [00:00<00:00, 267.55it/s]\n"
     ]
    },
    {
     "name": "stdout",
     "output_type": "stream",
     "text": [
      "Validation completed for epoch 1\n",
      "Validation accuracy for epoch 1: 0.45625\n",
      "Validation time for this epoch: 0.18790078163146973\n"
     ]
    },
    {
     "name": "stderr",
     "output_type": "stream",
     "text": [
      "100%|███████████████████████████████████████| 1000/1000 [00:14<00:00, 70.18it/s]\n"
     ]
    },
    {
     "name": "stdout",
     "output_type": "stream",
     "text": [
      "Training completed for epoch 2\n",
      "Training accuracy for epoch 2: 0.369125\n",
      "Training time for this epoch: 14.2650146484375\n"
     ]
    },
    {
     "name": "stderr",
     "output_type": "stream",
     "text": [
      "100%|██████████████████████████████████████████| 50/50 [00:00<00:00, 253.99it/s]\n"
     ]
    },
    {
     "name": "stdout",
     "output_type": "stream",
     "text": [
      "Validation completed for epoch 2\n",
      "Validation accuracy for epoch 2: 0.49\n",
      "Validation time for this epoch: 0.19805502891540527\n"
     ]
    },
    {
     "name": "stderr",
     "output_type": "stream",
     "text": [
      "100%|███████████████████████████████████████| 1000/1000 [00:13<00:00, 71.61it/s]\n"
     ]
    },
    {
     "name": "stdout",
     "output_type": "stream",
     "text": [
      "Training completed for epoch 3\n",
      "Training accuracy for epoch 3: 0.468875\n",
      "Training time for this epoch: 13.970659017562866\n"
     ]
    },
    {
     "name": "stderr",
     "output_type": "stream",
     "text": [
      "100%|██████████████████████████████████████████| 50/50 [00:00<00:00, 260.08it/s]\n"
     ]
    },
    {
     "name": "stdout",
     "output_type": "stream",
     "text": [
      "Validation completed for epoch 3\n",
      "Validation accuracy for epoch 3: 0.5075\n",
      "Validation time for this epoch: 0.19332671165466309\n"
     ]
    },
    {
     "name": "stderr",
     "output_type": "stream",
     "text": [
      "100%|███████████████████████████████████████| 1000/1000 [00:13<00:00, 71.68it/s]\n"
     ]
    },
    {
     "name": "stdout",
     "output_type": "stream",
     "text": [
      "Training completed for epoch 4\n",
      "Training accuracy for epoch 4: 0.4973125\n",
      "Training time for this epoch: 13.956302881240845\n"
     ]
    },
    {
     "name": "stderr",
     "output_type": "stream",
     "text": [
      "100%|██████████████████████████████████████████| 50/50 [00:00<00:00, 255.45it/s]\n"
     ]
    },
    {
     "name": "stdout",
     "output_type": "stream",
     "text": [
      "Validation completed for epoch 4\n",
      "Validation accuracy for epoch 4: 0.4525\n",
      "Validation time for this epoch: 0.19676613807678223\n"
     ]
    },
    {
     "name": "stderr",
     "output_type": "stream",
     "text": [
      "100%|███████████████████████████████████████| 1000/1000 [00:13<00:00, 72.56it/s]\n"
     ]
    },
    {
     "name": "stdout",
     "output_type": "stream",
     "text": [
      "Training completed for epoch 5\n",
      "Training accuracy for epoch 5: 0.5345625\n",
      "Training time for this epoch: 13.787007093429565\n"
     ]
    },
    {
     "name": "stderr",
     "output_type": "stream",
     "text": [
      "100%|██████████████████████████████████████████| 50/50 [00:00<00:00, 264.05it/s]\n",
      "[I 2023-11-08 00:50:50,358] Trial 17 finished with value: -0.52375 and parameters: {'h': 17, 'learning_rate': 0.019587184166758923}. Best is trial 11 with value: -0.56375.\n"
     ]
    },
    {
     "name": "stdout",
     "output_type": "stream",
     "text": [
      "Validation completed for epoch 5\n",
      "Validation accuracy for epoch 5: 0.52375\n",
      "Validation time for this epoch: 0.19439387321472168\n"
     ]
    },
    {
     "name": "stderr",
     "output_type": "stream",
     "text": [
      "100%|███████████████████████████████████████| 1000/1000 [00:41<00:00, 23.98it/s]\n"
     ]
    },
    {
     "name": "stdout",
     "output_type": "stream",
     "text": [
      "Training completed for epoch 1\n",
      "Training accuracy for epoch 1: 0.391375\n",
      "Training time for this epoch: 41.707165002822876\n"
     ]
    },
    {
     "name": "stderr",
     "output_type": "stream",
     "text": [
      "100%|██████████████████████████████████████████| 50/50 [00:00<00:00, 143.71it/s]\n"
     ]
    },
    {
     "name": "stdout",
     "output_type": "stream",
     "text": [
      "Validation completed for epoch 1\n",
      "Validation accuracy for epoch 1: 0.50875\n",
      "Validation time for this epoch: 0.3488309383392334\n"
     ]
    },
    {
     "name": "stderr",
     "output_type": "stream",
     "text": [
      "100%|███████████████████████████████████████| 1000/1000 [00:41<00:00, 23.86it/s]\n"
     ]
    },
    {
     "name": "stdout",
     "output_type": "stream",
     "text": [
      "Training completed for epoch 2\n",
      "Training accuracy for epoch 2: 0.5020625\n",
      "Training time for this epoch: 41.91885590553284\n"
     ]
    },
    {
     "name": "stderr",
     "output_type": "stream",
     "text": [
      "100%|██████████████████████████████████████████| 50/50 [00:00<00:00, 146.79it/s]\n"
     ]
    },
    {
     "name": "stdout",
     "output_type": "stream",
     "text": [
      "Validation completed for epoch 2\n",
      "Validation accuracy for epoch 2: 0.45875\n",
      "Validation time for this epoch: 0.3416008949279785\n"
     ]
    },
    {
     "name": "stderr",
     "output_type": "stream",
     "text": [
      "100%|███████████████████████████████████████| 1000/1000 [00:41<00:00, 24.13it/s]\n"
     ]
    },
    {
     "name": "stdout",
     "output_type": "stream",
     "text": [
      "Training completed for epoch 3\n",
      "Training accuracy for epoch 3: 0.5436875\n",
      "Training time for this epoch: 41.45761489868164\n"
     ]
    },
    {
     "name": "stderr",
     "output_type": "stream",
     "text": [
      "100%|██████████████████████████████████████████| 50/50 [00:00<00:00, 147.25it/s]\n"
     ]
    },
    {
     "name": "stdout",
     "output_type": "stream",
     "text": [
      "Validation completed for epoch 3\n",
      "Validation accuracy for epoch 3: 0.49375\n",
      "Validation time for this epoch: 0.3406178951263428\n"
     ]
    },
    {
     "name": "stderr",
     "output_type": "stream",
     "text": [
      "100%|███████████████████████████████████████| 1000/1000 [00:41<00:00, 23.83it/s]\n"
     ]
    },
    {
     "name": "stdout",
     "output_type": "stream",
     "text": [
      "Training completed for epoch 4\n",
      "Training accuracy for epoch 4: 0.5815\n",
      "Training time for this epoch: 41.977452754974365\n"
     ]
    },
    {
     "name": "stderr",
     "output_type": "stream",
     "text": [
      "100%|██████████████████████████████████████████| 50/50 [00:00<00:00, 136.06it/s]\n"
     ]
    },
    {
     "name": "stdout",
     "output_type": "stream",
     "text": [
      "Validation completed for epoch 4\n",
      "Validation accuracy for epoch 4: 0.52125\n",
      "Validation time for this epoch: 0.3685638904571533\n"
     ]
    },
    {
     "name": "stderr",
     "output_type": "stream",
     "text": [
      "100%|███████████████████████████████████████| 1000/1000 [00:41<00:00, 23.88it/s]\n"
     ]
    },
    {
     "name": "stdout",
     "output_type": "stream",
     "text": [
      "Training completed for epoch 5\n",
      "Training accuracy for epoch 5: 0.60275\n",
      "Training time for this epoch: 41.893266916275024\n"
     ]
    },
    {
     "name": "stderr",
     "output_type": "stream",
     "text": [
      "100%|██████████████████████████████████████████| 50/50 [00:00<00:00, 146.27it/s]\n",
      "[I 2023-11-08 00:54:21,083] Trial 18 finished with value: -0.50625 and parameters: {'h': 48, 'learning_rate': 0.0019229122305954834}. Best is trial 11 with value: -0.56375.\n"
     ]
    },
    {
     "name": "stdout",
     "output_type": "stream",
     "text": [
      "Validation completed for epoch 5\n",
      "Validation accuracy for epoch 5: 0.50625\n",
      "Validation time for this epoch: 0.34293079376220703\n"
     ]
    },
    {
     "name": "stderr",
     "output_type": "stream",
     "text": [
      "100%|███████████████████████████████████████| 1000/1000 [00:24<00:00, 41.32it/s]\n"
     ]
    },
    {
     "name": "stdout",
     "output_type": "stream",
     "text": [
      "Training completed for epoch 1\n",
      "Training accuracy for epoch 1: 0.1996875\n",
      "Training time for this epoch: 24.203994750976562\n"
     ]
    },
    {
     "name": "stderr",
     "output_type": "stream",
     "text": [
      "100%|██████████████████████████████████████████| 50/50 [00:00<00:00, 191.12it/s]\n"
     ]
    },
    {
     "name": "stdout",
     "output_type": "stream",
     "text": [
      "Validation completed for epoch 1\n",
      "Validation accuracy for epoch 1: 0.4\n",
      "Validation time for this epoch: 0.26265883445739746\n"
     ]
    },
    {
     "name": "stderr",
     "output_type": "stream",
     "text": [
      "100%|███████████████████████████████████████| 1000/1000 [00:24<00:00, 40.66it/s]\n"
     ]
    },
    {
     "name": "stdout",
     "output_type": "stream",
     "text": [
      "Training completed for epoch 2\n",
      "Training accuracy for epoch 2: 0.199875\n",
      "Training time for this epoch: 24.597666025161743\n"
     ]
    },
    {
     "name": "stderr",
     "output_type": "stream",
     "text": [
      "100%|██████████████████████████████████████████| 50/50 [00:00<00:00, 189.87it/s]\n"
     ]
    },
    {
     "name": "stdout",
     "output_type": "stream",
     "text": [
      "Validation completed for epoch 2\n",
      "Validation accuracy for epoch 2: 0.4\n",
      "Validation time for this epoch: 0.26432204246520996\n"
     ]
    },
    {
     "name": "stderr",
     "output_type": "stream",
     "text": [
      "100%|███████████████████████████████████████| 1000/1000 [00:23<00:00, 42.19it/s]\n"
     ]
    },
    {
     "name": "stdout",
     "output_type": "stream",
     "text": [
      "Training completed for epoch 3\n",
      "Training accuracy for epoch 3: 0.2\n",
      "Training time for this epoch: 23.705448150634766\n"
     ]
    },
    {
     "name": "stderr",
     "output_type": "stream",
     "text": [
      "100%|██████████████████████████████████████████| 50/50 [00:00<00:00, 195.17it/s]\n"
     ]
    },
    {
     "name": "stdout",
     "output_type": "stream",
     "text": [
      "Validation completed for epoch 3\n",
      "Validation accuracy for epoch 3: 0.4\n",
      "Validation time for this epoch: 0.2572178840637207\n"
     ]
    },
    {
     "name": "stderr",
     "output_type": "stream",
     "text": [
      "100%|███████████████████████████████████████| 1000/1000 [00:24<00:00, 41.65it/s]\n"
     ]
    },
    {
     "name": "stdout",
     "output_type": "stream",
     "text": [
      "Training completed for epoch 4\n",
      "Training accuracy for epoch 4: 0.1995\n",
      "Training time for this epoch: 24.02377986907959\n"
     ]
    },
    {
     "name": "stderr",
     "output_type": "stream",
     "text": [
      "100%|██████████████████████████████████████████| 50/50 [00:00<00:00, 194.98it/s]\n"
     ]
    },
    {
     "name": "stdout",
     "output_type": "stream",
     "text": [
      "Validation completed for epoch 4\n",
      "Validation accuracy for epoch 4: 0.4\n",
      "Validation time for this epoch: 0.257526159286499\n"
     ]
    },
    {
     "name": "stderr",
     "output_type": "stream",
     "text": [
      "100%|███████████████████████████████████████| 1000/1000 [00:23<00:00, 42.22it/s]\n"
     ]
    },
    {
     "name": "stdout",
     "output_type": "stream",
     "text": [
      "Training completed for epoch 5\n",
      "Training accuracy for epoch 5: 0.2\n",
      "Training time for this epoch: 23.69262719154358\n"
     ]
    },
    {
     "name": "stderr",
     "output_type": "stream",
     "text": [
      "100%|██████████████████████████████████████████| 50/50 [00:00<00:00, 195.26it/s]\n",
      "[I 2023-11-08 00:56:22,624] Trial 19 finished with value: -0.4 and parameters: {'h': 28, 'learning_rate': 0.0927047433707174}. Best is trial 11 with value: -0.56375.\n"
     ]
    },
    {
     "name": "stdout",
     "output_type": "stream",
     "text": [
      "Validation completed for epoch 5\n",
      "Validation accuracy for epoch 5: 0.4\n",
      "Validation time for this epoch: 0.2570180892944336\n"
     ]
    },
    {
     "name": "stderr",
     "output_type": "stream",
     "text": [
      "100%|███████████████████████████████████████| 1000/1000 [00:31<00:00, 31.88it/s]\n"
     ]
    },
    {
     "name": "stdout",
     "output_type": "stream",
     "text": [
      "Training completed for epoch 1\n",
      "Training accuracy for epoch 1: 0.306625\n",
      "Training time for this epoch: 31.37692093849182\n"
     ]
    },
    {
     "name": "stderr",
     "output_type": "stream",
     "text": [
      "100%|██████████████████████████████████████████| 50/50 [00:00<00:00, 162.54it/s]\n"
     ]
    },
    {
     "name": "stdout",
     "output_type": "stream",
     "text": [
      "Validation completed for epoch 1\n",
      "Validation accuracy for epoch 1: 0.275\n",
      "Validation time for this epoch: 0.308624267578125\n"
     ]
    },
    {
     "name": "stderr",
     "output_type": "stream",
     "text": [
      "100%|███████████████████████████████████████| 1000/1000 [00:31<00:00, 31.49it/s]\n"
     ]
    },
    {
     "name": "stdout",
     "output_type": "stream",
     "text": [
      "Training completed for epoch 2\n",
      "Training accuracy for epoch 2: 0.4315\n",
      "Training time for this epoch: 31.761725187301636\n"
     ]
    },
    {
     "name": "stderr",
     "output_type": "stream",
     "text": [
      "100%|██████████████████████████████████████████| 50/50 [00:00<00:00, 171.26it/s]\n"
     ]
    },
    {
     "name": "stdout",
     "output_type": "stream",
     "text": [
      "Validation completed for epoch 2\n",
      "Validation accuracy for epoch 2: 0.49625\n",
      "Validation time for this epoch: 0.2929842472076416\n"
     ]
    },
    {
     "name": "stderr",
     "output_type": "stream",
     "text": [
      "100%|███████████████████████████████████████| 1000/1000 [00:31<00:00, 31.76it/s]\n"
     ]
    },
    {
     "name": "stdout",
     "output_type": "stream",
     "text": [
      "Training completed for epoch 3\n",
      "Training accuracy for epoch 3: 0.494\n",
      "Training time for this epoch: 31.494935989379883\n"
     ]
    },
    {
     "name": "stderr",
     "output_type": "stream",
     "text": [
      "100%|██████████████████████████████████████████| 50/50 [00:00<00:00, 148.85it/s]\n"
     ]
    },
    {
     "name": "stdout",
     "output_type": "stream",
     "text": [
      "Validation completed for epoch 3\n",
      "Validation accuracy for epoch 3: 0.5175\n",
      "Validation time for this epoch: 0.33696889877319336\n"
     ]
    },
    {
     "name": "stderr",
     "output_type": "stream",
     "text": [
      "100%|███████████████████████████████████████| 1000/1000 [00:31<00:00, 31.85it/s]\n"
     ]
    },
    {
     "name": "stdout",
     "output_type": "stream",
     "text": [
      "Training completed for epoch 4\n",
      "Training accuracy for epoch 4: 0.5178125\n",
      "Training time for this epoch: 31.416606903076172\n"
     ]
    },
    {
     "name": "stderr",
     "output_type": "stream",
     "text": [
      "100%|██████████████████████████████████████████| 50/50 [00:00<00:00, 173.38it/s]\n"
     ]
    },
    {
     "name": "stdout",
     "output_type": "stream",
     "text": [
      "Validation completed for epoch 4\n",
      "Validation accuracy for epoch 4: 0.46875\n",
      "Validation time for this epoch: 0.2893218994140625\n"
     ]
    },
    {
     "name": "stderr",
     "output_type": "stream",
     "text": [
      "100%|███████████████████████████████████████| 1000/1000 [00:31<00:00, 31.72it/s]\n"
     ]
    },
    {
     "name": "stdout",
     "output_type": "stream",
     "text": [
      "Training completed for epoch 5\n",
      "Training accuracy for epoch 5: 0.5525625\n",
      "Training time for this epoch: 31.541077136993408\n"
     ]
    },
    {
     "name": "stderr",
     "output_type": "stream",
     "text": [
      "100%|██████████████████████████████████████████| 50/50 [00:00<00:00, 162.43it/s]\n",
      "[I 2023-11-08 00:59:01,772] Trial 20 finished with value: -0.4625 and parameters: {'h': 37, 'learning_rate': 0.020140561453541476}. Best is trial 11 with value: -0.56375.\n"
     ]
    },
    {
     "name": "stdout",
     "output_type": "stream",
     "text": [
      "Validation completed for epoch 5\n",
      "Validation accuracy for epoch 5: 0.4625\n",
      "Validation time for this epoch: 0.30875205993652344\n"
     ]
    },
    {
     "name": "stderr",
     "output_type": "stream",
     "text": [
      "100%|███████████████████████████████████████| 1000/1000 [00:20<00:00, 49.65it/s]\n"
     ]
    },
    {
     "name": "stdout",
     "output_type": "stream",
     "text": [
      "Training completed for epoch 1\n",
      "Training accuracy for epoch 1: 0.404375\n",
      "Training time for this epoch: 20.145761013031006\n"
     ]
    },
    {
     "name": "stderr",
     "output_type": "stream",
     "text": [
      "100%|██████████████████████████████████████████| 50/50 [00:00<00:00, 218.47it/s]\n"
     ]
    },
    {
     "name": "stdout",
     "output_type": "stream",
     "text": [
      "Validation completed for epoch 1\n",
      "Validation accuracy for epoch 1: 0.44375\n",
      "Validation time for this epoch: 0.22986388206481934\n"
     ]
    },
    {
     "name": "stderr",
     "output_type": "stream",
     "text": [
      "100%|███████████████████████████████████████| 1000/1000 [00:20<00:00, 48.93it/s]\n"
     ]
    },
    {
     "name": "stdout",
     "output_type": "stream",
     "text": [
      "Training completed for epoch 2\n",
      "Training accuracy for epoch 2: 0.4885\n",
      "Training time for this epoch: 20.442881107330322\n"
     ]
    },
    {
     "name": "stderr",
     "output_type": "stream",
     "text": [
      "100%|██████████████████████████████████████████| 50/50 [00:00<00:00, 224.33it/s]\n"
     ]
    },
    {
     "name": "stdout",
     "output_type": "stream",
     "text": [
      "Validation completed for epoch 2\n",
      "Validation accuracy for epoch 2: 0.39125\n",
      "Validation time for this epoch: 0.22382402420043945\n"
     ]
    },
    {
     "name": "stderr",
     "output_type": "stream",
     "text": [
      "100%|███████████████████████████████████████| 1000/1000 [00:20<00:00, 49.09it/s]\n"
     ]
    },
    {
     "name": "stdout",
     "output_type": "stream",
     "text": [
      "Training completed for epoch 3\n",
      "Training accuracy for epoch 3: 0.523125\n",
      "Training time for this epoch: 20.37581729888916\n"
     ]
    },
    {
     "name": "stderr",
     "output_type": "stream",
     "text": [
      "100%|██████████████████████████████████████████| 50/50 [00:00<00:00, 208.62it/s]\n"
     ]
    },
    {
     "name": "stdout",
     "output_type": "stream",
     "text": [
      "Validation completed for epoch 3\n",
      "Validation accuracy for epoch 3: 0.5725\n",
      "Validation time for this epoch: 0.24068999290466309\n"
     ]
    },
    {
     "name": "stderr",
     "output_type": "stream",
     "text": [
      "100%|███████████████████████████████████████| 1000/1000 [00:20<00:00, 49.82it/s]\n"
     ]
    },
    {
     "name": "stdout",
     "output_type": "stream",
     "text": [
      "Training completed for epoch 4\n",
      "Training accuracy for epoch 4: 0.5676875\n",
      "Training time for this epoch: 20.078763961791992\n"
     ]
    },
    {
     "name": "stderr",
     "output_type": "stream",
     "text": [
      "100%|██████████████████████████████████████████| 50/50 [00:00<00:00, 217.42it/s]\n"
     ]
    },
    {
     "name": "stdout",
     "output_type": "stream",
     "text": [
      "Validation completed for epoch 4\n",
      "Validation accuracy for epoch 4: 0.54\n",
      "Validation time for this epoch: 0.23096132278442383\n"
     ]
    },
    {
     "name": "stderr",
     "output_type": "stream",
     "text": [
      "100%|███████████████████████████████████████| 1000/1000 [00:20<00:00, 48.61it/s]\n"
     ]
    },
    {
     "name": "stdout",
     "output_type": "stream",
     "text": [
      "Training completed for epoch 5\n",
      "Training accuracy for epoch 5: 0.5828125\n",
      "Training time for this epoch: 20.575093984603882\n"
     ]
    },
    {
     "name": "stderr",
     "output_type": "stream",
     "text": [
      "100%|██████████████████████████████████████████| 50/50 [00:00<00:00, 220.45it/s]\n",
      "[I 2023-11-08 01:00:44,559] Trial 21 finished with value: -0.51125 and parameters: {'h': 24, 'learning_rate': 0.007841067885983028}. Best is trial 11 with value: -0.56375.\n"
     ]
    },
    {
     "name": "stdout",
     "output_type": "stream",
     "text": [
      "Validation completed for epoch 5\n",
      "Validation accuracy for epoch 5: 0.51125\n",
      "Validation time for this epoch: 0.2277817726135254\n"
     ]
    },
    {
     "name": "stderr",
     "output_type": "stream",
     "text": [
      "100%|███████████████████████████████████████| 1000/1000 [00:19<00:00, 52.05it/s]\n"
     ]
    },
    {
     "name": "stdout",
     "output_type": "stream",
     "text": [
      "Training completed for epoch 1\n",
      "Training accuracy for epoch 1: 0.3871875\n",
      "Training time for this epoch: 19.21626091003418\n"
     ]
    },
    {
     "name": "stderr",
     "output_type": "stream",
     "text": [
      "100%|██████████████████████████████████████████| 50/50 [00:00<00:00, 228.49it/s]\n"
     ]
    },
    {
     "name": "stdout",
     "output_type": "stream",
     "text": [
      "Validation completed for epoch 1\n",
      "Validation accuracy for epoch 1: 0.44\n",
      "Validation time for this epoch: 0.21981596946716309\n"
     ]
    },
    {
     "name": "stderr",
     "output_type": "stream",
     "text": [
      "100%|███████████████████████████████████████| 1000/1000 [00:18<00:00, 54.18it/s]\n"
     ]
    },
    {
     "name": "stdout",
     "output_type": "stream",
     "text": [
      "Training completed for epoch 2\n",
      "Training accuracy for epoch 2: 0.502125\n",
      "Training time for this epoch: 18.470725059509277\n"
     ]
    },
    {
     "name": "stderr",
     "output_type": "stream",
     "text": [
      "100%|██████████████████████████████████████████| 50/50 [00:00<00:00, 235.58it/s]\n"
     ]
    },
    {
     "name": "stdout",
     "output_type": "stream",
     "text": [
      "Validation completed for epoch 2\n",
      "Validation accuracy for epoch 2: 0.4425\n",
      "Validation time for this epoch: 0.21322083473205566\n"
     ]
    },
    {
     "name": "stderr",
     "output_type": "stream",
     "text": [
      "100%|███████████████████████████████████████| 1000/1000 [00:18<00:00, 52.64it/s]\n"
     ]
    },
    {
     "name": "stdout",
     "output_type": "stream",
     "text": [
      "Training completed for epoch 3\n",
      "Training accuracy for epoch 3: 0.533625\n",
      "Training time for this epoch: 19.009778022766113\n"
     ]
    },
    {
     "name": "stderr",
     "output_type": "stream",
     "text": [
      "100%|██████████████████████████████████████████| 50/50 [00:00<00:00, 235.79it/s]\n"
     ]
    },
    {
     "name": "stdout",
     "output_type": "stream",
     "text": [
      "Validation completed for epoch 3\n",
      "Validation accuracy for epoch 3: 0.48125\n",
      "Validation time for this epoch: 0.21309185028076172\n"
     ]
    },
    {
     "name": "stderr",
     "output_type": "stream",
     "text": [
      "100%|███████████████████████████████████████| 1000/1000 [00:18<00:00, 52.81it/s]\n"
     ]
    },
    {
     "name": "stdout",
     "output_type": "stream",
     "text": [
      "Training completed for epoch 4\n",
      "Training accuracy for epoch 4: 0.57175\n",
      "Training time for this epoch: 18.94133687019348\n"
     ]
    },
    {
     "name": "stderr",
     "output_type": "stream",
     "text": [
      "100%|██████████████████████████████████████████| 50/50 [00:00<00:00, 231.54it/s]\n"
     ]
    },
    {
     "name": "stdout",
     "output_type": "stream",
     "text": [
      "Validation completed for epoch 4\n",
      "Validation accuracy for epoch 4: 0.5075\n",
      "Validation time for this epoch: 0.2170422077178955\n"
     ]
    },
    {
     "name": "stderr",
     "output_type": "stream",
     "text": [
      "100%|███████████████████████████████████████| 1000/1000 [00:18<00:00, 53.45it/s]\n"
     ]
    },
    {
     "name": "stdout",
     "output_type": "stream",
     "text": [
      "Training completed for epoch 5\n",
      "Training accuracy for epoch 5: 0.600125\n",
      "Training time for this epoch: 18.716252326965332\n"
     ]
    },
    {
     "name": "stderr",
     "output_type": "stream",
     "text": [
      "100%|██████████████████████████████████████████| 50/50 [00:00<00:00, 219.55it/s]\n",
      "[I 2023-11-08 01:02:20,022] Trial 22 finished with value: -0.52 and parameters: {'h': 22, 'learning_rate': 0.010511841798387996}. Best is trial 11 with value: -0.56375.\n"
     ]
    },
    {
     "name": "stdout",
     "output_type": "stream",
     "text": [
      "Validation completed for epoch 5\n",
      "Validation accuracy for epoch 5: 0.52\n",
      "Validation time for this epoch: 0.22871136665344238\n"
     ]
    },
    {
     "name": "stderr",
     "output_type": "stream",
     "text": [
      "100%|███████████████████████████████████████| 1000/1000 [00:11<00:00, 87.18it/s]\n"
     ]
    },
    {
     "name": "stdout",
     "output_type": "stream",
     "text": [
      "Training completed for epoch 1\n",
      "Training accuracy for epoch 1: 0.2755\n",
      "Training time for this epoch: 11.476141929626465\n"
     ]
    },
    {
     "name": "stderr",
     "output_type": "stream",
     "text": [
      "100%|██████████████████████████████████████████| 50/50 [00:00<00:00, 312.29it/s]\n"
     ]
    },
    {
     "name": "stdout",
     "output_type": "stream",
     "text": [
      "Validation completed for epoch 1\n",
      "Validation accuracy for epoch 1: 0.38125\n",
      "Validation time for this epoch: 0.1612098217010498\n"
     ]
    },
    {
     "name": "stderr",
     "output_type": "stream",
     "text": [
      "100%|███████████████████████████████████████| 1000/1000 [00:11<00:00, 86.16it/s]\n"
     ]
    },
    {
     "name": "stdout",
     "output_type": "stream",
     "text": [
      "Training completed for epoch 2\n",
      "Training accuracy for epoch 2: 0.3798125\n",
      "Training time for this epoch: 11.611501932144165\n"
     ]
    },
    {
     "name": "stderr",
     "output_type": "stream",
     "text": [
      "100%|██████████████████████████████████████████| 50/50 [00:00<00:00, 265.36it/s]\n"
     ]
    },
    {
     "name": "stdout",
     "output_type": "stream",
     "text": [
      "Validation completed for epoch 2\n",
      "Validation accuracy for epoch 2: 0.5325\n",
      "Validation time for this epoch: 0.19392800331115723\n"
     ]
    },
    {
     "name": "stderr",
     "output_type": "stream",
     "text": [
      "100%|███████████████████████████████████████| 1000/1000 [00:11<00:00, 87.88it/s]\n"
     ]
    },
    {
     "name": "stdout",
     "output_type": "stream",
     "text": [
      "Training completed for epoch 3\n",
      "Training accuracy for epoch 3: 0.4586875\n",
      "Training time for this epoch: 11.384873867034912\n"
     ]
    },
    {
     "name": "stderr",
     "output_type": "stream",
     "text": [
      "100%|██████████████████████████████████████████| 50/50 [00:00<00:00, 289.45it/s]\n"
     ]
    },
    {
     "name": "stdout",
     "output_type": "stream",
     "text": [
      "Validation completed for epoch 3\n",
      "Validation accuracy for epoch 3: 0.485\n",
      "Validation time for this epoch: 0.17409014701843262\n"
     ]
    },
    {
     "name": "stderr",
     "output_type": "stream",
     "text": [
      "100%|███████████████████████████████████████| 1000/1000 [00:11<00:00, 84.83it/s]\n"
     ]
    },
    {
     "name": "stdout",
     "output_type": "stream",
     "text": [
      "Training completed for epoch 4\n",
      "Training accuracy for epoch 4: 0.5295625\n",
      "Training time for this epoch: 11.793503284454346\n"
     ]
    },
    {
     "name": "stderr",
     "output_type": "stream",
     "text": [
      "100%|██████████████████████████████████████████| 50/50 [00:00<00:00, 273.77it/s]\n"
     ]
    },
    {
     "name": "stdout",
     "output_type": "stream",
     "text": [
      "Validation completed for epoch 4\n",
      "Validation accuracy for epoch 4: 0.5275\n",
      "Validation time for this epoch: 0.18370580673217773\n"
     ]
    },
    {
     "name": "stderr",
     "output_type": "stream",
     "text": [
      "100%|███████████████████████████████████████| 1000/1000 [00:11<00:00, 85.10it/s]\n"
     ]
    },
    {
     "name": "stdout",
     "output_type": "stream",
     "text": [
      "Training completed for epoch 5\n",
      "Training accuracy for epoch 5: 0.5663125\n",
      "Training time for this epoch: 11.755720138549805\n"
     ]
    },
    {
     "name": "stderr",
     "output_type": "stream",
     "text": [
      "100%|██████████████████████████████████████████| 50/50 [00:00<00:00, 286.88it/s]\n",
      "[I 2023-11-08 01:03:18,970] Trial 23 finished with value: -0.52625 and parameters: {'h': 13, 'learning_rate': 0.0014869870085917867}. Best is trial 11 with value: -0.56375.\n"
     ]
    },
    {
     "name": "stdout",
     "output_type": "stream",
     "text": [
      "Validation completed for epoch 5\n",
      "Validation accuracy for epoch 5: 0.52625\n",
      "Validation time for this epoch: 0.1752779483795166\n"
     ]
    },
    {
     "name": "stderr",
     "output_type": "stream",
     "text": [
      "100%|███████████████████████████████████████| 1000/1000 [00:23<00:00, 42.15it/s]\n"
     ]
    },
    {
     "name": "stdout",
     "output_type": "stream",
     "text": [
      "Training completed for epoch 1\n",
      "Training accuracy for epoch 1: 0.3176875\n",
      "Training time for this epoch: 23.73189401626587\n"
     ]
    },
    {
     "name": "stderr",
     "output_type": "stream",
     "text": [
      "100%|██████████████████████████████████████████| 50/50 [00:00<00:00, 195.41it/s]\n"
     ]
    },
    {
     "name": "stdout",
     "output_type": "stream",
     "text": [
      "Validation completed for epoch 1\n",
      "Validation accuracy for epoch 1: 0.3375\n",
      "Validation time for this epoch: 0.25681591033935547\n"
     ]
    },
    {
     "name": "stderr",
     "output_type": "stream",
     "text": [
      "100%|███████████████████████████████████████| 1000/1000 [00:24<00:00, 41.38it/s]\n"
     ]
    },
    {
     "name": "stdout",
     "output_type": "stream",
     "text": [
      "Training completed for epoch 2\n",
      "Training accuracy for epoch 2: 0.3745625\n",
      "Training time for this epoch: 24.17217779159546\n"
     ]
    },
    {
     "name": "stderr",
     "output_type": "stream",
     "text": [
      "100%|██████████████████████████████████████████| 50/50 [00:00<00:00, 201.41it/s]\n"
     ]
    },
    {
     "name": "stdout",
     "output_type": "stream",
     "text": [
      "Validation completed for epoch 2\n",
      "Validation accuracy for epoch 2: 0.3325\n",
      "Validation time for this epoch: 0.2491898536682129\n"
     ]
    },
    {
     "name": "stderr",
     "output_type": "stream",
     "text": [
      "100%|███████████████████████████████████████| 1000/1000 [00:24<00:00, 41.28it/s]\n"
     ]
    },
    {
     "name": "stdout",
     "output_type": "stream",
     "text": [
      "Training completed for epoch 3\n",
      "Training accuracy for epoch 3: 0.39575\n",
      "Training time for this epoch: 24.240889072418213\n"
     ]
    },
    {
     "name": "stderr",
     "output_type": "stream",
     "text": [
      "100%|██████████████████████████████████████████| 50/50 [00:00<00:00, 201.78it/s]\n"
     ]
    },
    {
     "name": "stdout",
     "output_type": "stream",
     "text": [
      "Validation completed for epoch 3\n",
      "Validation accuracy for epoch 3: 0.3775\n",
      "Validation time for this epoch: 0.24879097938537598\n"
     ]
    },
    {
     "name": "stderr",
     "output_type": "stream",
     "text": [
      "100%|███████████████████████████████████████| 1000/1000 [00:23<00:00, 41.99it/s]\n"
     ]
    },
    {
     "name": "stdout",
     "output_type": "stream",
     "text": [
      "Training completed for epoch 4\n",
      "Training accuracy for epoch 4: 0.42025\n",
      "Training time for this epoch: 23.82700204849243\n"
     ]
    },
    {
     "name": "stderr",
     "output_type": "stream",
     "text": [
      "100%|██████████████████████████████████████████| 50/50 [00:00<00:00, 197.92it/s]\n"
     ]
    },
    {
     "name": "stdout",
     "output_type": "stream",
     "text": [
      "Validation completed for epoch 4\n",
      "Validation accuracy for epoch 4: 0.36875\n",
      "Validation time for this epoch: 0.2536759376525879\n"
     ]
    },
    {
     "name": "stderr",
     "output_type": "stream",
     "text": [
      "100%|███████████████████████████████████████| 1000/1000 [00:24<00:00, 41.24it/s]\n"
     ]
    },
    {
     "name": "stdout",
     "output_type": "stream",
     "text": [
      "Training completed for epoch 5\n",
      "Training accuracy for epoch 5: 0.4320625\n",
      "Training time for this epoch: 24.252697706222534\n"
     ]
    },
    {
     "name": "stderr",
     "output_type": "stream",
     "text": [
      "100%|██████████████████████████████████████████| 50/50 [00:00<00:00, 207.32it/s]\n",
      "[I 2023-11-08 01:05:20,472] Trial 24 finished with value: -0.37 and parameters: {'h': 28, 'learning_rate': 0.01125309652272639}. Best is trial 11 with value: -0.56375.\n"
     ]
    },
    {
     "name": "stdout",
     "output_type": "stream",
     "text": [
      "Validation completed for epoch 5\n",
      "Validation accuracy for epoch 5: 0.37\n",
      "Validation time for this epoch: 0.24237918853759766\n"
     ]
    },
    {
     "name": "stderr",
     "output_type": "stream",
     "text": [
      "100%|███████████████████████████████████████| 1000/1000 [00:20<00:00, 49.10it/s]\n"
     ]
    },
    {
     "name": "stdout",
     "output_type": "stream",
     "text": [
      "Training completed for epoch 1\n",
      "Training accuracy for epoch 1: 0.2604375\n",
      "Training time for this epoch: 20.37148880958557\n"
     ]
    },
    {
     "name": "stderr",
     "output_type": "stream",
     "text": [
      "100%|██████████████████████████████████████████| 50/50 [00:00<00:00, 217.99it/s]\n"
     ]
    },
    {
     "name": "stdout",
     "output_type": "stream",
     "text": [
      "Validation completed for epoch 1\n",
      "Validation accuracy for epoch 1: 0.39875\n",
      "Validation time for this epoch: 0.23035287857055664\n"
     ]
    },
    {
     "name": "stderr",
     "output_type": "stream",
     "text": [
      "100%|███████████████████████████████████████| 1000/1000 [00:20<00:00, 48.92it/s]\n"
     ]
    },
    {
     "name": "stdout",
     "output_type": "stream",
     "text": [
      "Training completed for epoch 2\n",
      "Training accuracy for epoch 2: 0.321125\n",
      "Training time for this epoch: 20.444982051849365\n"
     ]
    },
    {
     "name": "stderr",
     "output_type": "stream",
     "text": [
      "100%|██████████████████████████████████████████| 50/50 [00:00<00:00, 219.20it/s]\n"
     ]
    },
    {
     "name": "stdout",
     "output_type": "stream",
     "text": [
      "Validation completed for epoch 2\n",
      "Validation accuracy for epoch 2: 0.35625\n",
      "Validation time for this epoch: 0.22907400131225586\n"
     ]
    },
    {
     "name": "stderr",
     "output_type": "stream",
     "text": [
      "100%|███████████████████████████████████████| 1000/1000 [00:20<00:00, 49.42it/s]\n"
     ]
    },
    {
     "name": "stdout",
     "output_type": "stream",
     "text": [
      "Training completed for epoch 3\n",
      "Training accuracy for epoch 3: 0.35925\n",
      "Training time for this epoch: 20.239192008972168\n"
     ]
    },
    {
     "name": "stderr",
     "output_type": "stream",
     "text": [
      "100%|██████████████████████████████████████████| 50/50 [00:00<00:00, 213.20it/s]\n"
     ]
    },
    {
     "name": "stdout",
     "output_type": "stream",
     "text": [
      "Validation completed for epoch 3\n",
      "Validation accuracy for epoch 3: 0.16375\n",
      "Validation time for this epoch: 0.23551106452941895\n"
     ]
    },
    {
     "name": "stderr",
     "output_type": "stream",
     "text": [
      "100%|███████████████████████████████████████| 1000/1000 [00:20<00:00, 47.82it/s]\n"
     ]
    },
    {
     "name": "stdout",
     "output_type": "stream",
     "text": [
      "Training completed for epoch 4\n",
      "Training accuracy for epoch 4: 0.3859375\n",
      "Training time for this epoch: 20.918330192565918\n"
     ]
    },
    {
     "name": "stderr",
     "output_type": "stream",
     "text": [
      "100%|██████████████████████████████████████████| 50/50 [00:00<00:00, 238.91it/s]\n"
     ]
    },
    {
     "name": "stdout",
     "output_type": "stream",
     "text": [
      "Validation completed for epoch 4\n",
      "Validation accuracy for epoch 4: 0.1725\n",
      "Validation time for this epoch: 0.21123886108398438\n"
     ]
    },
    {
     "name": "stderr",
     "output_type": "stream",
     "text": [
      "100%|███████████████████████████████████████| 1000/1000 [00:21<00:00, 46.63it/s]\n"
     ]
    },
    {
     "name": "stdout",
     "output_type": "stream",
     "text": [
      "Training completed for epoch 5\n",
      "Training accuracy for epoch 5: 0.4286875\n",
      "Training time for this epoch: 21.45921015739441\n"
     ]
    },
    {
     "name": "stderr",
     "output_type": "stream",
     "text": [
      "100%|██████████████████████████████████████████| 50/50 [00:00<00:00, 244.08it/s]\n",
      "[I 2023-11-08 01:07:05,042] Trial 25 finished with value: -0.4425 and parameters: {'h': 24, 'learning_rate': 0.03419895517820854}. Best is trial 11 with value: -0.56375.\n"
     ]
    },
    {
     "name": "stdout",
     "output_type": "stream",
     "text": [
      "Validation completed for epoch 5\n",
      "Validation accuracy for epoch 5: 0.4425\n",
      "Validation time for this epoch: 0.20645880699157715\n"
     ]
    },
    {
     "name": "stderr",
     "output_type": "stream",
     "text": [
      "100%|███████████████████████████████████████| 1000/1000 [00:30<00:00, 32.34it/s]\n"
     ]
    },
    {
     "name": "stdout",
     "output_type": "stream",
     "text": [
      "Training completed for epoch 1\n",
      "Training accuracy for epoch 1: 0.3308125\n",
      "Training time for this epoch: 30.924241065979004\n"
     ]
    },
    {
     "name": "stderr",
     "output_type": "stream",
     "text": [
      "100%|██████████████████████████████████████████| 50/50 [00:00<00:00, 177.94it/s]\n"
     ]
    },
    {
     "name": "stdout",
     "output_type": "stream",
     "text": [
      "Validation completed for epoch 1\n",
      "Validation accuracy for epoch 1: 0.40625\n",
      "Validation time for this epoch: 0.28203916549682617\n"
     ]
    },
    {
     "name": "stderr",
     "output_type": "stream",
     "text": [
      "100%|███████████████████████████████████████| 1000/1000 [00:30<00:00, 32.33it/s]\n"
     ]
    },
    {
     "name": "stdout",
     "output_type": "stream",
     "text": [
      "Training completed for epoch 2\n",
      "Training accuracy for epoch 2: 0.3926875\n",
      "Training time for this epoch: 30.933969974517822\n"
     ]
    },
    {
     "name": "stderr",
     "output_type": "stream",
     "text": [
      "100%|██████████████████████████████████████████| 50/50 [00:00<00:00, 188.52it/s]\n"
     ]
    },
    {
     "name": "stdout",
     "output_type": "stream",
     "text": [
      "Validation completed for epoch 2\n",
      "Validation accuracy for epoch 2: 0.44625\n",
      "Validation time for this epoch: 0.2663891315460205\n"
     ]
    },
    {
     "name": "stderr",
     "output_type": "stream",
     "text": [
      "100%|███████████████████████████████████████| 1000/1000 [00:30<00:00, 32.59it/s]\n"
     ]
    },
    {
     "name": "stdout",
     "output_type": "stream",
     "text": [
      "Training completed for epoch 3\n",
      "Training accuracy for epoch 3: 0.4150625\n",
      "Training time for this epoch: 30.689747095108032\n"
     ]
    },
    {
     "name": "stderr",
     "output_type": "stream",
     "text": [
      "100%|██████████████████████████████████████████| 50/50 [00:00<00:00, 180.57it/s]\n"
     ]
    },
    {
     "name": "stdout",
     "output_type": "stream",
     "text": [
      "Validation completed for epoch 3\n",
      "Validation accuracy for epoch 3: 0.53875\n",
      "Validation time for this epoch: 0.2779510021209717\n"
     ]
    },
    {
     "name": "stderr",
     "output_type": "stream",
     "text": [
      "100%|███████████████████████████████████████| 1000/1000 [00:30<00:00, 32.53it/s]\n"
     ]
    },
    {
     "name": "stdout",
     "output_type": "stream",
     "text": [
      "Training completed for epoch 4\n",
      "Training accuracy for epoch 4: 0.4571875\n",
      "Training time for this epoch: 30.749101161956787\n"
     ]
    },
    {
     "name": "stderr",
     "output_type": "stream",
     "text": [
      "100%|██████████████████████████████████████████| 50/50 [00:00<00:00, 176.12it/s]\n"
     ]
    },
    {
     "name": "stdout",
     "output_type": "stream",
     "text": [
      "Validation completed for epoch 4\n",
      "Validation accuracy for epoch 4: 0.51875\n",
      "Validation time for this epoch: 0.284959077835083\n"
     ]
    },
    {
     "name": "stderr",
     "output_type": "stream",
     "text": [
      "100%|███████████████████████████████████████| 1000/1000 [00:30<00:00, 33.25it/s]\n"
     ]
    },
    {
     "name": "stdout",
     "output_type": "stream",
     "text": [
      "Training completed for epoch 5\n",
      "Training accuracy for epoch 5: 0.4844375\n",
      "Training time for this epoch: 30.08142113685608\n"
     ]
    },
    {
     "name": "stderr",
     "output_type": "stream",
     "text": [
      "100%|██████████████████████████████████████████| 50/50 [00:00<00:00, 175.03it/s]\n",
      "[I 2023-11-08 01:09:39,859] Trial 26 finished with value: -0.5875 and parameters: {'h': 35, 'learning_rate': 0.005381250532142746}. Best is trial 26 with value: -0.5875.\n"
     ]
    },
    {
     "name": "stdout",
     "output_type": "stream",
     "text": [
      "Validation completed for epoch 5\n",
      "Validation accuracy for epoch 5: 0.5875\n",
      "Validation time for this epoch: 0.28665995597839355\n"
     ]
    },
    {
     "name": "stderr",
     "output_type": "stream",
     "text": [
      "100%|███████████████████████████████████████| 1000/1000 [00:31<00:00, 31.84it/s]\n"
     ]
    },
    {
     "name": "stdout",
     "output_type": "stream",
     "text": [
      "Training completed for epoch 1\n",
      "Training accuracy for epoch 1: 0.373\n",
      "Training time for this epoch: 31.412308931350708\n"
     ]
    },
    {
     "name": "stderr",
     "output_type": "stream",
     "text": [
      "100%|██████████████████████████████████████████| 50/50 [00:00<00:00, 168.25it/s]\n"
     ]
    },
    {
     "name": "stdout",
     "output_type": "stream",
     "text": [
      "Validation completed for epoch 1\n",
      "Validation accuracy for epoch 1: 0.45875\n",
      "Validation time for this epoch: 0.2982501983642578\n"
     ]
    },
    {
     "name": "stderr",
     "output_type": "stream",
     "text": [
      "100%|███████████████████████████████████████| 1000/1000 [00:31<00:00, 32.23it/s]\n"
     ]
    },
    {
     "name": "stdout",
     "output_type": "stream",
     "text": [
      "Training completed for epoch 2\n",
      "Training accuracy for epoch 2: 0.4750625\n",
      "Training time for this epoch: 31.030450105667114\n"
     ]
    },
    {
     "name": "stderr",
     "output_type": "stream",
     "text": [
      "100%|██████████████████████████████████████████| 50/50 [00:00<00:00, 173.61it/s]\n"
     ]
    },
    {
     "name": "stdout",
     "output_type": "stream",
     "text": [
      "Validation completed for epoch 2\n",
      "Validation accuracy for epoch 2: 0.4775\n",
      "Validation time for this epoch: 0.28910112380981445\n"
     ]
    },
    {
     "name": "stderr",
     "output_type": "stream",
     "text": [
      "100%|███████████████████████████████████████| 1000/1000 [00:31<00:00, 31.96it/s]\n"
     ]
    },
    {
     "name": "stdout",
     "output_type": "stream",
     "text": [
      "Training completed for epoch 3\n",
      "Training accuracy for epoch 3: 0.506\n",
      "Training time for this epoch: 31.30763578414917\n"
     ]
    },
    {
     "name": "stderr",
     "output_type": "stream",
     "text": [
      "100%|██████████████████████████████████████████| 50/50 [00:00<00:00, 175.70it/s]\n"
     ]
    },
    {
     "name": "stdout",
     "output_type": "stream",
     "text": [
      "Validation completed for epoch 3\n",
      "Validation accuracy for epoch 3: 0.48125\n",
      "Validation time for this epoch: 0.2855970859527588\n"
     ]
    },
    {
     "name": "stderr",
     "output_type": "stream",
     "text": [
      "100%|███████████████████████████████████████| 1000/1000 [00:31<00:00, 31.34it/s]\n"
     ]
    },
    {
     "name": "stdout",
     "output_type": "stream",
     "text": [
      "Training completed for epoch 4\n",
      "Training accuracy for epoch 4: 0.5378125\n",
      "Training time for this epoch: 31.916661024093628\n"
     ]
    },
    {
     "name": "stderr",
     "output_type": "stream",
     "text": [
      "100%|██████████████████████████████████████████| 50/50 [00:00<00:00, 153.36it/s]\n"
     ]
    },
    {
     "name": "stdout",
     "output_type": "stream",
     "text": [
      "Validation completed for epoch 4\n",
      "Validation accuracy for epoch 4: 0.4875\n",
      "Validation time for this epoch: 0.32713913917541504\n"
     ]
    },
    {
     "name": "stderr",
     "output_type": "stream",
     "text": [
      "100%|███████████████████████████████████████| 1000/1000 [00:32<00:00, 31.08it/s]\n"
     ]
    },
    {
     "name": "stdout",
     "output_type": "stream",
     "text": [
      "Training completed for epoch 5\n",
      "Training accuracy for epoch 5: 0.5521875\n",
      "Training time for this epoch: 32.176700830459595\n"
     ]
    },
    {
     "name": "stderr",
     "output_type": "stream",
     "text": [
      "100%|██████████████████████████████████████████| 50/50 [00:00<00:00, 178.27it/s]\n",
      "[I 2023-11-08 01:12:19,228] Trial 27 finished with value: -0.55625 and parameters: {'h': 36, 'learning_rate': 0.003956681698420732}. Best is trial 26 with value: -0.5875.\n"
     ]
    },
    {
     "name": "stdout",
     "output_type": "stream",
     "text": [
      "Validation completed for epoch 5\n",
      "Validation accuracy for epoch 5: 0.55625\n",
      "Validation time for this epoch: 0.2814209461212158\n"
     ]
    },
    {
     "name": "stderr",
     "output_type": "stream",
     "text": [
      "100%|███████████████████████████████████████| 1000/1000 [00:37<00:00, 26.52it/s]\n"
     ]
    },
    {
     "name": "stdout",
     "output_type": "stream",
     "text": [
      "Training completed for epoch 1\n",
      "Training accuracy for epoch 1: 0.3658125\n",
      "Training time for this epoch: 37.70955181121826\n"
     ]
    },
    {
     "name": "stderr",
     "output_type": "stream",
     "text": [
      "100%|██████████████████████████████████████████| 50/50 [00:00<00:00, 166.41it/s]\n"
     ]
    },
    {
     "name": "stdout",
     "output_type": "stream",
     "text": [
      "Validation completed for epoch 1\n",
      "Validation accuracy for epoch 1: 0.29125\n",
      "Validation time for this epoch: 0.3016481399536133\n"
     ]
    },
    {
     "name": "stderr",
     "output_type": "stream",
     "text": [
      "100%|███████████████████████████████████████| 1000/1000 [05:56<00:00,  2.81it/s]\n"
     ]
    },
    {
     "name": "stdout",
     "output_type": "stream",
     "text": [
      "Training completed for epoch 2\n",
      "Training accuracy for epoch 2: 0.46075\n",
      "Training time for this epoch: 356.20250511169434\n"
     ]
    },
    {
     "name": "stderr",
     "output_type": "stream",
     "text": [
      "100%|██████████████████████████████████████████| 50/50 [00:00<00:00, 143.58it/s]\n"
     ]
    },
    {
     "name": "stdout",
     "output_type": "stream",
     "text": [
      "Validation completed for epoch 2\n",
      "Validation accuracy for epoch 2: 0.44625\n",
      "Validation time for this epoch: 0.36080002784729004\n"
     ]
    },
    {
     "name": "stderr",
     "output_type": "stream",
     "text": [
      "100%|███████████████████████████████████████| 1000/1000 [12:12<00:00,  1.37it/s]\n"
     ]
    },
    {
     "name": "stdout",
     "output_type": "stream",
     "text": [
      "Training completed for epoch 3\n",
      "Training accuracy for epoch 3: 0.5136875\n",
      "Training time for this epoch: 732.2757189273834\n"
     ]
    },
    {
     "name": "stderr",
     "output_type": "stream",
     "text": [
      "100%|██████████████████████████████████████████| 50/50 [00:00<00:00, 146.28it/s]\n"
     ]
    },
    {
     "name": "stdout",
     "output_type": "stream",
     "text": [
      "Validation completed for epoch 3\n",
      "Validation accuracy for epoch 3: 0.485\n",
      "Validation time for this epoch: 0.34293484687805176\n"
     ]
    },
    {
     "name": "stderr",
     "output_type": "stream",
     "text": [
      "100%|███████████████████████████████████████| 1000/1000 [01:37<00:00, 10.30it/s]\n"
     ]
    },
    {
     "name": "stdout",
     "output_type": "stream",
     "text": [
      "Training completed for epoch 4\n",
      "Training accuracy for epoch 4: 0.576875\n",
      "Training time for this epoch: 97.05657029151917\n"
     ]
    },
    {
     "name": "stderr",
     "output_type": "stream",
     "text": [
      "100%|██████████████████████████████████████████| 50/50 [00:00<00:00, 153.96it/s]\n"
     ]
    },
    {
     "name": "stdout",
     "output_type": "stream",
     "text": [
      "Validation completed for epoch 4\n",
      "Validation accuracy for epoch 4: 0.44125\n",
      "Validation time for this epoch: 0.32587385177612305\n"
     ]
    },
    {
     "name": "stderr",
     "output_type": "stream",
     "text": [
      "100%|███████████████████████████████████████| 1000/1000 [01:38<00:00, 10.13it/s]\n"
     ]
    },
    {
     "name": "stdout",
     "output_type": "stream",
     "text": [
      "Training completed for epoch 5\n",
      "Training accuracy for epoch 5: 0.6040625\n",
      "Training time for this epoch: 98.69084596633911\n"
     ]
    },
    {
     "name": "stderr",
     "output_type": "stream",
     "text": [
      "100%|██████████████████████████████████████████| 50/50 [00:00<00:00, 162.31it/s]\n",
      "[I 2023-11-08 01:34:22,844] Trial 28 finished with value: -0.5625 and parameters: {'h': 43, 'learning_rate': 0.004131784557573821}. Best is trial 26 with value: -0.5875.\n"
     ]
    },
    {
     "name": "stdout",
     "output_type": "stream",
     "text": [
      "Validation completed for epoch 5\n",
      "Validation accuracy for epoch 5: 0.5625\n",
      "Validation time for this epoch: 0.309161901473999\n"
     ]
    },
    {
     "name": "stderr",
     "output_type": "stream",
     "text": [
      "100%|███████████████████████████████████████| 1000/1000 [00:38<00:00, 25.70it/s]\n"
     ]
    },
    {
     "name": "stdout",
     "output_type": "stream",
     "text": [
      "Training completed for epoch 1\n",
      "Training accuracy for epoch 1: 0.4101875\n",
      "Training time for this epoch: 38.920055866241455\n"
     ]
    },
    {
     "name": "stderr",
     "output_type": "stream",
     "text": [
      "100%|██████████████████████████████████████████| 50/50 [00:00<00:00, 153.66it/s]\n"
     ]
    },
    {
     "name": "stdout",
     "output_type": "stream",
     "text": [
      "Validation completed for epoch 1\n",
      "Validation accuracy for epoch 1: 0.47\n",
      "Validation time for this epoch: 0.3264119625091553\n"
     ]
    },
    {
     "name": "stderr",
     "output_type": "stream",
     "text": [
      "100%|███████████████████████████████████████| 1000/1000 [00:38<00:00, 26.00it/s]\n"
     ]
    },
    {
     "name": "stdout",
     "output_type": "stream",
     "text": [
      "Training completed for epoch 2\n",
      "Training accuracy for epoch 2: 0.515875\n",
      "Training time for this epoch: 38.47590684890747\n"
     ]
    },
    {
     "name": "stderr",
     "output_type": "stream",
     "text": [
      "100%|██████████████████████████████████████████| 50/50 [00:00<00:00, 155.19it/s]\n"
     ]
    },
    {
     "name": "stdout",
     "output_type": "stream",
     "text": [
      "Validation completed for epoch 2\n",
      "Validation accuracy for epoch 2: 0.515\n",
      "Validation time for this epoch: 0.32312703132629395\n"
     ]
    },
    {
     "name": "stderr",
     "output_type": "stream",
     "text": [
      "100%|███████████████████████████████████████| 1000/1000 [00:38<00:00, 25.65it/s]\n"
     ]
    },
    {
     "name": "stdout",
     "output_type": "stream",
     "text": [
      "Training completed for epoch 3\n",
      "Training accuracy for epoch 3: 0.5609375\n",
      "Training time for this epoch: 38.98907208442688\n"
     ]
    },
    {
     "name": "stderr",
     "output_type": "stream",
     "text": [
      "100%|██████████████████████████████████████████| 50/50 [00:00<00:00, 159.73it/s]\n"
     ]
    },
    {
     "name": "stdout",
     "output_type": "stream",
     "text": [
      "Validation completed for epoch 3\n",
      "Validation accuracy for epoch 3: 0.55\n",
      "Validation time for this epoch: 0.31426095962524414\n"
     ]
    },
    {
     "name": "stderr",
     "output_type": "stream",
     "text": [
      "100%|███████████████████████████████████████| 1000/1000 [00:38<00:00, 25.74it/s]\n"
     ]
    },
    {
     "name": "stdout",
     "output_type": "stream",
     "text": [
      "Training completed for epoch 4\n",
      "Training accuracy for epoch 4: 0.59175\n",
      "Training time for this epoch: 38.85942196846008\n"
     ]
    },
    {
     "name": "stderr",
     "output_type": "stream",
     "text": [
      "100%|██████████████████████████████████████████| 50/50 [00:00<00:00, 146.01it/s]\n"
     ]
    },
    {
     "name": "stdout",
     "output_type": "stream",
     "text": [
      "Validation completed for epoch 4\n",
      "Validation accuracy for epoch 4: 0.575\n",
      "Validation time for this epoch: 0.34377384185791016\n"
     ]
    },
    {
     "name": "stderr",
     "output_type": "stream",
     "text": [
      "100%|███████████████████████████████████████| 1000/1000 [00:38<00:00, 26.05it/s]\n"
     ]
    },
    {
     "name": "stdout",
     "output_type": "stream",
     "text": [
      "Training completed for epoch 5\n",
      "Training accuracy for epoch 5: 0.6250625\n",
      "Training time for this epoch: 38.39412498474121\n"
     ]
    },
    {
     "name": "stderr",
     "output_type": "stream",
     "text": [
      "100%|██████████████████████████████████████████| 50/50 [00:00<00:00, 150.97it/s]\n",
      "[I 2023-11-08 01:37:38,160] Trial 29 finished with value: -0.52375 and parameters: {'h': 44, 'learning_rate': 0.005927396506233608}. Best is trial 26 with value: -0.5875.\n"
     ]
    },
    {
     "name": "stdout",
     "output_type": "stream",
     "text": [
      "Validation completed for epoch 5\n",
      "Validation accuracy for epoch 5: 0.52375\n",
      "Validation time for this epoch: 0.3321950435638428\n"
     ]
    },
    {
     "name": "stderr",
     "output_type": "stream",
     "text": [
      "100%|███████████████████████████████████████| 1000/1000 [00:38<00:00, 26.25it/s]\n"
     ]
    },
    {
     "name": "stdout",
     "output_type": "stream",
     "text": [
      "Training completed for epoch 1\n",
      "Training accuracy for epoch 1: 0.373125\n",
      "Training time for this epoch: 38.10592794418335\n"
     ]
    },
    {
     "name": "stderr",
     "output_type": "stream",
     "text": [
      "100%|██████████████████████████████████████████| 50/50 [00:00<00:00, 158.31it/s]\n"
     ]
    },
    {
     "name": "stdout",
     "output_type": "stream",
     "text": [
      "Validation completed for epoch 1\n",
      "Validation accuracy for epoch 1: 0.4\n",
      "Validation time for this epoch: 0.31677794456481934\n"
     ]
    },
    {
     "name": "stderr",
     "output_type": "stream",
     "text": [
      "100%|███████████████████████████████████████| 1000/1000 [00:38<00:00, 26.06it/s]\n"
     ]
    },
    {
     "name": "stdout",
     "output_type": "stream",
     "text": [
      "Training completed for epoch 2\n",
      "Training accuracy for epoch 2: 0.454625\n",
      "Training time for this epoch: 38.38204479217529\n"
     ]
    },
    {
     "name": "stderr",
     "output_type": "stream",
     "text": [
      "100%|██████████████████████████████████████████| 50/50 [00:00<00:00, 151.70it/s]\n"
     ]
    },
    {
     "name": "stdout",
     "output_type": "stream",
     "text": [
      "Validation completed for epoch 2\n",
      "Validation accuracy for epoch 2: 0.49625\n",
      "Validation time for this epoch: 0.3304119110107422\n"
     ]
    },
    {
     "name": "stderr",
     "output_type": "stream",
     "text": [
      "100%|███████████████████████████████████████| 1000/1000 [00:44<00:00, 22.40it/s]\n"
     ]
    },
    {
     "name": "stdout",
     "output_type": "stream",
     "text": [
      "Training completed for epoch 3\n",
      "Training accuracy for epoch 3: 0.491125\n",
      "Training time for this epoch: 44.651991844177246\n"
     ]
    },
    {
     "name": "stderr",
     "output_type": "stream",
     "text": [
      "100%|██████████████████████████████████████████| 50/50 [00:00<00:00, 146.36it/s]\n"
     ]
    },
    {
     "name": "stdout",
     "output_type": "stream",
     "text": [
      "Validation completed for epoch 3\n",
      "Validation accuracy for epoch 3: 0.4975\n",
      "Validation time for this epoch: 0.3442239761352539\n"
     ]
    },
    {
     "name": "stderr",
     "output_type": "stream",
     "text": [
      "100%|███████████████████████████████████████| 1000/1000 [00:40<00:00, 24.90it/s]\n"
     ]
    },
    {
     "name": "stdout",
     "output_type": "stream",
     "text": [
      "Training completed for epoch 4\n",
      "Training accuracy for epoch 4: 0.517125\n",
      "Training time for this epoch: 40.16004920005798\n"
     ]
    },
    {
     "name": "stderr",
     "output_type": "stream",
     "text": [
      "100%|██████████████████████████████████████████| 50/50 [00:00<00:00, 152.24it/s]\n"
     ]
    },
    {
     "name": "stdout",
     "output_type": "stream",
     "text": [
      "Validation completed for epoch 4\n",
      "Validation accuracy for epoch 4: 0.51\n",
      "Validation time for this epoch: 0.3295109272003174\n"
     ]
    },
    {
     "name": "stderr",
     "output_type": "stream",
     "text": [
      "100%|███████████████████████████████████████| 1000/1000 [00:42<00:00, 23.66it/s]\n"
     ]
    },
    {
     "name": "stdout",
     "output_type": "stream",
     "text": [
      "Training completed for epoch 5\n",
      "Training accuracy for epoch 5: 0.533375\n",
      "Training time for this epoch: 42.281083822250366\n"
     ]
    },
    {
     "name": "stderr",
     "output_type": "stream",
     "text": [
      "100%|██████████████████████████████████████████| 50/50 [00:00<00:00, 150.13it/s]\n",
      "[I 2023-11-08 01:41:03,437] Trial 30 finished with value: -0.51875 and parameters: {'h': 43, 'learning_rate': 0.0012140081725537579}. Best is trial 26 with value: -0.5875.\n"
     ]
    },
    {
     "name": "stdout",
     "output_type": "stream",
     "text": [
      "Validation completed for epoch 5\n",
      "Validation accuracy for epoch 5: 0.51875\n",
      "Validation time for this epoch: 0.3392479419708252\n"
     ]
    },
    {
     "name": "stderr",
     "output_type": "stream",
     "text": [
      "100%|███████████████████████████████████████| 1000/1000 [00:37<00:00, 26.43it/s]\n"
     ]
    },
    {
     "name": "stdout",
     "output_type": "stream",
     "text": [
      "Training completed for epoch 1\n",
      "Training accuracy for epoch 1: 0.3749375\n",
      "Training time for this epoch: 37.84978222846985\n"
     ]
    },
    {
     "name": "stderr",
     "output_type": "stream",
     "text": [
      "100%|██████████████████████████████████████████| 50/50 [00:00<00:00, 131.94it/s]\n"
     ]
    },
    {
     "name": "stdout",
     "output_type": "stream",
     "text": [
      "Validation completed for epoch 1\n",
      "Validation accuracy for epoch 1: 0.41625\n",
      "Validation time for this epoch: 0.3803732395172119\n"
     ]
    },
    {
     "name": "stderr",
     "output_type": "stream",
     "text": [
      "100%|███████████████████████████████████████| 1000/1000 [00:39<00:00, 25.44it/s]\n"
     ]
    },
    {
     "name": "stdout",
     "output_type": "stream",
     "text": [
      "Training completed for epoch 2\n",
      "Training accuracy for epoch 2: 0.5101875\n",
      "Training time for this epoch: 39.30777287483215\n"
     ]
    },
    {
     "name": "stderr",
     "output_type": "stream",
     "text": [
      "100%|██████████████████████████████████████████| 50/50 [00:00<00:00, 162.68it/s]\n"
     ]
    },
    {
     "name": "stdout",
     "output_type": "stream",
     "text": [
      "Validation completed for epoch 2\n",
      "Validation accuracy for epoch 2: 0.43375\n",
      "Validation time for this epoch: 0.30832791328430176\n"
     ]
    },
    {
     "name": "stderr",
     "output_type": "stream",
     "text": [
      "100%|███████████████████████████████████████| 1000/1000 [00:39<00:00, 25.00it/s]\n"
     ]
    },
    {
     "name": "stdout",
     "output_type": "stream",
     "text": [
      "Training completed for epoch 3\n",
      "Training accuracy for epoch 3: 0.557\n",
      "Training time for this epoch: 40.005350828170776\n"
     ]
    },
    {
     "name": "stderr",
     "output_type": "stream",
     "text": [
      "100%|██████████████████████████████████████████| 50/50 [00:00<00:00, 148.31it/s]\n"
     ]
    },
    {
     "name": "stdout",
     "output_type": "stream",
     "text": [
      "Validation completed for epoch 3\n",
      "Validation accuracy for epoch 3: 0.47625\n",
      "Validation time for this epoch: 0.338839054107666\n"
     ]
    },
    {
     "name": "stderr",
     "output_type": "stream",
     "text": [
      "100%|███████████████████████████████████████| 1000/1000 [00:48<00:00, 20.79it/s]\n"
     ]
    },
    {
     "name": "stdout",
     "output_type": "stream",
     "text": [
      "Training completed for epoch 4\n",
      "Training accuracy for epoch 4: 0.587875\n",
      "Training time for this epoch: 48.099592208862305\n"
     ]
    },
    {
     "name": "stderr",
     "output_type": "stream",
     "text": [
      "100%|██████████████████████████████████████████| 50/50 [00:00<00:00, 104.01it/s]\n"
     ]
    },
    {
     "name": "stdout",
     "output_type": "stream",
     "text": [
      "Validation completed for epoch 4\n",
      "Validation accuracy for epoch 4: 0.58125\n",
      "Validation time for this epoch: 0.48234081268310547\n"
     ]
    },
    {
     "name": "stderr",
     "output_type": "stream",
     "text": [
      "100%|███████████████████████████████████████| 1000/1000 [01:04<00:00, 15.60it/s]\n"
     ]
    },
    {
     "name": "stdout",
     "output_type": "stream",
     "text": [
      "Training completed for epoch 5\n",
      "Training accuracy for epoch 5: 0.6151875\n",
      "Training time for this epoch: 64.12635898590088\n"
     ]
    },
    {
     "name": "stderr",
     "output_type": "stream",
     "text": [
      "100%|██████████████████████████████████████████| 50/50 [00:00<00:00, 110.12it/s]\n",
      "[I 2023-11-08 01:44:54,848] Trial 31 finished with value: -0.3825 and parameters: {'h': 40, 'learning_rate': 0.0033545877806424747}. Best is trial 26 with value: -0.5875.\n"
     ]
    },
    {
     "name": "stdout",
     "output_type": "stream",
     "text": [
      "Validation completed for epoch 5\n",
      "Validation accuracy for epoch 5: 0.3825\n",
      "Validation time for this epoch: 0.4554879665374756\n"
     ]
    },
    {
     "name": "stderr",
     "output_type": "stream",
     "text": [
      "100%|███████████████████████████████████████| 1000/1000 [01:00<00:00, 16.47it/s]\n"
     ]
    },
    {
     "name": "stdout",
     "output_type": "stream",
     "text": [
      "Training completed for epoch 1\n",
      "Training accuracy for epoch 1: 0.3874375\n",
      "Training time for this epoch: 60.71359181404114\n"
     ]
    },
    {
     "name": "stderr",
     "output_type": "stream",
     "text": [
      "100%|███████████████████████████████████████████| 50/50 [00:00<00:00, 57.17it/s]\n"
     ]
    },
    {
     "name": "stdout",
     "output_type": "stream",
     "text": [
      "Validation completed for epoch 1\n",
      "Validation accuracy for epoch 1: 0.45125\n",
      "Validation time for this epoch: 0.882371187210083\n"
     ]
    },
    {
     "name": "stderr",
     "output_type": "stream",
     "text": [
      "100%|███████████████████████████████████████| 1000/1000 [01:08<00:00, 14.67it/s]\n"
     ]
    },
    {
     "name": "stdout",
     "output_type": "stream",
     "text": [
      "Training completed for epoch 2\n",
      "Training accuracy for epoch 2: 0.47475\n",
      "Training time for this epoch: 68.20652389526367\n"
     ]
    },
    {
     "name": "stderr",
     "output_type": "stream",
     "text": [
      "100%|██████████████████████████████████████████| 50/50 [00:00<00:00, 113.83it/s]\n"
     ]
    },
    {
     "name": "stdout",
     "output_type": "stream",
     "text": [
      "Validation completed for epoch 2\n",
      "Validation accuracy for epoch 2: 0.615\n",
      "Validation time for this epoch: 0.44176578521728516\n"
     ]
    },
    {
     "name": "stderr",
     "output_type": "stream",
     "text": [
      "100%|███████████████████████████████████████| 1000/1000 [00:53<00:00, 18.62it/s]\n"
     ]
    },
    {
     "name": "stdout",
     "output_type": "stream",
     "text": [
      "Training completed for epoch 3\n",
      "Training accuracy for epoch 3: 0.497375\n",
      "Training time for this epoch: 53.715404987335205\n"
     ]
    },
    {
     "name": "stderr",
     "output_type": "stream",
     "text": [
      "100%|███████████████████████████████████████████| 50/50 [00:00<00:00, 98.92it/s]\n"
     ]
    },
    {
     "name": "stdout",
     "output_type": "stream",
     "text": [
      "Validation completed for epoch 3\n",
      "Validation accuracy for epoch 3: 0.58875\n",
      "Validation time for this epoch: 0.5084640979766846\n"
     ]
    },
    {
     "name": "stderr",
     "output_type": "stream",
     "text": [
      "100%|███████████████████████████████████████| 1000/1000 [00:57<00:00, 17.42it/s]\n"
     ]
    },
    {
     "name": "stdout",
     "output_type": "stream",
     "text": [
      "Training completed for epoch 4\n",
      "Training accuracy for epoch 4: 0.519375\n",
      "Training time for this epoch: 57.43625998497009\n"
     ]
    },
    {
     "name": "stderr",
     "output_type": "stream",
     "text": [
      "100%|███████████████████████████████████████████| 50/50 [00:00<00:00, 97.51it/s]\n"
     ]
    },
    {
     "name": "stdout",
     "output_type": "stream",
     "text": [
      "Validation completed for epoch 4\n",
      "Validation accuracy for epoch 4: 0.54875\n",
      "Validation time for this epoch: 0.5152420997619629\n"
     ]
    },
    {
     "name": "stderr",
     "output_type": "stream",
     "text": [
      "100%|███████████████████████████████████████| 1000/1000 [01:04<00:00, 15.55it/s]\n"
     ]
    },
    {
     "name": "stdout",
     "output_type": "stream",
     "text": [
      "Training completed for epoch 5\n",
      "Training accuracy for epoch 5: 0.5379375\n",
      "Training time for this epoch: 64.3176281452179\n"
     ]
    },
    {
     "name": "stderr",
     "output_type": "stream",
     "text": [
      "100%|██████████████████████████████████████████| 50/50 [00:00<00:00, 116.44it/s]\n",
      "[I 2023-11-08 01:50:02,105] Trial 32 finished with value: -0.59875 and parameters: {'h': 34, 'learning_rate': 0.0044013393280261754}. Best is trial 32 with value: -0.59875.\n"
     ]
    },
    {
     "name": "stdout",
     "output_type": "stream",
     "text": [
      "Validation completed for epoch 5\n",
      "Validation accuracy for epoch 5: 0.59875\n",
      "Validation time for this epoch: 0.4309356212615967\n"
     ]
    },
    {
     "name": "stderr",
     "output_type": "stream",
     "text": [
      "100%|███████████████████████████████████████| 1000/1000 [00:35<00:00, 28.00it/s]\n"
     ]
    },
    {
     "name": "stdout",
     "output_type": "stream",
     "text": [
      "Training completed for epoch 1\n",
      "Training accuracy for epoch 1: 0.3260625\n",
      "Training time for this epoch: 35.71837091445923\n"
     ]
    },
    {
     "name": "stderr",
     "output_type": "stream",
     "text": [
      "100%|██████████████████████████████████████████| 50/50 [00:00<00:00, 132.40it/s]\n"
     ]
    },
    {
     "name": "stdout",
     "output_type": "stream",
     "text": [
      "Validation completed for epoch 1\n",
      "Validation accuracy for epoch 1: 0.4775\n",
      "Validation time for this epoch: 0.37943291664123535\n"
     ]
    },
    {
     "name": "stderr",
     "output_type": "stream",
     "text": [
      "100%|███████████████████████████████████████| 1000/1000 [00:36<00:00, 27.72it/s]\n"
     ]
    },
    {
     "name": "stdout",
     "output_type": "stream",
     "text": [
      "Training completed for epoch 2\n",
      "Training accuracy for epoch 2: 0.4198125\n",
      "Training time for this epoch: 36.090970039367676\n"
     ]
    },
    {
     "name": "stderr",
     "output_type": "stream",
     "text": [
      "100%|██████████████████████████████████████████| 50/50 [00:00<00:00, 133.73it/s]\n"
     ]
    },
    {
     "name": "stdout",
     "output_type": "stream",
     "text": [
      "Validation completed for epoch 2\n",
      "Validation accuracy for epoch 2: 0.5125\n",
      "Validation time for this epoch: 0.37545204162597656\n"
     ]
    },
    {
     "name": "stderr",
     "output_type": "stream",
     "text": [
      "100%|███████████████████████████████████████| 1000/1000 [00:35<00:00, 28.30it/s]\n"
     ]
    },
    {
     "name": "stdout",
     "output_type": "stream",
     "text": [
      "Training completed for epoch 3\n",
      "Training accuracy for epoch 3: 0.4574375\n",
      "Training time for this epoch: 35.33839511871338\n"
     ]
    },
    {
     "name": "stderr",
     "output_type": "stream",
     "text": [
      "100%|██████████████████████████████████████████| 50/50 [00:00<00:00, 117.31it/s]\n"
     ]
    },
    {
     "name": "stdout",
     "output_type": "stream",
     "text": [
      "Validation completed for epoch 3\n",
      "Validation accuracy for epoch 3: 0.4675\n",
      "Validation time for this epoch: 0.4277529716491699\n"
     ]
    },
    {
     "name": "stderr",
     "output_type": "stream",
     "text": [
      "100%|███████████████████████████████████████| 1000/1000 [00:35<00:00, 28.02it/s]\n"
     ]
    },
    {
     "name": "stdout",
     "output_type": "stream",
     "text": [
      "Training completed for epoch 4\n",
      "Training accuracy for epoch 4: 0.4696875\n",
      "Training time for this epoch: 35.6950159072876\n"
     ]
    },
    {
     "name": "stderr",
     "output_type": "stream",
     "text": [
      "100%|███████████████████████████████████████████| 50/50 [00:00<00:00, 65.60it/s]\n"
     ]
    },
    {
     "name": "stdout",
     "output_type": "stream",
     "text": [
      "Validation completed for epoch 4\n",
      "Validation accuracy for epoch 4: 0.58625\n",
      "Validation time for this epoch: 0.7642323970794678\n"
     ]
    },
    {
     "name": "stderr",
     "output_type": "stream",
     "text": [
      "100%|███████████████████████████████████████| 1000/1000 [00:39<00:00, 25.44it/s]\n"
     ]
    },
    {
     "name": "stdout",
     "output_type": "stream",
     "text": [
      "Training completed for epoch 5\n",
      "Training accuracy for epoch 5: 0.4723125\n",
      "Training time for this epoch: 39.33768820762634\n"
     ]
    },
    {
     "name": "stderr",
     "output_type": "stream",
     "text": [
      "100%|██████████████████████████████████████████| 50/50 [00:00<00:00, 133.14it/s]\n",
      "[I 2023-11-08 01:53:06,681] Trial 33 finished with value: -0.575 and parameters: {'h': 31, 'learning_rate': 0.006651216403130646}. Best is trial 32 with value: -0.59875.\n"
     ]
    },
    {
     "name": "stdout",
     "output_type": "stream",
     "text": [
      "Validation completed for epoch 5\n",
      "Validation accuracy for epoch 5: 0.575\n",
      "Validation time for this epoch: 0.37708115577697754\n"
     ]
    },
    {
     "name": "stderr",
     "output_type": "stream",
     "text": [
      "100%|███████████████████████████████████████| 1000/1000 [00:33<00:00, 29.90it/s]\n"
     ]
    },
    {
     "name": "stdout",
     "output_type": "stream",
     "text": [
      "Training completed for epoch 1\n",
      "Training accuracy for epoch 1: 0.3915625\n",
      "Training time for this epoch: 33.44766116142273\n"
     ]
    },
    {
     "name": "stderr",
     "output_type": "stream",
     "text": [
      "100%|██████████████████████████████████████████| 50/50 [00:00<00:00, 131.53it/s]\n"
     ]
    },
    {
     "name": "stdout",
     "output_type": "stream",
     "text": [
      "Validation completed for epoch 1\n",
      "Validation accuracy for epoch 1: 0.355\n",
      "Validation time for this epoch: 0.3818340301513672\n"
     ]
    },
    {
     "name": "stderr",
     "output_type": "stream",
     "text": [
      "100%|███████████████████████████████████████| 1000/1000 [00:37<00:00, 26.61it/s]\n"
     ]
    },
    {
     "name": "stdout",
     "output_type": "stream",
     "text": [
      "Training completed for epoch 2\n",
      "Training accuracy for epoch 2: 0.4891875\n",
      "Training time for this epoch: 37.58933711051941\n"
     ]
    },
    {
     "name": "stderr",
     "output_type": "stream",
     "text": [
      "100%|██████████████████████████████████████████| 50/50 [00:00<00:00, 133.79it/s]\n"
     ]
    },
    {
     "name": "stdout",
     "output_type": "stream",
     "text": [
      "Validation completed for epoch 2\n",
      "Validation accuracy for epoch 2: 0.5375\n",
      "Validation time for this epoch: 0.37567901611328125\n"
     ]
    },
    {
     "name": "stderr",
     "output_type": "stream",
     "text": [
      "100%|███████████████████████████████████████| 1000/1000 [00:35<00:00, 28.43it/s]\n"
     ]
    },
    {
     "name": "stdout",
     "output_type": "stream",
     "text": [
      "Training completed for epoch 3\n",
      "Training accuracy for epoch 3: 0.5455625\n",
      "Training time for this epoch: 35.200947999954224\n"
     ]
    },
    {
     "name": "stderr",
     "output_type": "stream",
     "text": [
      "100%|██████████████████████████████████████████| 50/50 [00:00<00:00, 138.17it/s]\n"
     ]
    },
    {
     "name": "stdout",
     "output_type": "stream",
     "text": [
      "Validation completed for epoch 3\n",
      "Validation accuracy for epoch 3: 0.45375\n",
      "Validation time for this epoch: 0.36339282989501953\n"
     ]
    },
    {
     "name": "stderr",
     "output_type": "stream",
     "text": [
      "100%|███████████████████████████████████████| 1000/1000 [00:36<00:00, 27.74it/s]\n"
     ]
    },
    {
     "name": "stdout",
     "output_type": "stream",
     "text": [
      "Training completed for epoch 4\n",
      "Training accuracy for epoch 4: 0.577625\n",
      "Training time for this epoch: 36.05974292755127\n"
     ]
    },
    {
     "name": "stderr",
     "output_type": "stream",
     "text": [
      "100%|██████████████████████████████████████████| 50/50 [00:00<00:00, 118.33it/s]\n"
     ]
    },
    {
     "name": "stdout",
     "output_type": "stream",
     "text": [
      "Validation completed for epoch 4\n",
      "Validation accuracy for epoch 4: 0.605\n",
      "Validation time for this epoch: 0.4241788387298584\n"
     ]
    },
    {
     "name": "stderr",
     "output_type": "stream",
     "text": [
      "100%|███████████████████████████████████████| 1000/1000 [00:56<00:00, 17.80it/s]\n"
     ]
    },
    {
     "name": "stdout",
     "output_type": "stream",
     "text": [
      "Training completed for epoch 5\n",
      "Training accuracy for epoch 5: 0.59925\n",
      "Training time for this epoch: 56.17615795135498\n"
     ]
    },
    {
     "name": "stderr",
     "output_type": "stream",
     "text": [
      "100%|██████████████████████████████████████████| 50/50 [00:00<00:00, 120.17it/s]\n",
      "[I 2023-11-08 01:56:27,159] Trial 34 finished with value: -0.49875 and parameters: {'h': 30, 'learning_rate': 0.007512588230152674}. Best is trial 32 with value: -0.59875.\n"
     ]
    },
    {
     "name": "stdout",
     "output_type": "stream",
     "text": [
      "Validation completed for epoch 5\n",
      "Validation accuracy for epoch 5: 0.49875\n",
      "Validation time for this epoch: 0.4200561046600342\n"
     ]
    },
    {
     "name": "stderr",
     "output_type": "stream",
     "text": [
      "100%|███████████████████████████████████████| 1000/1000 [00:44<00:00, 22.28it/s]\n"
     ]
    },
    {
     "name": "stdout",
     "output_type": "stream",
     "text": [
      "Training completed for epoch 1\n",
      "Training accuracy for epoch 1: 0.3023125\n",
      "Training time for this epoch: 44.90466785430908\n"
     ]
    },
    {
     "name": "stderr",
     "output_type": "stream",
     "text": [
      "100%|███████████████████████████████████████████| 50/50 [00:00<00:00, 97.15it/s]\n"
     ]
    },
    {
     "name": "stdout",
     "output_type": "stream",
     "text": [
      "Validation completed for epoch 1\n",
      "Validation accuracy for epoch 1: 0.565\n",
      "Validation time for this epoch: 0.5185458660125732\n"
     ]
    },
    {
     "name": "stderr",
     "output_type": "stream",
     "text": [
      "100%|███████████████████████████████████████| 1000/1000 [00:56<00:00, 17.65it/s]\n"
     ]
    },
    {
     "name": "stdout",
     "output_type": "stream",
     "text": [
      "Training completed for epoch 2\n",
      "Training accuracy for epoch 2: 0.341125\n",
      "Training time for this epoch: 56.667288064956665\n"
     ]
    },
    {
     "name": "stderr",
     "output_type": "stream",
     "text": [
      "100%|███████████████████████████████████████████| 50/50 [00:00<00:00, 91.11it/s]\n"
     ]
    },
    {
     "name": "stdout",
     "output_type": "stream",
     "text": [
      "Validation completed for epoch 2\n",
      "Validation accuracy for epoch 2: 0.6\n",
      "Validation time for this epoch: 0.5548622608184814\n"
     ]
    },
    {
     "name": "stderr",
     "output_type": "stream",
     "text": [
      "100%|███████████████████████████████████████| 1000/1000 [00:47<00:00, 21.12it/s]\n"
     ]
    },
    {
     "name": "stdout",
     "output_type": "stream",
     "text": [
      "Training completed for epoch 3\n",
      "Training accuracy for epoch 3: 0.35775\n",
      "Training time for this epoch: 47.36333870887756\n"
     ]
    },
    {
     "name": "stderr",
     "output_type": "stream",
     "text": [
      "100%|██████████████████████████████████████████| 50/50 [00:00<00:00, 103.17it/s]\n"
     ]
    },
    {
     "name": "stdout",
     "output_type": "stream",
     "text": [
      "Validation completed for epoch 3\n",
      "Validation accuracy for epoch 3: 0.6025\n",
      "Validation time for this epoch: 0.4892458915710449\n"
     ]
    },
    {
     "name": "stderr",
     "output_type": "stream",
     "text": [
      "100%|███████████████████████████████████████| 1000/1000 [00:54<00:00, 18.50it/s]\n"
     ]
    },
    {
     "name": "stdout",
     "output_type": "stream",
     "text": [
      "Training completed for epoch 4\n",
      "Training accuracy for epoch 4: 0.373125\n",
      "Training time for this epoch: 54.07422113418579\n"
     ]
    },
    {
     "name": "stderr",
     "output_type": "stream",
     "text": [
      "100%|██████████████████████████████████████████| 50/50 [00:00<00:00, 108.13it/s]\n"
     ]
    },
    {
     "name": "stdout",
     "output_type": "stream",
     "text": [
      "Validation completed for epoch 4\n",
      "Validation accuracy for epoch 4: 0.55625\n",
      "Validation time for this epoch: 0.46454286575317383\n"
     ]
    },
    {
     "name": "stderr",
     "output_type": "stream",
     "text": [
      "100%|███████████████████████████████████████| 1000/1000 [00:56<00:00, 17.63it/s]\n"
     ]
    },
    {
     "name": "stdout",
     "output_type": "stream",
     "text": [
      "Training completed for epoch 5\n",
      "Training accuracy for epoch 5: 0.3858125\n",
      "Training time for this epoch: 56.73710632324219\n"
     ]
    },
    {
     "name": "stderr",
     "output_type": "stream",
     "text": [
      "100%|██████████████████████████████████████████| 50/50 [00:00<00:00, 110.87it/s]\n",
      "[I 2023-11-08 02:00:49,451] Trial 35 finished with value: -0.5775 and parameters: {'h': 33, 'learning_rate': 0.0021606337222407003}. Best is trial 32 with value: -0.59875.\n"
     ]
    },
    {
     "name": "stdout",
     "output_type": "stream",
     "text": [
      "Validation completed for epoch 5\n",
      "Validation accuracy for epoch 5: 0.5775\n",
      "Validation time for this epoch: 0.45276474952697754\n"
     ]
    },
    {
     "name": "stderr",
     "output_type": "stream",
     "text": [
      "100%|███████████████████████████████████████| 1000/1000 [00:50<00:00, 19.95it/s]\n"
     ]
    },
    {
     "name": "stdout",
     "output_type": "stream",
     "text": [
      "Training completed for epoch 1\n",
      "Training accuracy for epoch 1: 0.2750625\n",
      "Training time for this epoch: 50.13301920890808\n"
     ]
    },
    {
     "name": "stderr",
     "output_type": "stream",
     "text": [
      "100%|███████████████████████████████████████████| 50/50 [00:00<00:00, 98.52it/s]\n"
     ]
    },
    {
     "name": "stdout",
     "output_type": "stream",
     "text": [
      "Validation completed for epoch 1\n",
      "Validation accuracy for epoch 1: 0.4925\n",
      "Validation time for this epoch: 0.5091261863708496\n"
     ]
    },
    {
     "name": "stderr",
     "output_type": "stream",
     "text": [
      "100%|███████████████████████████████████████| 1000/1000 [00:58<00:00, 17.13it/s]\n"
     ]
    },
    {
     "name": "stdout",
     "output_type": "stream",
     "text": [
      "Training completed for epoch 2\n",
      "Training accuracy for epoch 2: 0.409875\n",
      "Training time for this epoch: 58.416080951690674\n"
     ]
    },
    {
     "name": "stderr",
     "output_type": "stream",
     "text": [
      "100%|███████████████████████████████████████████| 50/50 [00:00<00:00, 58.70it/s]\n"
     ]
    },
    {
     "name": "stdout",
     "output_type": "stream",
     "text": [
      "Validation completed for epoch 2\n",
      "Validation accuracy for epoch 2: 0.57\n",
      "Validation time for this epoch: 0.921868085861206\n"
     ]
    },
    {
     "name": "stderr",
     "output_type": "stream",
     "text": [
      "100%|███████████████████████████████████████| 1000/1000 [01:01<00:00, 16.33it/s]\n"
     ]
    },
    {
     "name": "stdout",
     "output_type": "stream",
     "text": [
      "Training completed for epoch 3\n",
      "Training accuracy for epoch 3: 0.44525\n",
      "Training time for this epoch: 61.264594078063965\n"
     ]
    },
    {
     "name": "stderr",
     "output_type": "stream",
     "text": [
      "100%|███████████████████████████████████████████| 50/50 [00:00<00:00, 89.56it/s]\n"
     ]
    },
    {
     "name": "stdout",
     "output_type": "stream",
     "text": [
      "Validation completed for epoch 3\n",
      "Validation accuracy for epoch 3: 0.5225\n",
      "Validation time for this epoch: 0.5614430904388428\n"
     ]
    },
    {
     "name": "stderr",
     "output_type": "stream",
     "text": [
      "100%|███████████████████████████████████████| 1000/1000 [01:07<00:00, 14.85it/s]\n"
     ]
    },
    {
     "name": "stdout",
     "output_type": "stream",
     "text": [
      "Training completed for epoch 4\n",
      "Training accuracy for epoch 4: 0.4775\n",
      "Training time for this epoch: 67.3550238609314\n"
     ]
    },
    {
     "name": "stderr",
     "output_type": "stream",
     "text": [
      "100%|██████████████████████████████████████████| 50/50 [00:00<00:00, 102.63it/s]\n"
     ]
    },
    {
     "name": "stdout",
     "output_type": "stream",
     "text": [
      "Validation completed for epoch 4\n",
      "Validation accuracy for epoch 4: 0.50625\n",
      "Validation time for this epoch: 0.4892082214355469\n"
     ]
    },
    {
     "name": "stderr",
     "output_type": "stream",
     "text": [
      "100%|███████████████████████████████████████| 1000/1000 [00:55<00:00, 17.94it/s]\n"
     ]
    },
    {
     "name": "stdout",
     "output_type": "stream",
     "text": [
      "Training completed for epoch 5\n",
      "Training accuracy for epoch 5: 0.5251875\n",
      "Training time for this epoch: 55.74939513206482\n"
     ]
    },
    {
     "name": "stderr",
     "output_type": "stream",
     "text": [
      "100%|███████████████████████████████████████████| 50/50 [00:00<00:00, 76.27it/s]\n",
      "[I 2023-11-08 02:05:45,587] Trial 36 finished with value: -0.53 and parameters: {'h': 35, 'learning_rate': 0.0021017705067464844}. Best is trial 32 with value: -0.59875.\n"
     ]
    },
    {
     "name": "stdout",
     "output_type": "stream",
     "text": [
      "Validation completed for epoch 5\n",
      "Validation accuracy for epoch 5: 0.53\n",
      "Validation time for this epoch: 0.6595041751861572\n"
     ]
    },
    {
     "name": "stderr",
     "output_type": "stream",
     "text": [
      "100%|███████████████████████████████████████| 1000/1000 [00:50<00:00, 19.77it/s]\n"
     ]
    },
    {
     "name": "stdout",
     "output_type": "stream",
     "text": [
      "Training completed for epoch 1\n",
      "Training accuracy for epoch 1: 0.33475\n",
      "Training time for this epoch: 50.587894916534424\n"
     ]
    },
    {
     "name": "stderr",
     "output_type": "stream",
     "text": [
      "100%|██████████████████████████████████████████| 50/50 [00:00<00:00, 108.65it/s]\n"
     ]
    },
    {
     "name": "stdout",
     "output_type": "stream",
     "text": [
      "Validation completed for epoch 1\n",
      "Validation accuracy for epoch 1: 0.4375\n",
      "Validation time for this epoch: 0.46204686164855957\n"
     ]
    },
    {
     "name": "stderr",
     "output_type": "stream",
     "text": [
      "100%|███████████████████████████████████████| 1000/1000 [00:59<00:00, 16.93it/s]\n"
     ]
    },
    {
     "name": "stdout",
     "output_type": "stream",
     "text": [
      "Training completed for epoch 2\n",
      "Training accuracy for epoch 2: 0.4790625\n",
      "Training time for this epoch: 59.07627820968628\n"
     ]
    },
    {
     "name": "stderr",
     "output_type": "stream",
     "text": [
      "100%|██████████████████████████████████████████| 50/50 [00:00<00:00, 112.98it/s]\n"
     ]
    },
    {
     "name": "stdout",
     "output_type": "stream",
     "text": [
      "Validation completed for epoch 2\n",
      "Validation accuracy for epoch 2: 0.5425\n",
      "Validation time for this epoch: 0.4460000991821289\n"
     ]
    },
    {
     "name": "stderr",
     "output_type": "stream",
     "text": [
      "100%|███████████████████████████████████████| 1000/1000 [00:59<00:00, 16.79it/s]\n"
     ]
    },
    {
     "name": "stdout",
     "output_type": "stream",
     "text": [
      "Training completed for epoch 3\n",
      "Training accuracy for epoch 3: 0.5286875\n",
      "Training time for this epoch: 59.58228588104248\n"
     ]
    },
    {
     "name": "stderr",
     "output_type": "stream",
     "text": [
      "100%|██████████████████████████████████████████| 50/50 [00:00<00:00, 100.57it/s]\n"
     ]
    },
    {
     "name": "stdout",
     "output_type": "stream",
     "text": [
      "Validation completed for epoch 3\n",
      "Validation accuracy for epoch 3: 0.5525\n",
      "Validation time for this epoch: 0.5029628276824951\n"
     ]
    },
    {
     "name": "stderr",
     "output_type": "stream",
     "text": [
      "100%|███████████████████████████████████████| 1000/1000 [00:56<00:00, 17.55it/s]\n"
     ]
    },
    {
     "name": "stdout",
     "output_type": "stream",
     "text": [
      "Training completed for epoch 4\n",
      "Training accuracy for epoch 4: 0.5628125\n",
      "Training time for this epoch: 57.00499725341797\n"
     ]
    },
    {
     "name": "stderr",
     "output_type": "stream",
     "text": [
      "100%|██████████████████████████████████████████| 50/50 [00:00<00:00, 118.18it/s]\n"
     ]
    },
    {
     "name": "stdout",
     "output_type": "stream",
     "text": [
      "Validation completed for epoch 4\n",
      "Validation accuracy for epoch 4: 0.57375\n",
      "Validation time for this epoch: 0.4246551990509033\n"
     ]
    },
    {
     "name": "stderr",
     "output_type": "stream",
     "text": [
      "100%|███████████████████████████████████████| 1000/1000 [00:49<00:00, 20.16it/s]\n"
     ]
    },
    {
     "name": "stdout",
     "output_type": "stream",
     "text": [
      "Training completed for epoch 5\n",
      "Training accuracy for epoch 5: 0.5865625\n",
      "Training time for this epoch: 49.60838294029236\n"
     ]
    },
    {
     "name": "stderr",
     "output_type": "stream",
     "text": [
      "100%|██████████████████████████████████████████| 50/50 [00:00<00:00, 115.38it/s]\n",
      "[I 2023-11-08 02:10:23,786] Trial 37 finished with value: -0.50875 and parameters: {'h': 33, 'learning_rate': 0.001308826454015054}. Best is trial 32 with value: -0.59875.\n"
     ]
    },
    {
     "name": "stdout",
     "output_type": "stream",
     "text": [
      "Validation completed for epoch 5\n",
      "Validation accuracy for epoch 5: 0.50875\n",
      "Validation time for this epoch: 0.4348280429840088\n"
     ]
    },
    {
     "name": "stderr",
     "output_type": "stream",
     "text": [
      "100%|███████████████████████████████████████| 1000/1000 [01:01<00:00, 16.37it/s]\n"
     ]
    },
    {
     "name": "stdout",
     "output_type": "stream",
     "text": [
      "Training completed for epoch 1\n",
      "Training accuracy for epoch 1: 0.303125\n",
      "Training time for this epoch: 61.091089963912964\n"
     ]
    },
    {
     "name": "stderr",
     "output_type": "stream",
     "text": [
      "100%|███████████████████████████████████████████| 50/50 [00:00<00:00, 84.77it/s]\n"
     ]
    },
    {
     "name": "stdout",
     "output_type": "stream",
     "text": [
      "Validation completed for epoch 1\n",
      "Validation accuracy for epoch 1: 0.28\n",
      "Validation time for this epoch: 0.5918481349945068\n"
     ]
    },
    {
     "name": "stderr",
     "output_type": "stream",
     "text": [
      "100%|███████████████████████████████████████| 1000/1000 [00:56<00:00, 17.82it/s]\n"
     ]
    },
    {
     "name": "stdout",
     "output_type": "stream",
     "text": [
      "Training completed for epoch 2\n",
      "Training accuracy for epoch 2: 0.372125\n",
      "Training time for this epoch: 56.1364529132843\n"
     ]
    },
    {
     "name": "stderr",
     "output_type": "stream",
     "text": [
      "100%|███████████████████████████████████████████| 50/50 [00:00<00:00, 75.10it/s]\n"
     ]
    },
    {
     "name": "stdout",
     "output_type": "stream",
     "text": [
      "Validation completed for epoch 2\n",
      "Validation accuracy for epoch 2: 0.22\n",
      "Validation time for this epoch: 0.6681709289550781\n"
     ]
    },
    {
     "name": "stderr",
     "output_type": "stream",
     "text": [
      "100%|███████████████████████████████████████| 1000/1000 [01:03<00:00, 15.67it/s]\n"
     ]
    },
    {
     "name": "stdout",
     "output_type": "stream",
     "text": [
      "Training completed for epoch 3\n",
      "Training accuracy for epoch 3: 0.41\n",
      "Training time for this epoch: 63.83265471458435\n"
     ]
    },
    {
     "name": "stderr",
     "output_type": "stream",
     "text": [
      "100%|███████████████████████████████████████████| 50/50 [00:00<00:00, 83.16it/s]\n"
     ]
    },
    {
     "name": "stdout",
     "output_type": "stream",
     "text": [
      "Validation completed for epoch 3\n",
      "Validation accuracy for epoch 3: 0.25\n",
      "Validation time for this epoch: 0.6033821105957031\n"
     ]
    },
    {
     "name": "stderr",
     "output_type": "stream",
     "text": [
      "100%|███████████████████████████████████████| 1000/1000 [00:55<00:00, 17.87it/s]\n"
     ]
    },
    {
     "name": "stdout",
     "output_type": "stream",
     "text": [
      "Training completed for epoch 4\n",
      "Training accuracy for epoch 4: 0.4411875\n",
      "Training time for this epoch: 55.97289800643921\n"
     ]
    },
    {
     "name": "stderr",
     "output_type": "stream",
     "text": [
      "100%|███████████████████████████████████████████| 50/50 [00:00<00:00, 96.97it/s]\n"
     ]
    },
    {
     "name": "stdout",
     "output_type": "stream",
     "text": [
      "Validation completed for epoch 4\n",
      "Validation accuracy for epoch 4: 0.335\n",
      "Validation time for this epoch: 0.5173821449279785\n"
     ]
    },
    {
     "name": "stderr",
     "output_type": "stream",
     "text": [
      "100%|███████████████████████████████████████| 1000/1000 [00:58<00:00, 17.17it/s]\n"
     ]
    },
    {
     "name": "stdout",
     "output_type": "stream",
     "text": [
      "Training completed for epoch 5\n",
      "Training accuracy for epoch 5: 0.46975\n",
      "Training time for this epoch: 58.236085176467896\n"
     ]
    },
    {
     "name": "stderr",
     "output_type": "stream",
     "text": [
      "100%|███████████████████████████████████████████| 50/50 [00:00<00:00, 92.65it/s]\n",
      "[I 2023-11-08 02:15:22,039] Trial 38 finished with value: -0.35875 and parameters: {'h': 39, 'learning_rate': 0.000672908155449507}. Best is trial 32 with value: -0.59875.\n"
     ]
    },
    {
     "name": "stdout",
     "output_type": "stream",
     "text": [
      "Validation completed for epoch 5\n",
      "Validation accuracy for epoch 5: 0.35875\n",
      "Validation time for this epoch: 0.5416178703308105\n"
     ]
    },
    {
     "name": "stderr",
     "output_type": "stream",
     "text": [
      "100%|███████████████████████████████████████| 1000/1000 [00:46<00:00, 21.73it/s]\n"
     ]
    },
    {
     "name": "stdout",
     "output_type": "stream",
     "text": [
      "Training completed for epoch 1\n",
      "Training accuracy for epoch 1: 0.3683125\n",
      "Training time for this epoch: 46.02781820297241\n"
     ]
    },
    {
     "name": "stderr",
     "output_type": "stream",
     "text": [
      "100%|██████████████████████████████████████████| 50/50 [00:00<00:00, 124.47it/s]\n"
     ]
    },
    {
     "name": "stdout",
     "output_type": "stream",
     "text": [
      "Validation completed for epoch 1\n",
      "Validation accuracy for epoch 1: 0.43375\n",
      "Validation time for this epoch: 0.4035181999206543\n"
     ]
    },
    {
     "name": "stderr",
     "output_type": "stream",
     "text": [
      "100%|███████████████████████████████████████| 1000/1000 [00:46<00:00, 21.53it/s]\n"
     ]
    },
    {
     "name": "stdout",
     "output_type": "stream",
     "text": [
      "Training completed for epoch 2\n",
      "Training accuracy for epoch 2: 0.501125\n",
      "Training time for this epoch: 46.448543310165405\n"
     ]
    },
    {
     "name": "stderr",
     "output_type": "stream",
     "text": [
      "100%|██████████████████████████████████████████| 50/50 [00:00<00:00, 115.85it/s]\n"
     ]
    },
    {
     "name": "stdout",
     "output_type": "stream",
     "text": [
      "Validation completed for epoch 2\n",
      "Validation accuracy for epoch 2: 0.32125\n",
      "Validation time for this epoch: 0.43339109420776367\n"
     ]
    },
    {
     "name": "stderr",
     "output_type": "stream",
     "text": [
      "100%|███████████████████████████████████████| 1000/1000 [00:41<00:00, 23.91it/s]\n"
     ]
    },
    {
     "name": "stdout",
     "output_type": "stream",
     "text": [
      "Training completed for epoch 3\n",
      "Training accuracy for epoch 3: 0.549\n",
      "Training time for this epoch: 41.83928918838501\n"
     ]
    },
    {
     "name": "stderr",
     "output_type": "stream",
     "text": [
      "100%|██████████████████████████████████████████| 50/50 [00:00<00:00, 116.85it/s]\n"
     ]
    },
    {
     "name": "stdout",
     "output_type": "stream",
     "text": [
      "Validation completed for epoch 3\n",
      "Validation accuracy for epoch 3: 0.5125\n",
      "Validation time for this epoch: 0.4295461177825928\n"
     ]
    },
    {
     "name": "stderr",
     "output_type": "stream",
     "text": [
      "100%|███████████████████████████████████████| 1000/1000 [00:41<00:00, 24.05it/s]\n"
     ]
    },
    {
     "name": "stdout",
     "output_type": "stream",
     "text": [
      "Training completed for epoch 4\n",
      "Training accuracy for epoch 4: 0.58075\n",
      "Training time for this epoch: 41.589982986450195\n"
     ]
    },
    {
     "name": "stderr",
     "output_type": "stream",
     "text": [
      "100%|███████████████████████████████████████████| 50/50 [00:00<00:00, 97.34it/s]\n"
     ]
    },
    {
     "name": "stdout",
     "output_type": "stream",
     "text": [
      "Validation completed for epoch 4\n",
      "Validation accuracy for epoch 4: 0.54125\n",
      "Validation time for this epoch: 0.5169122219085693\n"
     ]
    },
    {
     "name": "stderr",
     "output_type": "stream",
     "text": [
      "100%|███████████████████████████████████████| 1000/1000 [00:44<00:00, 22.59it/s]\n"
     ]
    },
    {
     "name": "stdout",
     "output_type": "stream",
     "text": [
      "Training completed for epoch 5\n",
      "Training accuracy for epoch 5: 0.603875\n",
      "Training time for this epoch: 44.2900972366333\n"
     ]
    },
    {
     "name": "stderr",
     "output_type": "stream",
     "text": [
      "100%|██████████████████████████████████████████| 50/50 [00:00<00:00, 111.90it/s]\n",
      "[I 2023-11-08 02:19:04,498] Trial 39 finished with value: -0.53125 and parameters: {'h': 30, 'learning_rate': 0.0023493067735399077}. Best is trial 32 with value: -0.59875.\n"
     ]
    },
    {
     "name": "stdout",
     "output_type": "stream",
     "text": [
      "Validation completed for epoch 5\n",
      "Validation accuracy for epoch 5: 0.53125\n",
      "Validation time for this epoch: 0.4484579563140869\n"
     ]
    },
    {
     "name": "stderr",
     "output_type": "stream",
     "text": [
      "100%|███████████████████████████████████████| 1000/1000 [00:55<00:00, 17.95it/s]\n"
     ]
    },
    {
     "name": "stdout",
     "output_type": "stream",
     "text": [
      "Training completed for epoch 1\n",
      "Training accuracy for epoch 1: 0.30675\n",
      "Training time for this epoch: 55.71269202232361\n"
     ]
    },
    {
     "name": "stderr",
     "output_type": "stream",
     "text": [
      "100%|██████████████████████████████████████████| 50/50 [00:00<00:00, 113.37it/s]\n"
     ]
    },
    {
     "name": "stdout",
     "output_type": "stream",
     "text": [
      "Validation completed for epoch 1\n",
      "Validation accuracy for epoch 1: 0.18875\n",
      "Validation time for this epoch: 0.4437401294708252\n"
     ]
    },
    {
     "name": "stderr",
     "output_type": "stream",
     "text": [
      "100%|███████████████████████████████████████| 1000/1000 [00:54<00:00, 18.24it/s]\n"
     ]
    },
    {
     "name": "stdout",
     "output_type": "stream",
     "text": [
      "Training completed for epoch 2\n",
      "Training accuracy for epoch 2: 0.3825\n",
      "Training time for this epoch: 54.8290057182312\n"
     ]
    },
    {
     "name": "stderr",
     "output_type": "stream",
     "text": [
      "100%|██████████████████████████████████████████| 50/50 [00:00<00:00, 109.22it/s]\n"
     ]
    },
    {
     "name": "stdout",
     "output_type": "stream",
     "text": [
      "Validation completed for epoch 2\n",
      "Validation accuracy for epoch 2: 0.2575\n",
      "Validation time for this epoch: 0.45952892303466797\n"
     ]
    },
    {
     "name": "stderr",
     "output_type": "stream",
     "text": [
      "100%|███████████████████████████████████████| 1000/1000 [00:55<00:00, 17.98it/s]\n"
     ]
    },
    {
     "name": "stdout",
     "output_type": "stream",
     "text": [
      "Training completed for epoch 3\n",
      "Training accuracy for epoch 3: 0.4176875\n",
      "Training time for this epoch: 55.61165690422058\n"
     ]
    },
    {
     "name": "stderr",
     "output_type": "stream",
     "text": [
      "100%|███████████████████████████████████████████| 50/50 [00:00<00:00, 68.25it/s]\n"
     ]
    },
    {
     "name": "stdout",
     "output_type": "stream",
     "text": [
      "Validation completed for epoch 3\n",
      "Validation accuracy for epoch 3: 0.3025\n",
      "Validation time for this epoch: 0.7355082035064697\n"
     ]
    },
    {
     "name": "stderr",
     "output_type": "stream",
     "text": [
      "100%|███████████████████████████████████████| 1000/1000 [00:52<00:00, 18.99it/s]\n"
     ]
    },
    {
     "name": "stdout",
     "output_type": "stream",
     "text": [
      "Training completed for epoch 4\n",
      "Training accuracy for epoch 4: 0.4425\n",
      "Training time for this epoch: 52.66879200935364\n"
     ]
    },
    {
     "name": "stderr",
     "output_type": "stream",
     "text": [
      "100%|███████████████████████████████████████████| 50/50 [00:00<00:00, 84.66it/s]\n"
     ]
    },
    {
     "name": "stdout",
     "output_type": "stream",
     "text": [
      "Validation completed for epoch 4\n",
      "Validation accuracy for epoch 4: 0.30375\n",
      "Validation time for this epoch: 0.5935301780700684\n"
     ]
    },
    {
     "name": "stderr",
     "output_type": "stream",
     "text": [
      "100%|███████████████████████████████████████| 1000/1000 [00:51<00:00, 19.25it/s]\n"
     ]
    },
    {
     "name": "stdout",
     "output_type": "stream",
     "text": [
      "Training completed for epoch 5\n",
      "Training accuracy for epoch 5: 0.4681875\n",
      "Training time for this epoch: 51.96875190734863\n"
     ]
    },
    {
     "name": "stderr",
     "output_type": "stream",
     "text": [
      "100%|███████████████████████████████████████████| 50/50 [00:00<00:00, 84.85it/s]\n",
      "[I 2023-11-08 02:23:38,161] Trial 40 finished with value: -0.35125 and parameters: {'h': 34, 'learning_rate': 0.0008173272209926695}. Best is trial 32 with value: -0.59875.\n"
     ]
    },
    {
     "name": "stdout",
     "output_type": "stream",
     "text": [
      "Validation completed for epoch 5\n",
      "Validation accuracy for epoch 5: 0.35125\n",
      "Validation time for this epoch: 0.6000020503997803\n"
     ]
    },
    {
     "name": "stderr",
     "output_type": "stream",
     "text": [
      "100%|███████████████████████████████████████| 1000/1000 [00:47<00:00, 21.01it/s]\n"
     ]
    },
    {
     "name": "stdout",
     "output_type": "stream",
     "text": [
      "Training completed for epoch 1\n",
      "Training accuracy for epoch 1: 0.40825\n",
      "Training time for this epoch: 47.617408990859985\n"
     ]
    },
    {
     "name": "stderr",
     "output_type": "stream",
     "text": [
      "100%|███████████████████████████████████████████| 50/50 [00:00<00:00, 99.07it/s]\n"
     ]
    },
    {
     "name": "stdout",
     "output_type": "stream",
     "text": [
      "Validation completed for epoch 1\n",
      "Validation accuracy for epoch 1: 0.50625\n",
      "Validation time for this epoch: 0.5064311027526855\n"
     ]
    },
    {
     "name": "stderr",
     "output_type": "stream",
     "text": [
      "100%|███████████████████████████████████████| 1000/1000 [00:39<00:00, 25.51it/s]\n"
     ]
    },
    {
     "name": "stdout",
     "output_type": "stream",
     "text": [
      "Training completed for epoch 2\n",
      "Training accuracy for epoch 2: 0.5101875\n",
      "Training time for this epoch: 39.21338891983032\n"
     ]
    },
    {
     "name": "stderr",
     "output_type": "stream",
     "text": [
      "100%|██████████████████████████████████████████| 50/50 [00:00<00:00, 130.83it/s]\n"
     ]
    },
    {
     "name": "stdout",
     "output_type": "stream",
     "text": [
      "Validation completed for epoch 2\n",
      "Validation accuracy for epoch 2: 0.5725\n",
      "Validation time for this epoch: 0.38350582122802734\n"
     ]
    },
    {
     "name": "stderr",
     "output_type": "stream",
     "text": [
      "100%|███████████████████████████████████████| 1000/1000 [00:41<00:00, 24.09it/s]\n"
     ]
    },
    {
     "name": "stdout",
     "output_type": "stream",
     "text": [
      "Training completed for epoch 3\n",
      "Training accuracy for epoch 3: 0.55825\n",
      "Training time for this epoch: 41.522708892822266\n"
     ]
    },
    {
     "name": "stderr",
     "output_type": "stream",
     "text": [
      "100%|██████████████████████████████████████████| 50/50 [00:00<00:00, 115.30it/s]\n"
     ]
    },
    {
     "name": "stdout",
     "output_type": "stream",
     "text": [
      "Validation completed for epoch 3\n",
      "Validation accuracy for epoch 3: 0.45875\n",
      "Validation time for this epoch: 0.4352381229400635\n"
     ]
    },
    {
     "name": "stderr",
     "output_type": "stream",
     "text": [
      "100%|███████████████████████████████████████| 1000/1000 [00:40<00:00, 24.81it/s]\n"
     ]
    },
    {
     "name": "stdout",
     "output_type": "stream",
     "text": [
      "Training completed for epoch 4\n",
      "Training accuracy for epoch 4: 0.5843125\n",
      "Training time for this epoch: 40.30899500846863\n"
     ]
    },
    {
     "name": "stderr",
     "output_type": "stream",
     "text": [
      "100%|███████████████████████████████████████████| 50/50 [00:00<00:00, 97.74it/s]\n"
     ]
    },
    {
     "name": "stdout",
     "output_type": "stream",
     "text": [
      "Validation completed for epoch 4\n",
      "Validation accuracy for epoch 4: 0.55875\n",
      "Validation time for this epoch: 0.5137948989868164\n"
     ]
    },
    {
     "name": "stderr",
     "output_type": "stream",
     "text": [
      "100%|███████████████████████████████████████| 1000/1000 [00:44<00:00, 22.36it/s]\n"
     ]
    },
    {
     "name": "stdout",
     "output_type": "stream",
     "text": [
      "Training completed for epoch 5\n",
      "Training accuracy for epoch 5: 0.6115625\n",
      "Training time for this epoch: 44.738576889038086\n"
     ]
    },
    {
     "name": "stderr",
     "output_type": "stream",
     "text": [
      "100%|██████████████████████████████████████████| 50/50 [00:00<00:00, 108.09it/s]\n",
      "[I 2023-11-08 02:27:13,912] Trial 41 finished with value: -0.53625 and parameters: {'h': 30, 'learning_rate': 0.006609661406047421}. Best is trial 32 with value: -0.59875.\n"
     ]
    },
    {
     "name": "stdout",
     "output_type": "stream",
     "text": [
      "Validation completed for epoch 5\n",
      "Validation accuracy for epoch 5: 0.53625\n",
      "Validation time for this epoch: 0.4646949768066406\n"
     ]
    },
    {
     "name": "stderr",
     "output_type": "stream",
     "text": [
      "100%|███████████████████████████████████████| 1000/1000 [01:00<00:00, 16.46it/s]\n"
     ]
    },
    {
     "name": "stdout",
     "output_type": "stream",
     "text": [
      "Training completed for epoch 1\n",
      "Training accuracy for epoch 1: 0.3918125\n",
      "Training time for this epoch: 60.76882195472717\n"
     ]
    },
    {
     "name": "stderr",
     "output_type": "stream",
     "text": [
      "100%|██████████████████████████████████████████| 50/50 [00:00<00:00, 108.63it/s]\n"
     ]
    },
    {
     "name": "stdout",
     "output_type": "stream",
     "text": [
      "Validation completed for epoch 1\n",
      "Validation accuracy for epoch 1: 0.54\n",
      "Validation time for this epoch: 0.461820125579834\n"
     ]
    },
    {
     "name": "stderr",
     "output_type": "stream",
     "text": [
      "100%|███████████████████████████████████████| 1000/1000 [00:57<00:00, 17.42it/s]\n"
     ]
    },
    {
     "name": "stdout",
     "output_type": "stream",
     "text": [
      "Training completed for epoch 2\n",
      "Training accuracy for epoch 2: 0.5150625\n",
      "Training time for this epoch: 57.40194129943848\n"
     ]
    },
    {
     "name": "stderr",
     "output_type": "stream",
     "text": [
      "100%|██████████████████████████████████████████| 50/50 [00:00<00:00, 108.80it/s]\n"
     ]
    },
    {
     "name": "stdout",
     "output_type": "stream",
     "text": [
      "Validation completed for epoch 2\n",
      "Validation accuracy for epoch 2: 0.46625\n",
      "Validation time for this epoch: 0.4630401134490967\n"
     ]
    },
    {
     "name": "stderr",
     "output_type": "stream",
     "text": [
      "100%|███████████████████████████████████████| 1000/1000 [00:50<00:00, 19.71it/s]\n"
     ]
    },
    {
     "name": "stdout",
     "output_type": "stream",
     "text": [
      "Training completed for epoch 3\n",
      "Training accuracy for epoch 3: 0.552625\n",
      "Training time for this epoch: 50.74980306625366\n"
     ]
    },
    {
     "name": "stderr",
     "output_type": "stream",
     "text": [
      "100%|██████████████████████████████████████████| 50/50 [00:00<00:00, 104.39it/s]\n"
     ]
    },
    {
     "name": "stdout",
     "output_type": "stream",
     "text": [
      "Validation completed for epoch 3\n",
      "Validation accuracy for epoch 3: 0.48875\n",
      "Validation time for this epoch: 0.49941563606262207\n"
     ]
    },
    {
     "name": "stderr",
     "output_type": "stream",
     "text": [
      "100%|███████████████████████████████████████| 1000/1000 [00:48<00:00, 20.62it/s]\n"
     ]
    },
    {
     "name": "stdout",
     "output_type": "stream",
     "text": [
      "Training completed for epoch 4\n",
      "Training accuracy for epoch 4: 0.59\n",
      "Training time for this epoch: 48.52097988128662\n"
     ]
    },
    {
     "name": "stderr",
     "output_type": "stream",
     "text": [
      "100%|██████████████████████████████████████████| 50/50 [00:00<00:00, 102.78it/s]\n"
     ]
    },
    {
     "name": "stdout",
     "output_type": "stream",
     "text": [
      "Validation completed for epoch 4\n",
      "Validation accuracy for epoch 4: 0.565\n",
      "Validation time for this epoch: 0.4882969856262207\n"
     ]
    },
    {
     "name": "stderr",
     "output_type": "stream",
     "text": [
      "100%|███████████████████████████████████████| 1000/1000 [00:47<00:00, 21.23it/s]\n"
     ]
    },
    {
     "name": "stdout",
     "output_type": "stream",
     "text": [
      "Training completed for epoch 5\n",
      "Training accuracy for epoch 5: 0.615375\n",
      "Training time for this epoch: 47.12316012382507\n"
     ]
    },
    {
     "name": "stderr",
     "output_type": "stream",
     "text": [
      "100%|██████████████████████████████████████████| 50/50 [00:00<00:00, 105.83it/s]\n",
      "[I 2023-11-08 02:31:40,904] Trial 42 finished with value: -0.5025 and parameters: {'h': 38, 'learning_rate': 0.005922710075844649}. Best is trial 32 with value: -0.59875.\n"
     ]
    },
    {
     "name": "stdout",
     "output_type": "stream",
     "text": [
      "Validation completed for epoch 5\n",
      "Validation accuracy for epoch 5: 0.5025\n",
      "Validation time for this epoch: 0.47393107414245605\n"
     ]
    },
    {
     "name": "stderr",
     "output_type": "stream",
     "text": [
      "100%|███████████████████████████████████████| 1000/1000 [00:29<00:00, 34.16it/s]\n"
     ]
    },
    {
     "name": "stdout",
     "output_type": "stream",
     "text": [
      "Training completed for epoch 1\n",
      "Training accuracy for epoch 1: 0.3358125\n",
      "Training time for this epoch: 29.28058099746704\n"
     ]
    },
    {
     "name": "stderr",
     "output_type": "stream",
     "text": [
      "100%|██████████████████████████████████████████| 50/50 [00:00<00:00, 144.20it/s]\n"
     ]
    },
    {
     "name": "stdout",
     "output_type": "stream",
     "text": [
      "Validation completed for epoch 1\n",
      "Validation accuracy for epoch 1: 0.54375\n",
      "Validation time for this epoch: 0.34804821014404297\n"
     ]
    },
    {
     "name": "stderr",
     "output_type": "stream",
     "text": [
      "100%|███████████████████████████████████████| 1000/1000 [00:28<00:00, 34.80it/s]\n"
     ]
    },
    {
     "name": "stdout",
     "output_type": "stream",
     "text": [
      "Training completed for epoch 2\n",
      "Training accuracy for epoch 2: 0.4293125\n",
      "Training time for this epoch: 28.746219873428345\n"
     ]
    },
    {
     "name": "stderr",
     "output_type": "stream",
     "text": [
      "100%|██████████████████████████████████████████| 50/50 [00:00<00:00, 138.10it/s]\n"
     ]
    },
    {
     "name": "stdout",
     "output_type": "stream",
     "text": [
      "Validation completed for epoch 2\n",
      "Validation accuracy for epoch 2: 0.52\n",
      "Validation time for this epoch: 0.3633708953857422\n"
     ]
    },
    {
     "name": "stderr",
     "output_type": "stream",
     "text": [
      "100%|███████████████████████████████████████| 1000/1000 [00:28<00:00, 34.68it/s]\n"
     ]
    },
    {
     "name": "stdout",
     "output_type": "stream",
     "text": [
      "Training completed for epoch 3\n",
      "Training accuracy for epoch 3: 0.4594375\n",
      "Training time for this epoch: 28.852355241775513\n"
     ]
    },
    {
     "name": "stderr",
     "output_type": "stream",
     "text": [
      "100%|██████████████████████████████████████████| 50/50 [00:00<00:00, 139.79it/s]\n"
     ]
    },
    {
     "name": "stdout",
     "output_type": "stream",
     "text": [
      "Validation completed for epoch 3\n",
      "Validation accuracy for epoch 3: 0.59125\n",
      "Validation time for this epoch: 0.35926008224487305\n"
     ]
    },
    {
     "name": "stderr",
     "output_type": "stream",
     "text": [
      "100%|███████████████████████████████████████| 1000/1000 [00:28<00:00, 34.82it/s]\n"
     ]
    },
    {
     "name": "stdout",
     "output_type": "stream",
     "text": [
      "Training completed for epoch 4\n",
      "Training accuracy for epoch 4: 0.481875\n",
      "Training time for this epoch: 28.727065086364746\n"
     ]
    },
    {
     "name": "stderr",
     "output_type": "stream",
     "text": [
      "100%|██████████████████████████████████████████| 50/50 [00:00<00:00, 139.97it/s]\n"
     ]
    },
    {
     "name": "stdout",
     "output_type": "stream",
     "text": [
      "Validation completed for epoch 4\n",
      "Validation accuracy for epoch 4: 0.55375\n",
      "Validation time for this epoch: 0.358630895614624\n"
     ]
    },
    {
     "name": "stderr",
     "output_type": "stream",
     "text": [
      "100%|███████████████████████████████████████| 1000/1000 [00:34<00:00, 29.09it/s]\n"
     ]
    },
    {
     "name": "stdout",
     "output_type": "stream",
     "text": [
      "Training completed for epoch 5\n",
      "Training accuracy for epoch 5: 0.4941875\n",
      "Training time for this epoch: 34.390586137771606\n"
     ]
    },
    {
     "name": "stderr",
     "output_type": "stream",
     "text": [
      "100%|██████████████████████████████████████████| 50/50 [00:00<00:00, 120.96it/s]\n",
      "[I 2023-11-08 02:34:12,793] Trial 43 finished with value: -0.61125 and parameters: {'h': 26, 'learning_rate': 0.0028461674272294217}. Best is trial 43 with value: -0.61125.\n"
     ]
    },
    {
     "name": "stdout",
     "output_type": "stream",
     "text": [
      "Validation completed for epoch 5\n",
      "Validation accuracy for epoch 5: 0.61125\n",
      "Validation time for this epoch: 0.4153013229370117\n"
     ]
    },
    {
     "name": "stderr",
     "output_type": "stream",
     "text": [
      "100%|███████████████████████████████████████| 1000/1000 [00:38<00:00, 25.65it/s]\n"
     ]
    },
    {
     "name": "stdout",
     "output_type": "stream",
     "text": [
      "Training completed for epoch 1\n",
      "Training accuracy for epoch 1: 0.316375\n",
      "Training time for this epoch: 39.0146119594574\n"
     ]
    },
    {
     "name": "stderr",
     "output_type": "stream",
     "text": [
      "100%|██████████████████████████████████████████| 50/50 [00:00<00:00, 106.46it/s]\n"
     ]
    },
    {
     "name": "stdout",
     "output_type": "stream",
     "text": [
      "Validation completed for epoch 1\n",
      "Validation accuracy for epoch 1: 0.2925\n",
      "Validation time for this epoch: 0.47266101837158203\n"
     ]
    },
    {
     "name": "stderr",
     "output_type": "stream",
     "text": [
      "100%|███████████████████████████████████████| 1000/1000 [00:37<00:00, 26.58it/s]\n"
     ]
    },
    {
     "name": "stdout",
     "output_type": "stream",
     "text": [
      "Training completed for epoch 2\n",
      "Training accuracy for epoch 2: 0.39625\n",
      "Training time for this epoch: 37.64019012451172\n"
     ]
    },
    {
     "name": "stderr",
     "output_type": "stream",
     "text": [
      "100%|██████████████████████████████████████████| 50/50 [00:00<00:00, 117.94it/s]\n"
     ]
    },
    {
     "name": "stdout",
     "output_type": "stream",
     "text": [
      "Validation completed for epoch 2\n",
      "Validation accuracy for epoch 2: 0.36\n",
      "Validation time for this epoch: 0.42574501037597656\n"
     ]
    },
    {
     "name": "stderr",
     "output_type": "stream",
     "text": [
      "100%|███████████████████████████████████████| 1000/1000 [00:38<00:00, 25.80it/s]\n"
     ]
    },
    {
     "name": "stdout",
     "output_type": "stream",
     "text": [
      "Training completed for epoch 3\n",
      "Training accuracy for epoch 3: 0.430125\n",
      "Training time for this epoch: 38.767836809158325\n"
     ]
    },
    {
     "name": "stderr",
     "output_type": "stream",
     "text": [
      "100%|██████████████████████████████████████████| 50/50 [00:00<00:00, 113.96it/s]\n"
     ]
    },
    {
     "name": "stdout",
     "output_type": "stream",
     "text": [
      "Validation completed for epoch 3\n",
      "Validation accuracy for epoch 3: 0.36125\n",
      "Validation time for this epoch: 0.44135189056396484\n"
     ]
    },
    {
     "name": "stderr",
     "output_type": "stream",
     "text": [
      "100%|███████████████████████████████████████| 1000/1000 [00:40<00:00, 24.95it/s]\n"
     ]
    },
    {
     "name": "stdout",
     "output_type": "stream",
     "text": [
      "Training completed for epoch 4\n",
      "Training accuracy for epoch 4: 0.4535625\n",
      "Training time for this epoch: 40.08288908004761\n"
     ]
    },
    {
     "name": "stderr",
     "output_type": "stream",
     "text": [
      "100%|███████████████████████████████████████████| 50/50 [00:00<00:00, 90.75it/s]\n"
     ]
    },
    {
     "name": "stdout",
     "output_type": "stream",
     "text": [
      "Validation completed for epoch 4\n",
      "Validation accuracy for epoch 4: 0.39875\n",
      "Validation time for this epoch: 0.5527999401092529\n"
     ]
    },
    {
     "name": "stderr",
     "output_type": "stream",
     "text": [
      "100%|███████████████████████████████████████| 1000/1000 [00:40<00:00, 24.73it/s]\n"
     ]
    },
    {
     "name": "stdout",
     "output_type": "stream",
     "text": [
      "Training completed for epoch 5\n",
      "Training accuracy for epoch 5: 0.4788125\n",
      "Training time for this epoch: 40.45319700241089\n"
     ]
    },
    {
     "name": "stderr",
     "output_type": "stream",
     "text": [
      "100%|██████████████████████████████████████████| 50/50 [00:00<00:00, 152.69it/s]\n",
      "[I 2023-11-08 02:37:31,025] Trial 44 finished with value: -0.4075 and parameters: {'h': 27, 'learning_rate': 0.0030634597880598567}. Best is trial 43 with value: -0.61125.\n"
     ]
    },
    {
     "name": "stdout",
     "output_type": "stream",
     "text": [
      "Validation completed for epoch 5\n",
      "Validation accuracy for epoch 5: 0.4075\n",
      "Validation time for this epoch: 0.32883572578430176\n"
     ]
    },
    {
     "name": "stderr",
     "output_type": "stream",
     "text": [
      "100%|██████████████████████████████████████| 1000/1000 [00:08<00:00, 121.84it/s]\n"
     ]
    },
    {
     "name": "stdout",
     "output_type": "stream",
     "text": [
      "Training completed for epoch 1\n",
      "Training accuracy for epoch 1: 0.30325\n",
      "Training time for this epoch: 8.21529483795166\n"
     ]
    },
    {
     "name": "stderr",
     "output_type": "stream",
     "text": [
      "100%|██████████████████████████████████████████| 50/50 [00:00<00:00, 286.98it/s]\n"
     ]
    },
    {
     "name": "stdout",
     "output_type": "stream",
     "text": [
      "Validation completed for epoch 1\n",
      "Validation accuracy for epoch 1: 0.29125\n",
      "Validation time for this epoch: 0.17589306831359863\n"
     ]
    },
    {
     "name": "stderr",
     "output_type": "stream",
     "text": [
      "100%|██████████████████████████████████████| 1000/1000 [00:09<00:00, 103.64it/s]\n"
     ]
    },
    {
     "name": "stdout",
     "output_type": "stream",
     "text": [
      "Training completed for epoch 2\n",
      "Training accuracy for epoch 2: 0.365125\n",
      "Training time for this epoch: 9.658928871154785\n"
     ]
    },
    {
     "name": "stderr",
     "output_type": "stream",
     "text": [
      "100%|██████████████████████████████████████████| 50/50 [00:00<00:00, 232.89it/s]\n"
     ]
    },
    {
     "name": "stdout",
     "output_type": "stream",
     "text": [
      "Validation completed for epoch 2\n",
      "Validation accuracy for epoch 2: 0.26375\n",
      "Validation time for this epoch: 0.2161409854888916\n"
     ]
    },
    {
     "name": "stderr",
     "output_type": "stream",
     "text": [
      "100%|███████████████████████████████████████| 1000/1000 [00:10<00:00, 99.66it/s]\n"
     ]
    },
    {
     "name": "stdout",
     "output_type": "stream",
     "text": [
      "Training completed for epoch 3\n",
      "Training accuracy for epoch 3: 0.4075625\n",
      "Training time for this epoch: 10.0452139377594\n"
     ]
    },
    {
     "name": "stderr",
     "output_type": "stream",
     "text": [
      "100%|██████████████████████████████████████████| 50/50 [00:00<00:00, 135.94it/s]\n"
     ]
    },
    {
     "name": "stdout",
     "output_type": "stream",
     "text": [
      "Validation completed for epoch 3\n",
      "Validation accuracy for epoch 3: 0.275\n",
      "Validation time for this epoch: 0.371675968170166\n"
     ]
    },
    {
     "name": "stderr",
     "output_type": "stream",
     "text": [
      "100%|██████████████████████████████████████| 1000/1000 [00:09<00:00, 105.23it/s]\n"
     ]
    },
    {
     "name": "stdout",
     "output_type": "stream",
     "text": [
      "Training completed for epoch 4\n",
      "Training accuracy for epoch 4: 0.44275\n",
      "Training time for this epoch: 9.515184164047241\n"
     ]
    },
    {
     "name": "stderr",
     "output_type": "stream",
     "text": [
      "100%|██████████████████████████████████████████| 50/50 [00:00<00:00, 285.38it/s]\n"
     ]
    },
    {
     "name": "stdout",
     "output_type": "stream",
     "text": [
      "Validation completed for epoch 4\n",
      "Validation accuracy for epoch 4: 0.27875\n",
      "Validation time for this epoch: 0.17695307731628418\n"
     ]
    },
    {
     "name": "stderr",
     "output_type": "stream",
     "text": [
      "100%|███████████████████████████████████████| 1000/1000 [00:11<00:00, 86.86it/s]\n"
     ]
    },
    {
     "name": "stdout",
     "output_type": "stream",
     "text": [
      "Training completed for epoch 5\n",
      "Training accuracy for epoch 5: 0.463\n",
      "Training time for this epoch: 11.521794080734253\n"
     ]
    },
    {
     "name": "stderr",
     "output_type": "stream",
     "text": [
      "100%|██████████████████████████████████████████| 50/50 [00:00<00:00, 218.40it/s]\n",
      "[I 2023-11-08 02:38:21,190] Trial 45 finished with value: -0.36375 and parameters: {'h': 5, 'learning_rate': 0.0016656001238724977}. Best is trial 43 with value: -0.61125.\n"
     ]
    },
    {
     "name": "stdout",
     "output_type": "stream",
     "text": [
      "Validation completed for epoch 5\n",
      "Validation accuracy for epoch 5: 0.36375\n",
      "Validation time for this epoch: 0.23096776008605957\n"
     ]
    },
    {
     "name": "stderr",
     "output_type": "stream",
     "text": [
      "100%|███████████████████████████████████████| 1000/1000 [00:45<00:00, 21.90it/s]\n"
     ]
    },
    {
     "name": "stdout",
     "output_type": "stream",
     "text": [
      "Training completed for epoch 1\n",
      "Training accuracy for epoch 1: 0.331375\n",
      "Training time for this epoch: 45.673375606536865\n"
     ]
    },
    {
     "name": "stderr",
     "output_type": "stream",
     "text": [
      "100%|██████████████████████████████████████████| 50/50 [00:00<00:00, 114.32it/s]\n"
     ]
    },
    {
     "name": "stdout",
     "output_type": "stream",
     "text": [
      "Validation completed for epoch 1\n",
      "Validation accuracy for epoch 1: 0.37375\n",
      "Validation time for this epoch: 0.440244197845459\n"
     ]
    },
    {
     "name": "stderr",
     "output_type": "stream",
     "text": [
      "100%|███████████████████████████████████████| 1000/1000 [00:43<00:00, 22.92it/s]\n"
     ]
    },
    {
     "name": "stdout",
     "output_type": "stream",
     "text": [
      "Training completed for epoch 2\n",
      "Training accuracy for epoch 2: 0.427875\n",
      "Training time for this epoch: 43.633488178253174\n"
     ]
    },
    {
     "name": "stderr",
     "output_type": "stream",
     "text": [
      "100%|██████████████████████████████████████████| 50/50 [00:00<00:00, 123.23it/s]\n"
     ]
    },
    {
     "name": "stdout",
     "output_type": "stream",
     "text": [
      "Validation completed for epoch 2\n",
      "Validation accuracy for epoch 2: 0.4275\n",
      "Validation time for this epoch: 0.407412052154541\n"
     ]
    },
    {
     "name": "stderr",
     "output_type": "stream",
     "text": [
      "100%|███████████████████████████████████████| 1000/1000 [00:45<00:00, 21.97it/s]\n"
     ]
    },
    {
     "name": "stdout",
     "output_type": "stream",
     "text": [
      "Training completed for epoch 3\n",
      "Training accuracy for epoch 3: 0.4690625\n",
      "Training time for this epoch: 45.522703886032104\n"
     ]
    },
    {
     "name": "stderr",
     "output_type": "stream",
     "text": [
      "100%|██████████████████████████████████████████| 50/50 [00:00<00:00, 131.07it/s]\n"
     ]
    },
    {
     "name": "stdout",
     "output_type": "stream",
     "text": [
      "Validation completed for epoch 3\n",
      "Validation accuracy for epoch 3: 0.4775\n",
      "Validation time for this epoch: 0.38321900367736816\n"
     ]
    },
    {
     "name": "stderr",
     "output_type": "stream",
     "text": [
      "100%|███████████████████████████████████████| 1000/1000 [00:49<00:00, 20.20it/s]\n"
     ]
    },
    {
     "name": "stdout",
     "output_type": "stream",
     "text": [
      "Training completed for epoch 4\n",
      "Training accuracy for epoch 4: 0.5041875\n",
      "Training time for this epoch: 49.5204553604126\n"
     ]
    },
    {
     "name": "stderr",
     "output_type": "stream",
     "text": [
      "100%|██████████████████████████████████████████| 50/50 [00:00<00:00, 116.71it/s]\n"
     ]
    },
    {
     "name": "stdout",
     "output_type": "stream",
     "text": [
      "Validation completed for epoch 4\n",
      "Validation accuracy for epoch 4: 0.50375\n",
      "Validation time for this epoch: 0.42991209030151367\n"
     ]
    },
    {
     "name": "stderr",
     "output_type": "stream",
     "text": [
      "100%|███████████████████████████████████████| 1000/1000 [00:46<00:00, 21.48it/s]\n"
     ]
    },
    {
     "name": "stdout",
     "output_type": "stream",
     "text": [
      "Training completed for epoch 5\n",
      "Training accuracy for epoch 5: 0.527875\n",
      "Training time for this epoch: 46.58143496513367\n"
     ]
    },
    {
     "name": "stderr",
     "output_type": "stream",
     "text": [
      "100%|██████████████████████████████████████████| 50/50 [00:00<00:00, 122.56it/s]\n",
      "[I 2023-11-08 02:42:14,248] Trial 46 finished with value: -0.53 and parameters: {'h': 31, 'learning_rate': 0.0004726445903664702}. Best is trial 43 with value: -0.61125.\n"
     ]
    },
    {
     "name": "stdout",
     "output_type": "stream",
     "text": [
      "Validation completed for epoch 5\n",
      "Validation accuracy for epoch 5: 0.53\n",
      "Validation time for this epoch: 0.40944790840148926\n"
     ]
    },
    {
     "name": "stderr",
     "output_type": "stream",
     "text": [
      "100%|███████████████████████████████████████| 1000/1000 [00:49<00:00, 20.07it/s]\n"
     ]
    },
    {
     "name": "stdout",
     "output_type": "stream",
     "text": [
      "Training completed for epoch 1\n",
      "Training accuracy for epoch 1: 0.269\n",
      "Training time for this epoch: 49.83524298667908\n"
     ]
    },
    {
     "name": "stderr",
     "output_type": "stream",
     "text": [
      "100%|██████████████████████████████████████████| 50/50 [00:00<00:00, 103.83it/s]\n"
     ]
    },
    {
     "name": "stdout",
     "output_type": "stream",
     "text": [
      "Validation completed for epoch 1\n",
      "Validation accuracy for epoch 1: 0.35875\n",
      "Validation time for this epoch: 0.4837357997894287\n"
     ]
    },
    {
     "name": "stderr",
     "output_type": "stream",
     "text": [
      "100%|███████████████████████████████████████| 1000/1000 [00:48<00:00, 20.67it/s]\n"
     ]
    },
    {
     "name": "stdout",
     "output_type": "stream",
     "text": [
      "Training completed for epoch 2\n",
      "Training accuracy for epoch 2: 0.3651875\n",
      "Training time for this epoch: 48.39489483833313\n"
     ]
    },
    {
     "name": "stderr",
     "output_type": "stream",
     "text": [
      "100%|██████████████████████████████████████████| 50/50 [00:00<00:00, 111.37it/s]\n"
     ]
    },
    {
     "name": "stdout",
     "output_type": "stream",
     "text": [
      "Validation completed for epoch 2\n",
      "Validation accuracy for epoch 2: 0.52375\n",
      "Validation time for this epoch: 0.45054006576538086\n"
     ]
    },
    {
     "name": "stderr",
     "output_type": "stream",
     "text": [
      "100%|███████████████████████████████████████| 1000/1000 [00:55<00:00, 18.13it/s]\n"
     ]
    },
    {
     "name": "stdout",
     "output_type": "stream",
     "text": [
      "Training completed for epoch 3\n",
      "Training accuracy for epoch 3: 0.400875\n",
      "Training time for this epoch: 55.16579794883728\n"
     ]
    },
    {
     "name": "stderr",
     "output_type": "stream",
     "text": [
      "100%|██████████████████████████████████████████| 50/50 [00:00<00:00, 107.00it/s]\n"
     ]
    },
    {
     "name": "stdout",
     "output_type": "stream",
     "text": [
      "Validation completed for epoch 3\n",
      "Validation accuracy for epoch 3: 0.45625\n",
      "Validation time for this epoch: 0.4688572883605957\n"
     ]
    },
    {
     "name": "stderr",
     "output_type": "stream",
     "text": [
      "100%|███████████████████████████████████████| 1000/1000 [00:42<00:00, 23.31it/s]\n"
     ]
    },
    {
     "name": "stdout",
     "output_type": "stream",
     "text": [
      "Training completed for epoch 4\n",
      "Training accuracy for epoch 4: 0.4173125\n",
      "Training time for this epoch: 42.9253249168396\n"
     ]
    },
    {
     "name": "stderr",
     "output_type": "stream",
     "text": [
      "100%|██████████████████████████████████████████| 50/50 [00:00<00:00, 124.74it/s]\n"
     ]
    },
    {
     "name": "stdout",
     "output_type": "stream",
     "text": [
      "Validation completed for epoch 4\n",
      "Validation accuracy for epoch 4: 0.45375\n",
      "Validation time for this epoch: 0.40230560302734375\n"
     ]
    },
    {
     "name": "stderr",
     "output_type": "stream",
     "text": [
      "100%|███████████████████████████████████████| 1000/1000 [00:49<00:00, 20.40it/s]\n"
     ]
    },
    {
     "name": "stdout",
     "output_type": "stream",
     "text": [
      "Training completed for epoch 5\n",
      "Training accuracy for epoch 5: 0.4304375\n",
      "Training time for this epoch: 49.03759789466858\n"
     ]
    },
    {
     "name": "stderr",
     "output_type": "stream",
     "text": [
      "100%|██████████████████████████████████████████| 50/50 [00:00<00:00, 109.31it/s]\n",
      "[I 2023-11-08 02:46:21,917] Trial 47 finished with value: -0.4925 and parameters: {'h': 33, 'learning_rate': 0.0009811108734887842}. Best is trial 43 with value: -0.61125.\n"
     ]
    },
    {
     "name": "stdout",
     "output_type": "stream",
     "text": [
      "Validation completed for epoch 5\n",
      "Validation accuracy for epoch 5: 0.4925\n",
      "Validation time for this epoch: 0.4592170715332031\n"
     ]
    },
    {
     "name": "stderr",
     "output_type": "stream",
     "text": [
      "100%|███████████████████████████████████████| 1000/1000 [01:11<00:00, 14.06it/s]\n"
     ]
    },
    {
     "name": "stdout",
     "output_type": "stream",
     "text": [
      "Training completed for epoch 1\n",
      "Training accuracy for epoch 1: 0.287\n",
      "Training time for this epoch: 71.14218807220459\n"
     ]
    },
    {
     "name": "stderr",
     "output_type": "stream",
     "text": [
      "100%|███████████████████████████████████████████| 50/50 [00:00<00:00, 80.72it/s]\n"
     ]
    },
    {
     "name": "stdout",
     "output_type": "stream",
     "text": [
      "Validation completed for epoch 1\n",
      "Validation accuracy for epoch 1: 0.3125\n",
      "Validation time for this epoch: 0.6212141513824463\n"
     ]
    },
    {
     "name": "stderr",
     "output_type": "stream",
     "text": [
      "100%|███████████████████████████████████████| 1000/1000 [01:09<00:00, 14.34it/s]\n"
     ]
    },
    {
     "name": "stdout",
     "output_type": "stream",
     "text": [
      "Training completed for epoch 2\n",
      "Training accuracy for epoch 2: 0.3674375\n",
      "Training time for this epoch: 69.7252938747406\n"
     ]
    },
    {
     "name": "stderr",
     "output_type": "stream",
     "text": [
      "100%|███████████████████████████████████████████| 50/50 [00:00<00:00, 77.09it/s]\n"
     ]
    },
    {
     "name": "stdout",
     "output_type": "stream",
     "text": [
      "Validation completed for epoch 2\n",
      "Validation accuracy for epoch 2: 0.29125\n",
      "Validation time for this epoch: 0.6532490253448486\n"
     ]
    },
    {
     "name": "stderr",
     "output_type": "stream",
     "text": [
      "100%|███████████████████████████████████████| 1000/1000 [01:06<00:00, 15.10it/s]\n"
     ]
    },
    {
     "name": "stdout",
     "output_type": "stream",
     "text": [
      "Training completed for epoch 3\n",
      "Training accuracy for epoch 3: 0.4119375\n",
      "Training time for this epoch: 66.24387097358704\n"
     ]
    },
    {
     "name": "stderr",
     "output_type": "stream",
     "text": [
      "100%|███████████████████████████████████████████| 50/50 [00:00<00:00, 84.28it/s]\n"
     ]
    },
    {
     "name": "stdout",
     "output_type": "stream",
     "text": [
      "Validation completed for epoch 3\n",
      "Validation accuracy for epoch 3: 0.32\n",
      "Validation time for this epoch: 0.5959429740905762\n"
     ]
    },
    {
     "name": "stderr",
     "output_type": "stream",
     "text": [
      "100%|███████████████████████████████████████| 1000/1000 [01:10<00:00, 14.17it/s]\n"
     ]
    },
    {
     "name": "stdout",
     "output_type": "stream",
     "text": [
      "Training completed for epoch 4\n",
      "Training accuracy for epoch 4: 0.49025\n",
      "Training time for this epoch: 70.60710501670837\n"
     ]
    },
    {
     "name": "stderr",
     "output_type": "stream",
     "text": [
      "100%|██████████████████████████████████████████| 50/50 [00:00<00:00, 103.79it/s]\n"
     ]
    },
    {
     "name": "stdout",
     "output_type": "stream",
     "text": [
      "Validation completed for epoch 4\n",
      "Validation accuracy for epoch 4: 0.3425\n",
      "Validation time for this epoch: 0.4841461181640625\n"
     ]
    },
    {
     "name": "stderr",
     "output_type": "stream",
     "text": [
      "100%|███████████████████████████████████████| 1000/1000 [00:51<00:00, 19.42it/s]\n"
     ]
    },
    {
     "name": "stdout",
     "output_type": "stream",
     "text": [
      "Training completed for epoch 5\n",
      "Training accuracy for epoch 5: 0.526\n",
      "Training time for this epoch: 51.520386695861816\n"
     ]
    },
    {
     "name": "stderr",
     "output_type": "stream",
     "text": [
      "100%|██████████████████████████████████████████| 50/50 [00:00<00:00, 105.10it/s]\n",
      "[I 2023-11-08 02:51:54,028] Trial 48 finished with value: -0.44625 and parameters: {'h': 40, 'learning_rate': 0.0024483818606502255}. Best is trial 43 with value: -0.61125.\n"
     ]
    },
    {
     "name": "stdout",
     "output_type": "stream",
     "text": [
      "Validation completed for epoch 5\n",
      "Validation accuracy for epoch 5: 0.44625\n",
      "Validation time for this epoch: 0.47719621658325195\n"
     ]
    },
    {
     "name": "stderr",
     "output_type": "stream",
     "text": [
      "100%|███████████████████████████████████████| 1000/1000 [00:28<00:00, 34.62it/s]\n"
     ]
    },
    {
     "name": "stdout",
     "output_type": "stream",
     "text": [
      "Training completed for epoch 1\n",
      "Training accuracy for epoch 1: 0.403625\n",
      "Training time for this epoch: 28.89588212966919\n"
     ]
    },
    {
     "name": "stderr",
     "output_type": "stream",
     "text": [
      "100%|██████████████████████████████████████████| 50/50 [00:00<00:00, 139.55it/s]\n"
     ]
    },
    {
     "name": "stdout",
     "output_type": "stream",
     "text": [
      "Validation completed for epoch 1\n",
      "Validation accuracy for epoch 1: 0.4625\n",
      "Validation time for this epoch: 0.35960984230041504\n"
     ]
    },
    {
     "name": "stderr",
     "output_type": "stream",
     "text": [
      "100%|███████████████████████████████████████| 1000/1000 [00:30<00:00, 32.97it/s]\n"
     ]
    },
    {
     "name": "stdout",
     "output_type": "stream",
     "text": [
      "Training completed for epoch 2\n",
      "Training accuracy for epoch 2: 0.515125\n",
      "Training time for this epoch: 30.339169025421143\n"
     ]
    },
    {
     "name": "stderr",
     "output_type": "stream",
     "text": [
      "100%|██████████████████████████████████████████| 50/50 [00:00<00:00, 136.06it/s]\n"
     ]
    },
    {
     "name": "stdout",
     "output_type": "stream",
     "text": [
      "Validation completed for epoch 2\n",
      "Validation accuracy for epoch 2: 0.39625\n",
      "Validation time for this epoch: 0.36885786056518555\n"
     ]
    },
    {
     "name": "stderr",
     "output_type": "stream",
     "text": [
      "100%|███████████████████████████████████████| 1000/1000 [00:31<00:00, 31.49it/s]\n"
     ]
    },
    {
     "name": "stdout",
     "output_type": "stream",
     "text": [
      "Training completed for epoch 3\n",
      "Training accuracy for epoch 3: 0.56275\n",
      "Training time for this epoch: 31.76777482032776\n"
     ]
    },
    {
     "name": "stderr",
     "output_type": "stream",
     "text": [
      "100%|██████████████████████████████████████████| 50/50 [00:00<00:00, 147.84it/s]\n"
     ]
    },
    {
     "name": "stdout",
     "output_type": "stream",
     "text": [
      "Validation completed for epoch 3\n",
      "Validation accuracy for epoch 3: 0.49375\n",
      "Validation time for this epoch: 0.339832067489624\n"
     ]
    },
    {
     "name": "stderr",
     "output_type": "stream",
     "text": [
      "100%|███████████████████████████████████████| 1000/1000 [00:30<00:00, 32.77it/s]\n"
     ]
    },
    {
     "name": "stdout",
     "output_type": "stream",
     "text": [
      "Training completed for epoch 4\n",
      "Training accuracy for epoch 4: 0.5886875\n",
      "Training time for this epoch: 30.528583765029907\n"
     ]
    },
    {
     "name": "stderr",
     "output_type": "stream",
     "text": [
      "100%|██████████████████████████████████████████| 50/50 [00:00<00:00, 158.83it/s]\n"
     ]
    },
    {
     "name": "stdout",
     "output_type": "stream",
     "text": [
      "Validation completed for epoch 4\n",
      "Validation accuracy for epoch 4: 0.58375\n",
      "Validation time for this epoch: 0.31621694564819336\n"
     ]
    },
    {
     "name": "stderr",
     "output_type": "stream",
     "text": [
      "100%|███████████████████████████████████████| 1000/1000 [00:28<00:00, 34.67it/s]\n"
     ]
    },
    {
     "name": "stdout",
     "output_type": "stream",
     "text": [
      "Training completed for epoch 5\n",
      "Training accuracy for epoch 5: 0.610875\n",
      "Training time for this epoch: 28.85438895225525\n"
     ]
    },
    {
     "name": "stderr",
     "output_type": "stream",
     "text": [
      "100%|██████████████████████████████████████████| 50/50 [00:00<00:00, 146.48it/s]\n",
      "[I 2023-11-08 02:54:26,198] Trial 49 finished with value: -0.5375 and parameters: {'h': 26, 'learning_rate': 0.004788876826501165}. Best is trial 43 with value: -0.61125.\n"
     ]
    },
    {
     "name": "stdout",
     "output_type": "stream",
     "text": [
      "Validation completed for epoch 5\n",
      "Validation accuracy for epoch 5: 0.5375\n",
      "Validation time for this epoch: 0.3429250717163086\n",
      "Best hidden layer size: 26\n",
      "Best learning rate: 0.0028461674272294217\n"
     ]
    },
    {
     "name": "stderr",
     "output_type": "stream",
     "text": [
      "  0%|                                                    | 0/50 [00:00<?, ?it/s]\n"
     ]
    },
    {
     "ename": "NameError",
     "evalue": "name 'optimizer' is not defined",
     "output_type": "error",
     "traceback": [
      "\u001b[0;31m---------------------------------------------------------------------------\u001b[0m",
      "\u001b[0;31mNameError\u001b[0m                                 Traceback (most recent call last)",
      "Cell \u001b[0;32mIn [2], line 190\u001b[0m\n\u001b[1;32m    187\u001b[0m N \u001b[38;5;241m=\u001b[39m \u001b[38;5;28mlen\u001b[39m(test_data)\n\u001b[1;32m    189\u001b[0m \u001b[38;5;28;01mfor\u001b[39;00m minibatch_index \u001b[38;5;129;01min\u001b[39;00m tqdm(\u001b[38;5;28mrange\u001b[39m(N \u001b[38;5;241m/\u001b[39m\u001b[38;5;241m/\u001b[39m minibatch_size)):\n\u001b[0;32m--> 190\u001b[0m     \u001b[43moptimizer\u001b[49m\u001b[38;5;241m.\u001b[39mzero_grad()\n\u001b[1;32m    191\u001b[0m     loss \u001b[38;5;241m=\u001b[39m \u001b[38;5;28;01mNone\u001b[39;00m\n\u001b[1;32m    193\u001b[0m     \u001b[38;5;28;01mfor\u001b[39;00m example_index \u001b[38;5;129;01min\u001b[39;00m \u001b[38;5;28mrange\u001b[39m(minibatch_size):\n",
      "\u001b[0;31mNameError\u001b[0m: name 'optimizer' is not defined"
     ]
    }
   ],
   "source": [
    "import numpy as np\n",
    "import torch\n",
    "import torch.nn as nn\n",
    "import torch.optim as optim\n",
    "import time\n",
    "from tqdm import tqdm\n",
    "import json\n",
    "import random\n",
    "import optuna\n",
    "\n",
    "unk = '<UNK>'\n",
    "\n",
    "class FFNN(nn.Module):\n",
    "    \n",
    "    def __init__(self, input_dim, h):\n",
    "        super(FFNN, self).__init__()\n",
    "        self.h = h\n",
    "        self.W1 = nn.Linear(input_dim, h)\n",
    "        self.activation = nn.ReLU()\n",
    "        self.output_dim = 5\n",
    "        self.W2 = nn.Linear(h, self.output_dim)\n",
    "\n",
    "        self.softmax = nn.LogSoftmax()\n",
    "        self.loss = nn.NLLLoss()\n",
    "\n",
    "    def compute_Loss(self, predicted_vector, gold_label):\n",
    "        return self.loss(predicted_vector, gold_label)\n",
    "\n",
    "    def forward(self, input_vector):\n",
    "        hidden_layer1 = self.W1(input_vector)\n",
    "        hidden_layer1 = self.activation(hidden_layer1)\n",
    "        hidden_layer2 = self.W2(hidden_layer1)\n",
    "        hidden_layer2 = self.activation(hidden_layer2)\n",
    "        predicted_vector = self.softmax(hidden_layer2)\n",
    "        return predicted_vector\n",
    "\n",
    "def make_vocab(data):\n",
    "    vocab = set()\n",
    "    for document, _ in data:\n",
    "        for word in document:\n",
    "            vocab.add(word)\n",
    "    return vocab\n",
    "\n",
    "def make_indices(vocab):\n",
    "    vocab_list = sorted(vocab)\n",
    "    vocab_list.append(unk)\n",
    "    word2index = {}\n",
    "    index2word = {}\n",
    "    for index, word in enumerate(vocab_list):\n",
    "        word2index[word] = index\n",
    "        index2word[index] = word\n",
    "    vocab.add(unk)\n",
    "    return vocab, word2index, index2word\n",
    "\n",
    "def convert_to_vector_representation(data, word2index):\n",
    "    vectorized_data = []\n",
    "    for document, y in data:\n",
    "        vector = torch.zeros(len(word2index))\n",
    "        for word in document:\n",
    "            index = word2index.get(word, word2index[unk])\n",
    "            vector[index] += 1\n",
    "        vectorized_data.append((vector, y))\n",
    "    return vectorized_data\n",
    "\n",
    "def load_data(train_data, val_data):\n",
    "    with open(train_data) as training_f:\n",
    "        training = json.load(training_f)\n",
    "    with open(val_data) as valid_f:\n",
    "        validation = json.load(valid_f)\n",
    "\n",
    "    tra = []\n",
    "    val = []\n",
    "    for elt in training:\n",
    "        tra.append((elt[\"text\"].split(), int(elt[\"stars\"] - 1)))\n",
    "    for elt in validation:\n",
    "        val.append((elt[\"text\"].split(), int(elt[\"stars\"] - 1)))\n",
    "\n",
    "    return tra, val\n",
    "\n",
    "if __name__ == \"__main__\":\n",
    "    \n",
    "    random.seed(42)\n",
    "    torch.manual_seed(42)\n",
    "\n",
    "    train_data, valid_data = load_data(\"training.json\", \"validation.json\")\n",
    "    train_data, test_data = load_data(\"training.json\", \"test.json\")\n",
    "    vocab = make_vocab(train_data)\n",
    "    vocab, word2index, index2word = make_indices(vocab)\n",
    "\n",
    "    train_data = convert_to_vector_representation(train_data, word2index)\n",
    "    valid_data = convert_to_vector_representation(valid_data, word2index)\n",
    "\n",
    "    def objective(trial):\n",
    "        h = trial.suggest_int('h', 5, 50)\n",
    "        learning_rate = trial.suggest_loguniform('learning_rate', 1e-5, 1e-1)\n",
    "\n",
    "        model = FFNN(input_dim=len(vocab), h=h)\n",
    "        optimizer = optim.SGD(model.parameters(), lr=learning_rate, momentum=0.9)\n",
    "\n",
    "        for epoch in range(5):\n",
    "            model.train()\n",
    "            optimizer.zero_grad()\n",
    "            loss = None\n",
    "            correct = 0\n",
    "            total = 0\n",
    "            start_time = time.time()\n",
    "\n",
    "            random.shuffle(train_data)\n",
    "            minibatch_size = 16\n",
    "            N = len(train_data)\n",
    "\n",
    "            for minibatch_index in tqdm(range(N // minibatch_size)):\n",
    "                optimizer.zero_grad()\n",
    "                loss = None\n",
    "\n",
    "                for example_index in range(minibatch_size):\n",
    "                    input_vector, gold_label = train_data[minibatch_index * minibatch_size + example_index]\n",
    "                    predicted_vector = model(input_vector)\n",
    "                    predicted_label = torch.argmax(predicted_vector)\n",
    "                    correct += int(predicted_label == gold_label)\n",
    "                    total += 1\n",
    "                    example_loss = model.compute_Loss(predicted_vector.view(1, -1), torch.tensor([gold_label]))\n",
    "\n",
    "                    if loss is None:\n",
    "                        loss = example_loss\n",
    "                    else:\n",
    "                        loss += example_loss\n",
    "\n",
    "                loss = loss / minibatch_size\n",
    "                loss.backward()\n",
    "                optimizer.step()\n",
    "\n",
    "            print(\"Training completed for epoch {}\".format(epoch + 1))\n",
    "            print(\"Training accuracy for epoch {}: {}\".format(epoch + 1, correct / total))\n",
    "            print(\"Training time for this epoch: {}\".format(time.time() - start_time))\n",
    "\n",
    "            loss = None\n",
    "            correct = 0\n",
    "            total = 0\n",
    "            start_time = time.time()\n",
    "\n",
    "            minibatch_size = 16\n",
    "            N = len(valid_data)\n",
    "\n",
    "            for minibatch_index in tqdm(range(N // minibatch_size)):\n",
    "                optimizer.zero_grad()\n",
    "                loss = None\n",
    "\n",
    "                for example_index in range(minibatch_size):\n",
    "                    input_vector, gold_label = valid_data[minibatch_index * minibatch_size + example_index]\n",
    "                    predicted_vector = model(input_vector)\n",
    "                    predicted_label = torch.argmax(predicted_vector)\n",
    "                    correct += int(predicted_label == gold_label)\n",
    "                    total += 1\n",
    "                    example_loss = model.compute_Loss(predicted_vector.view(1, -1), torch.tensor([gold_label]))\n",
    "\n",
    "                    if loss is None:\n",
    "                        loss = example_loss\n",
    "                    else:\n",
    "                        loss += example_loss\n",
    "\n",
    "                loss = loss / minibatch_size\n",
    "\n",
    "            print(\"Validation completed for epoch {}\".format(epoch + 1))\n",
    "            print(\"Validation accuracy for epoch {}: {}\".format(epoch + 1, correct / total))\n",
    "            print(\"Validation time for this epoch: {}\".format(time.time() - start_time))\n",
    "\n",
    "        validation_accuracy = correct / total\n",
    "        return -validation_accuracy\n",
    "\n",
    "    study = optuna.create_study(direction='minimize')\n",
    "    study.optimize(objective, n_trials=50)\n",
    "\n",
    "    best_h = study.best_params['h']\n",
    "    best_learning_rate = study.best_params['learning_rate']\n",
    "    print(f\"Best hidden layer size: {best_h}\")\n",
    "    print(f\"Best learning rate: {best_learning_rate}\")\n",
    "\n",
    "    best_model = FFNN(input_dim=len(vocab), h=best_h)\n",
    "    best_optimizer = optim.SGD(best_model.parameters(), lr=best_learning_rate, momentum=0.9)\n",
    "\n",
    "    loss = None\n",
    "    correct = 0\n",
    "    total = 0\n",
    "    start_time = time.time()\n",
    "    minibatch_size = 16\n",
    "    N = len(test_data)\n",
    "\n",
    "    for minibatch_index in tqdm(range(N // minibatch_size)):\n",
    "        optimizer.zero_grad()\n",
    "        loss = None\n",
    "\n",
    "        for example_index in range(minibatch_size):\n",
    "            input_vector, gold_label = valid_data[minibatch_index * minibatch_size + example_index]\n",
    "            predicted_vector = best_model(input_vector)\n",
    "            predicted_label = torch.argmax(predicted_vector)\n",
    "            correct += int(predicted_label == gold_label)\n",
    "            total += 1\n",
    "            example_loss = best_model.compute_Loss(predicted_vector.view(1, -1), torch.tensor([gold_label]))\n",
    "\n",
    "            if loss is None:\n",
    "                loss = example_loss\n",
    "            else:\n",
    "                loss += example_loss\n",
    "\n",
    "        loss = loss / minibatch_size\n",
    "\n",
    "    print(\"\\nTest completed\")\n",
    "    print(\"Test accuracy: {}\".format(correct / total))\n",
    "    print(\"Test time: {}\".format(time.time() - start_time))\n"
   ]
  },
  {
   "cell_type": "code",
   "execution_count": null,
   "id": "2bb20898",
   "metadata": {},
   "outputs": [],
   "source": []
  }
 ],
 "metadata": {
  "kernelspec": {
   "display_name": "Python 3 (ipykernel)",
   "language": "python",
   "name": "python3"
  },
  "language_info": {
   "codemirror_mode": {
    "name": "ipython",
    "version": 3
   },
   "file_extension": ".py",
   "mimetype": "text/x-python",
   "name": "python",
   "nbconvert_exporter": "python",
   "pygments_lexer": "ipython3",
   "version": "3.8.15"
  }
 },
 "nbformat": 4,
 "nbformat_minor": 5
}
